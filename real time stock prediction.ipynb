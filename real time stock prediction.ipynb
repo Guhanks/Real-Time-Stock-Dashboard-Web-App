{
  "cells": [
    {
      "cell_type": "code",
      "execution_count": 2,
      "metadata": {},
      "outputs": [
        {
          "name": "stdout",
          "output_type": "stream",
          "text": [
            "Requirement already satisfied: yfinance in c:\\users\\guhan\\anaconda3\\lib\\site-packages (0.2.44)\n",
            "Requirement already satisfied: ipyvuetify in c:\\users\\guhan\\anaconda3\\lib\\site-packages (1.10.0)\n",
            "Requirement already satisfied: cufflinks in c:\\users\\guhan\\anaconda3\\lib\\site-packages (0.17.3)\n",
            "Requirement already satisfied: mercury in c:\\users\\guhan\\anaconda3\\lib\\site-packages (2.4.3)\n",
            "Requirement already satisfied: pandas>=1.3.0 in c:\\users\\guhan\\appdata\\roaming\\python\\python311\\site-packages (from yfinance) (2.2.2)\n",
            "Requirement already satisfied: numpy>=1.16.5 in c:\\users\\guhan\\anaconda3\\lib\\site-packages (from yfinance) (1.24.3)\n",
            "Requirement already satisfied: requests>=2.31 in c:\\users\\guhan\\appdata\\roaming\\python\\python311\\site-packages (from yfinance) (2.32.3)\n",
            "Requirement already satisfied: multitasking>=0.0.7 in c:\\users\\guhan\\anaconda3\\lib\\site-packages (from yfinance) (0.0.11)\n",
            "Requirement already satisfied: lxml>=4.9.1 in c:\\users\\guhan\\anaconda3\\lib\\site-packages (from yfinance) (4.9.3)\n",
            "Requirement already satisfied: platformdirs>=2.0.0 in c:\\users\\guhan\\appdata\\roaming\\python\\python311\\site-packages (from yfinance) (3.11.0)\n",
            "Requirement already satisfied: pytz>=2022.5 in c:\\users\\guhan\\appdata\\roaming\\python\\python311\\site-packages (from yfinance) (2024.1)\n",
            "Requirement already satisfied: frozendict>=2.3.4 in c:\\users\\guhan\\anaconda3\\lib\\site-packages (from yfinance) (2.4.5)\n",
            "Requirement already satisfied: peewee>=3.16.2 in c:\\users\\guhan\\anaconda3\\lib\\site-packages (from yfinance) (3.17.6)\n",
            "Requirement already satisfied: beautifulsoup4>=4.11.1 in c:\\users\\guhan\\appdata\\roaming\\python\\python311\\site-packages (from yfinance) (4.12.3)\n",
            "Requirement already satisfied: html5lib>=1.1 in c:\\users\\guhan\\anaconda3\\lib\\site-packages (from yfinance) (1.1)\n",
            "Requirement already satisfied: ipyvue<2,>=1.7 in c:\\users\\guhan\\anaconda3\\lib\\site-packages (from ipyvuetify) (1.11.1)\n",
            "Requirement already satisfied: plotly>=4.1.1 in c:\\users\\guhan\\anaconda3\\lib\\site-packages (from cufflinks) (5.9.0)\n",
            "Requirement already satisfied: six>=1.9.0 in c:\\users\\guhan\\appdata\\roaming\\python\\python311\\site-packages (from cufflinks) (1.16.0)\n",
            "Requirement already satisfied: colorlover>=0.2.1 in c:\\users\\guhan\\anaconda3\\lib\\site-packages (from cufflinks) (0.3.0)\n",
            "Requirement already satisfied: setuptools>=34.4.1 in c:\\users\\guhan\\anaconda3\\lib\\site-packages (from cufflinks) (68.0.0)\n",
            "Requirement already satisfied: ipython>=5.3.0 in c:\\users\\guhan\\appdata\\roaming\\python\\python311\\site-packages (from cufflinks) (8.26.0)\n",
            "Requirement already satisfied: ipywidgets>=7.0.0 in c:\\users\\guhan\\anaconda3\\lib\\site-packages (from cufflinks) (8.0.3)\n",
            "Requirement already satisfied: django==4.2.7 in c:\\users\\guhan\\anaconda3\\lib\\site-packages (from mercury) (4.2.7)\n",
            "Requirement already satisfied: djangorestframework==3.14.0 in c:\\users\\guhan\\anaconda3\\lib\\site-packages (from mercury) (3.14.0)\n",
            "Requirement already satisfied: django-filter==21.1 in c:\\users\\guhan\\anaconda3\\lib\\site-packages (from mercury) (21.1)\n",
            "Requirement already satisfied: markdown==3.3.6 in c:\\users\\guhan\\anaconda3\\lib\\site-packages (from mercury) (3.3.6)\n",
            "Requirement already satisfied: celery>=5.1.2 in c:\\users\\guhan\\anaconda3\\lib\\site-packages (from mercury) (5.4.0)\n",
            "Requirement already satisfied: sqlalchemy==1.4.27 in c:\\users\\guhan\\anaconda3\\lib\\site-packages (from mercury) (1.4.27)\n",
            "Requirement already satisfied: gevent in c:\\users\\guhan\\anaconda3\\lib\\site-packages (from mercury) (24.10.2)\n",
            "Requirement already satisfied: nbconvert>=7.8.0 in c:\\users\\guhan\\appdata\\roaming\\python\\python311\\site-packages (from mercury) (7.16.3)\n",
            "Requirement already satisfied: ipython-genutils in c:\\users\\guhan\\anaconda3\\lib\\site-packages (from mercury) (0.2.0)\n",
            "Requirement already satisfied: django-cors-headers==3.10.1 in c:\\users\\guhan\\anaconda3\\lib\\site-packages (from mercury) (3.10.1)\n",
            "Requirement already satisfied: ipykernel>=6.6.0 in c:\\users\\guhan\\appdata\\roaming\\python\\python311\\site-packages (from mercury) (6.29.5)\n",
            "Requirement already satisfied: psutil>=5.8.0 in c:\\users\\guhan\\appdata\\roaming\\python\\python311\\site-packages (from mercury) (6.0.0)\n",
            "Requirement already satisfied: whitenoise>=5.3.0 in c:\\users\\guhan\\anaconda3\\lib\\site-packages (from mercury) (6.7.0)\n",
            "Requirement already satisfied: python-dotenv>=0.19.2 in c:\\users\\guhan\\appdata\\roaming\\python\\python311\\site-packages (from mercury) (1.0.1)\n",
            "Requirement already satisfied: django-drf-filepond==0.4.1 in c:\\users\\guhan\\anaconda3\\lib\\site-packages (from mercury) (0.4.1)\n",
            "Requirement already satisfied: croniter>=1.3.5 in c:\\users\\guhan\\anaconda3\\lib\\site-packages (from mercury) (3.0.3)\n",
            "Requirement already satisfied: pyppeteer==1.0.2 in c:\\users\\guhan\\anaconda3\\lib\\site-packages (from mercury) (1.0.2)\n",
            "Requirement already satisfied: channels>=4.0.0 in c:\\users\\guhan\\anaconda3\\lib\\site-packages (from channels[daphne]>=4.0.0->mercury) (4.1.0)\n",
            "Requirement already satisfied: websocket-client>=1.4.2 in c:\\users\\guhan\\appdata\\roaming\\python\\python311\\site-packages (from mercury) (1.7.0)\n",
            "Requirement already satisfied: execnb in c:\\users\\guhan\\anaconda3\\lib\\site-packages (from mercury) (0.1.6)\n",
            "Requirement already satisfied: dj-rest-auth==3.0.0 in c:\\users\\guhan\\anaconda3\\lib\\site-packages (from dj-rest-auth[with_social]==3.0.0->mercury) (3.0.0)\n",
            "Requirement already satisfied: boto3==1.26.83 in c:\\users\\guhan\\anaconda3\\lib\\site-packages (from mercury) (1.26.83)\n",
            "Requirement already satisfied: cryptography in c:\\users\\guhan\\anaconda3\\lib\\site-packages (from mercury) (41.0.3)\n",
            "Requirement already satisfied: pyopenssl>=23.1.1 in c:\\users\\guhan\\anaconda3\\lib\\site-packages (from mercury) (23.2.0)\n",
            "Requirement already satisfied: bleach>=6.0.0 in c:\\users\\guhan\\appdata\\roaming\\python\\python311\\site-packages (from mercury) (6.1.0)\n",
            "Requirement already satisfied: itables>=2.0.0 in c:\\users\\guhan\\anaconda3\\lib\\site-packages (from mercury) (2.2.2)\n",
            "Collecting botocore<1.30.0,>=1.29.83 (from boto3==1.26.83->mercury)\n",
            "  Using cached botocore-1.29.165-py3-none-any.whl.metadata (5.9 kB)\n",
            "Requirement already satisfied: jmespath<2.0.0,>=0.7.1 in c:\\users\\guhan\\appdata\\roaming\\python\\python311\\site-packages (from boto3==1.26.83->mercury) (1.0.1)\n",
            "Requirement already satisfied: s3transfer<0.7.0,>=0.6.0 in c:\\users\\guhan\\anaconda3\\lib\\site-packages (from boto3==1.26.83->mercury) (0.6.2)\n",
            "Requirement already satisfied: django-allauth<0.53.0,>=0.40.0 in c:\\users\\guhan\\anaconda3\\lib\\site-packages (from dj-rest-auth[with_social]==3.0.0->mercury) (0.52.0)\n",
            "Requirement already satisfied: asgiref<4,>=3.6.0 in c:\\users\\guhan\\appdata\\roaming\\python\\python311\\site-packages (from django==4.2.7->mercury) (3.7.2)\n",
            "Requirement already satisfied: sqlparse>=0.3.1 in c:\\users\\guhan\\appdata\\roaming\\python\\python311\\site-packages (from django==4.2.7->mercury) (0.4.4)\n",
            "Requirement already satisfied: tzdata in c:\\users\\guhan\\appdata\\roaming\\python\\python311\\site-packages (from django==4.2.7->mercury) (2023.3)\n",
            "Requirement already satisfied: shortuuid>=0.5.0 in c:\\users\\guhan\\anaconda3\\lib\\site-packages (from django-drf-filepond==0.4.1->mercury) (1.0.13)\n",
            "Requirement already satisfied: django-storages>=1.9.1 in c:\\users\\guhan\\anaconda3\\lib\\site-packages (from django-drf-filepond==0.4.1->mercury) (1.14.4)\n",
            "Requirement already satisfied: traitlets>=4.3.1 in c:\\users\\guhan\\appdata\\roaming\\python\\python311\\site-packages (from ipywidgets>=7.0.0->cufflinks) (5.14.3)\n",
            "Requirement already satisfied: widgetsnbextension~=4.0 in c:\\users\\guhan\\appdata\\roaming\\python\\python311\\site-packages (from ipywidgets>=7.0.0->cufflinks) (4.0.10)\n",
            "Requirement already satisfied: jupyterlab-widgets~=3.0 in c:\\users\\guhan\\appdata\\roaming\\python\\python311\\site-packages (from ipywidgets>=7.0.0->cufflinks) (3.0.10)\n",
            "Requirement already satisfied: appdirs<2.0.0,>=1.4.3 in c:\\users\\guhan\\appdata\\roaming\\python\\python311\\site-packages (from pyppeteer==1.0.2->mercury) (1.4.4)\n",
            "Requirement already satisfied: certifi>=2021 in c:\\users\\guhan\\appdata\\roaming\\python\\python311\\site-packages (from pyppeteer==1.0.2->mercury) (2023.7.22)\n",
            "Requirement already satisfied: importlib-metadata>=1.4 in c:\\users\\guhan\\appdata\\roaming\\python\\python311\\site-packages (from pyppeteer==1.0.2->mercury) (7.1.0)\n",
            "Requirement already satisfied: pyee<9.0.0,>=8.1.0 in c:\\users\\guhan\\anaconda3\\lib\\site-packages (from pyppeteer==1.0.2->mercury) (8.2.2)\n",
            "Requirement already satisfied: tqdm<5.0.0,>=4.42.1 in c:\\users\\guhan\\appdata\\roaming\\python\\python311\\site-packages (from pyppeteer==1.0.2->mercury) (4.66.4)\n",
            "Requirement already satisfied: urllib3<2.0.0,>=1.25.8 in c:\\users\\guhan\\anaconda3\\lib\\site-packages (from pyppeteer==1.0.2->mercury) (1.26.20)\n",
            "Requirement already satisfied: websockets<11.0,>=10.0 in c:\\users\\guhan\\anaconda3\\lib\\site-packages (from pyppeteer==1.0.2->mercury) (10.4)\n",
            "Requirement already satisfied: greenlet!=0.4.17 in c:\\users\\guhan\\anaconda3\\lib\\site-packages (from sqlalchemy==1.4.27->mercury) (3.1.1)\n",
            "Requirement already satisfied: soupsieve>1.2 in c:\\users\\guhan\\appdata\\roaming\\python\\python311\\site-packages (from beautifulsoup4>=4.11.1->yfinance) (2.5)\n",
            "Requirement already satisfied: webencodings in c:\\users\\guhan\\appdata\\roaming\\python\\python311\\site-packages (from bleach>=6.0.0->mercury) (0.5.1)\n",
            "Requirement already satisfied: billiard<5.0,>=4.2.0 in c:\\users\\guhan\\anaconda3\\lib\\site-packages (from celery>=5.1.2->mercury) (4.2.1)\n",
            "Requirement already satisfied: kombu<6.0,>=5.3.4 in c:\\users\\guhan\\anaconda3\\lib\\site-packages (from celery>=5.1.2->mercury) (5.4.2)\n",
            "Requirement already satisfied: vine<6.0,>=5.1.0 in c:\\users\\guhan\\anaconda3\\lib\\site-packages (from celery>=5.1.2->mercury) (5.1.0)\n",
            "Requirement already satisfied: click<9.0,>=8.1.2 in c:\\users\\guhan\\appdata\\roaming\\python\\python311\\site-packages (from celery>=5.1.2->mercury) (8.1.7)\n",
            "Requirement already satisfied: click-didyoumean>=0.3.0 in c:\\users\\guhan\\anaconda3\\lib\\site-packages (from celery>=5.1.2->mercury) (0.3.1)\n",
            "Requirement already satisfied: click-repl>=0.2.0 in c:\\users\\guhan\\anaconda3\\lib\\site-packages (from celery>=5.1.2->mercury) (0.3.0)\n",
            "Requirement already satisfied: click-plugins>=1.1.1 in c:\\users\\guhan\\anaconda3\\lib\\site-packages (from celery>=5.1.2->mercury) (1.1.1)\n",
            "Requirement already satisfied: python-dateutil>=2.8.2 in c:\\users\\guhan\\appdata\\roaming\\python\\python311\\site-packages (from celery>=5.1.2->mercury) (2.9.0.post0)\n",
            "Requirement already satisfied: daphne>=4.0.0 in c:\\users\\guhan\\anaconda3\\lib\\site-packages (from channels[daphne]>=4.0.0->mercury) (4.1.2)\n",
            "Requirement already satisfied: comm>=0.1.1 in c:\\users\\guhan\\appdata\\roaming\\python\\python311\\site-packages (from ipykernel>=6.6.0->mercury) (0.2.2)\n",
            "Requirement already satisfied: debugpy>=1.6.5 in c:\\users\\guhan\\appdata\\roaming\\python\\python311\\site-packages (from ipykernel>=6.6.0->mercury) (1.8.2)\n",
            "Requirement already satisfied: jupyter-client>=6.1.12 in c:\\users\\guhan\\appdata\\roaming\\python\\python311\\site-packages (from ipykernel>=6.6.0->mercury) (8.6.2)\n",
            "Requirement already satisfied: jupyter-core!=5.0.*,>=4.12 in c:\\users\\guhan\\appdata\\roaming\\python\\python311\\site-packages (from ipykernel>=6.6.0->mercury) (5.7.2)\n",
            "Requirement already satisfied: matplotlib-inline>=0.1 in c:\\users\\guhan\\appdata\\roaming\\python\\python311\\site-packages (from ipykernel>=6.6.0->mercury) (0.1.7)\n",
            "Requirement already satisfied: nest-asyncio in c:\\users\\guhan\\appdata\\roaming\\python\\python311\\site-packages (from ipykernel>=6.6.0->mercury) (1.6.0)\n",
            "Requirement already satisfied: packaging in c:\\users\\guhan\\appdata\\roaming\\python\\python311\\site-packages (from ipykernel>=6.6.0->mercury) (24.1)\n",
            "Requirement already satisfied: pyzmq>=24 in c:\\users\\guhan\\appdata\\roaming\\python\\python311\\site-packages (from ipykernel>=6.6.0->mercury) (26.0.3)\n",
            "Requirement already satisfied: tornado>=6.1 in c:\\users\\guhan\\appdata\\roaming\\python\\python311\\site-packages (from ipykernel>=6.6.0->mercury) (6.4.1)\n",
            "Requirement already satisfied: decorator in c:\\users\\guhan\\appdata\\roaming\\python\\python311\\site-packages (from ipython>=5.3.0->cufflinks) (5.1.1)\n",
            "Requirement already satisfied: jedi>=0.16 in c:\\users\\guhan\\appdata\\roaming\\python\\python311\\site-packages (from ipython>=5.3.0->cufflinks) (0.19.1)\n",
            "Requirement already satisfied: prompt-toolkit<3.1.0,>=3.0.41 in c:\\users\\guhan\\appdata\\roaming\\python\\python311\\site-packages (from ipython>=5.3.0->cufflinks) (3.0.47)\n",
            "Requirement already satisfied: pygments>=2.4.0 in c:\\users\\guhan\\appdata\\roaming\\python\\python311\\site-packages (from ipython>=5.3.0->cufflinks) (2.18.0)\n",
            "Requirement already satisfied: stack-data in c:\\users\\guhan\\appdata\\roaming\\python\\python311\\site-packages (from ipython>=5.3.0->cufflinks) (0.6.3)\n",
            "Requirement already satisfied: typing-extensions>=4.6 in c:\\users\\guhan\\appdata\\roaming\\python\\python311\\site-packages (from ipython>=5.3.0->cufflinks) (4.12.2)\n",
            "Requirement already satisfied: colorama in c:\\users\\guhan\\appdata\\roaming\\python\\python311\\site-packages (from ipython>=5.3.0->cufflinks) (0.4.6)\n",
            "Requirement already satisfied: defusedxml in c:\\users\\guhan\\appdata\\roaming\\python\\python311\\site-packages (from nbconvert>=7.8.0->mercury) (0.7.1)\n",
            "Requirement already satisfied: jinja2>=3.0 in c:\\users\\guhan\\appdata\\roaming\\python\\python311\\site-packages (from nbconvert>=7.8.0->mercury) (3.1.3)\n",
            "Requirement already satisfied: jupyterlab-pygments in c:\\users\\guhan\\appdata\\roaming\\python\\python311\\site-packages (from nbconvert>=7.8.0->mercury) (0.3.0)\n",
            "Requirement already satisfied: markupsafe>=2.0 in c:\\users\\guhan\\appdata\\roaming\\python\\python311\\site-packages (from nbconvert>=7.8.0->mercury) (2.1.5)\n",
            "Requirement already satisfied: mistune<4,>=2.0.3 in c:\\users\\guhan\\appdata\\roaming\\python\\python311\\site-packages (from nbconvert>=7.8.0->mercury) (3.0.2)\n",
            "Requirement already satisfied: nbclient>=0.5.0 in c:\\users\\guhan\\appdata\\roaming\\python\\python311\\site-packages (from nbconvert>=7.8.0->mercury) (0.10.0)\n",
            "Requirement already satisfied: nbformat>=5.7 in c:\\users\\guhan\\appdata\\roaming\\python\\python311\\site-packages (from nbconvert>=7.8.0->mercury) (5.10.4)\n",
            "Requirement already satisfied: pandocfilters>=1.4.1 in c:\\users\\guhan\\appdata\\roaming\\python\\python311\\site-packages (from nbconvert>=7.8.0->mercury) (1.5.1)\n",
            "Requirement already satisfied: tinycss2 in c:\\users\\guhan\\appdata\\roaming\\python\\python311\\site-packages (from nbconvert>=7.8.0->mercury) (1.2.1)\n",
            "Requirement already satisfied: tenacity>=6.2.0 in c:\\users\\guhan\\appdata\\roaming\\python\\python311\\site-packages (from plotly>=4.1.1->cufflinks) (8.5.0)\n",
            "Requirement already satisfied: cffi>=1.12 in c:\\users\\guhan\\anaconda3\\lib\\site-packages (from cryptography->mercury) (1.17.1)\n",
            "Requirement already satisfied: charset-normalizer<4,>=2 in c:\\users\\guhan\\appdata\\roaming\\python\\python311\\site-packages (from requests>=2.31->yfinance) (2.1.1)\n",
            "Requirement already satisfied: idna<4,>=2.5 in c:\\users\\guhan\\appdata\\roaming\\python\\python311\\site-packages (from requests>=2.31->yfinance) (2.10)\n",
            "Requirement already satisfied: fastcore>=1.5.5 in c:\\users\\guhan\\anaconda3\\lib\\site-packages (from execnb->mercury) (1.7.14)\n",
            "Requirement already satisfied: zope.event in c:\\users\\guhan\\anaconda3\\lib\\site-packages (from gevent->mercury) (5.0)\n",
            "Requirement already satisfied: zope.interface in c:\\users\\guhan\\anaconda3\\lib\\site-packages (from gevent->mercury) (5.4.0)\n",
            "Requirement already satisfied: pycparser in c:\\users\\guhan\\appdata\\roaming\\python\\python311\\site-packages (from cffi>=1.12->cryptography->mercury) (2.21)\n",
            "Requirement already satisfied: autobahn>=22.4.2 in c:\\users\\guhan\\anaconda3\\lib\\site-packages (from daphne>=4.0.0->channels[daphne]>=4.0.0->mercury) (24.4.2)\n",
            "Requirement already satisfied: twisted>=22.4 in c:\\users\\guhan\\anaconda3\\lib\\site-packages (from twisted[tls]>=22.4->daphne>=4.0.0->channels[daphne]>=4.0.0->mercury) (22.10.0)\n",
            "Requirement already satisfied: python3-openid>=3.0.8 in c:\\users\\guhan\\anaconda3\\lib\\site-packages (from django-allauth<0.53.0,>=0.40.0->dj-rest-auth[with_social]==3.0.0->mercury) (3.2.0)\n",
            "Requirement already satisfied: requests-oauthlib>=0.3.0 in c:\\users\\guhan\\appdata\\roaming\\python\\python311\\site-packages (from django-allauth<0.53.0,>=0.40.0->dj-rest-auth[with_social]==3.0.0->mercury) (2.0.0)\n",
            "Requirement already satisfied: pyjwt>=1.7 in c:\\users\\guhan\\anaconda3\\lib\\site-packages (from pyjwt[crypto]>=1.7->django-allauth<0.53.0,>=0.40.0->dj-rest-auth[with_social]==3.0.0->mercury) (2.4.0)\n",
            "Requirement already satisfied: zipp>=0.5 in c:\\users\\guhan\\appdata\\roaming\\python\\python311\\site-packages (from importlib-metadata>=1.4->pyppeteer==1.0.2->mercury) (3.19.2)\n",
            "Requirement already satisfied: parso<0.9.0,>=0.8.3 in c:\\users\\guhan\\appdata\\roaming\\python\\python311\\site-packages (from jedi>=0.16->ipython>=5.3.0->cufflinks) (0.8.4)\n",
            "Requirement already satisfied: pywin32>=300 in c:\\users\\guhan\\appdata\\roaming\\python\\python311\\site-packages (from jupyter-core!=5.0.*,>=4.12->ipykernel>=6.6.0->mercury) (306)\n",
            "Requirement already satisfied: amqp<6.0.0,>=5.1.1 in c:\\users\\guhan\\anaconda3\\lib\\site-packages (from kombu<6.0,>=5.3.4->celery>=5.1.2->mercury) (5.2.0)\n",
            "Requirement already satisfied: fastjsonschema>=2.15 in c:\\users\\guhan\\appdata\\roaming\\python\\python311\\site-packages (from nbformat>=5.7->nbconvert>=7.8.0->mercury) (2.19.1)\n",
            "Requirement already satisfied: jsonschema>=2.6 in c:\\users\\guhan\\appdata\\roaming\\python\\python311\\site-packages (from nbformat>=5.7->nbconvert>=7.8.0->mercury) (4.21.1)\n",
            "Requirement already satisfied: wcwidth in c:\\users\\guhan\\appdata\\roaming\\python\\python311\\site-packages (from prompt-toolkit<3.1.0,>=3.0.41->ipython>=5.3.0->cufflinks) (0.2.13)\n",
            "Requirement already satisfied: executing>=1.2.0 in c:\\users\\guhan\\appdata\\roaming\\python\\python311\\site-packages (from stack-data->ipython>=5.3.0->cufflinks) (2.0.1)\n",
            "Requirement already satisfied: asttokens>=2.1.0 in c:\\users\\guhan\\appdata\\roaming\\python\\python311\\site-packages (from stack-data->ipython>=5.3.0->cufflinks) (2.4.1)\n",
            "Requirement already satisfied: pure-eval in c:\\users\\guhan\\appdata\\roaming\\python\\python311\\site-packages (from stack-data->ipython>=5.3.0->cufflinks) (0.2.2)\n",
            "Requirement already satisfied: txaio>=21.2.1 in c:\\users\\guhan\\anaconda3\\lib\\site-packages (from autobahn>=22.4.2->daphne>=4.0.0->channels[daphne]>=4.0.0->mercury) (23.1.1)\n",
            "Requirement already satisfied: hyperlink>=21.0.0 in c:\\users\\guhan\\anaconda3\\lib\\site-packages (from autobahn>=22.4.2->daphne>=4.0.0->channels[daphne]>=4.0.0->mercury) (21.0.0)\n",
            "Requirement already satisfied: attrs>=22.2.0 in c:\\users\\guhan\\appdata\\roaming\\python\\python311\\site-packages (from jsonschema>=2.6->nbformat>=5.7->nbconvert>=7.8.0->mercury) (23.2.0)\n",
            "Requirement already satisfied: jsonschema-specifications>=2023.03.6 in c:\\users\\guhan\\appdata\\roaming\\python\\python311\\site-packages (from jsonschema>=2.6->nbformat>=5.7->nbconvert>=7.8.0->mercury) (2023.12.1)\n",
            "Requirement already satisfied: referencing>=0.28.4 in c:\\users\\guhan\\appdata\\roaming\\python\\python311\\site-packages (from jsonschema>=2.6->nbformat>=5.7->nbconvert>=7.8.0->mercury) (0.34.0)\n",
            "Requirement already satisfied: rpds-py>=0.7.1 in c:\\users\\guhan\\appdata\\roaming\\python\\python311\\site-packages (from jsonschema>=2.6->nbformat>=5.7->nbconvert>=7.8.0->mercury) (0.18.0)\n",
            "Requirement already satisfied: oauthlib>=3.0.0 in c:\\users\\guhan\\appdata\\roaming\\python\\python311\\site-packages (from requests-oauthlib>=0.3.0->django-allauth<0.53.0,>=0.40.0->dj-rest-auth[with_social]==3.0.0->mercury) (3.2.2)\n",
            "Requirement already satisfied: constantly>=15.1 in c:\\users\\guhan\\anaconda3\\lib\\site-packages (from twisted>=22.4->twisted[tls]>=22.4->daphne>=4.0.0->channels[daphne]>=4.0.0->mercury) (15.1.0)\n",
            "Requirement already satisfied: incremental>=21.3.0 in c:\\users\\guhan\\anaconda3\\lib\\site-packages (from twisted>=22.4->twisted[tls]>=22.4->daphne>=4.0.0->channels[daphne]>=4.0.0->mercury) (21.3.0)\n",
            "Requirement already satisfied: Automat>=0.8.0 in c:\\users\\guhan\\anaconda3\\lib\\site-packages (from twisted>=22.4->twisted[tls]>=22.4->daphne>=4.0.0->channels[daphne]>=4.0.0->mercury) (20.2.0)\n",
            "Requirement already satisfied: twisted-iocpsupport<2,>=1.0.2 in c:\\users\\guhan\\anaconda3\\lib\\site-packages (from twisted>=22.4->twisted[tls]>=22.4->daphne>=4.0.0->channels[daphne]>=4.0.0->mercury) (1.0.2)\n",
            "Requirement already satisfied: service-identity>=18.1.0 in c:\\users\\guhan\\anaconda3\\lib\\site-packages (from twisted[tls]>=22.4->daphne>=4.0.0->channels[daphne]>=4.0.0->mercury) (18.1.0)\n",
            "Requirement already satisfied: pyasn1-modules in c:\\users\\guhan\\appdata\\roaming\\python\\python311\\site-packages (from service-identity>=18.1.0->twisted[tls]>=22.4->daphne>=4.0.0->channels[daphne]>=4.0.0->mercury) (0.4.0)\n",
            "Requirement already satisfied: pyasn1 in c:\\users\\guhan\\appdata\\roaming\\python\\python311\\site-packages (from service-identity>=18.1.0->twisted[tls]>=22.4->daphne>=4.0.0->channels[daphne]>=4.0.0->mercury) (0.6.0)\n",
            "Using cached botocore-1.29.165-py3-none-any.whl (11.0 MB)\n",
            "Installing collected packages: botocore\n",
            "  Attempting uninstall: botocore\n",
            "    Found existing installation: botocore 1.29.165\n",
            "    Uninstalling botocore-1.29.165:\n",
            "      Successfully uninstalled botocore-1.29.165\n",
            "Successfully installed botocore-1.29.165\n"
          ]
        },
        {
          "name": "stderr",
          "output_type": "stream",
          "text": [
            "ERROR: pip's dependency resolver does not currently take into account all the packages that are installed. This behaviour is the source of the following dependency conflicts.\n",
            "aiobotocore 2.5.0 requires botocore<1.29.77,>=1.29.76, but you have botocore 1.29.165 which is incompatible.\n",
            "s3fs 2023.4.0 requires fsspec==2023.4.0, but you have fsspec 2024.3.1 which is incompatible.\n"
          ]
        }
      ],
      "source": [
        "!pip install yfinance ipyvuetify cufflinks  "
      ]
    },
    {
      "cell_type": "code",
      "execution_count": 3,
      "id": "8db37e40-f9ac-4343-aa17-1353e8b9fff3",
      "metadata": {},
      "outputs": [
        {
          "name": "stderr",
          "output_type": "stream",
          "text": [
            "c:\\Users\\Guhan\\anaconda3\\Lib\\site-packages\\paramiko\\transport.py:219: CryptographyDeprecationWarning:\n",
            "\n",
            "Blowfish has been deprecated\n",
            "\n"
          ]
        },
        {
          "data": {
            "text/html": [
              "        <script type=\"text/javascript\">\n",
              "        window.PlotlyConfig = {MathJaxConfig: 'local'};\n",
              "        if (window.MathJax && window.MathJax.Hub && window.MathJax.Hub.Config) {window.MathJax.Hub.Config({SVG: {font: \"STIX-Web\"}});}\n",
              "        if (typeof require !== 'undefined') {\n",
              "        require.undef(\"plotly\");\n",
              "        requirejs.config({\n",
              "            paths: {\n",
              "                'plotly': ['https://cdn.plot.ly/plotly-2.12.1.min']\n",
              "            }\n",
              "        });\n",
              "        require(['plotly'], function(Plotly) {\n",
              "            window._Plotly = Plotly;\n",
              "        });\n",
              "        }\n",
              "        </script>\n",
              "        "
            ]
          },
          "metadata": {},
          "output_type": "display_data"
        }
      ],
      "source": [
        "import pandas as pd\n",
        "import cufflinks as cf\n",
        "cf.go_offline() # Configure Plotly to work in offline mode\n",
        "import numpy as np\n",
        "import yfinance as yf\n",
        "from datetime import date\n",
        "import warnings\n",
        "warnings.simplefilter(action='ignore', category=FutureWarning)\n",
        "import mercury as mr\n",
        "from dateutil.relativedelta import relativedelta"
      ]
    },
    {
      "cell_type": "code",
      "execution_count": 4,
      "id": "fe7d0f82-8a8d-4a95-a67e-6e57288f72d7",
      "metadata": {},
      "outputs": [
        {
          "data": {
            "application/mercury+json": {
              "allow_download": true,
              "allow_share": true,
              "code_uid": "App.0.50.110.1-randef2f4d2d",
              "continuous_update": true,
              "description": "Dashboard with financial data",
              "full_screen": true,
              "model_id": "mercury-app",
              "notify": "{}",
              "output": "app",
              "schedule": "",
              "show_code": false,
              "show_prompt": false,
              "show_sidebar": true,
              "static_notebook": false,
              "stop_on_error": false,
              "title": "📈 Stock Price Dashboard",
              "widget": "App"
            },
            "text/html": [
              "<h3>Mercury Application</h3><small>This output won't appear in the web app.</small>"
            ],
            "text/plain": [
              "mercury.App"
            ]
          },
          "metadata": {},
          "output_type": "display_data"
        }
      ],
      "source": [
        "app = mr.App(title=\"📈 Stock Price Dashboard\", description=\"Dashboard with financial data\", show_code=False)"
      ]
    },
    {
      "cell_type": "code",
      "execution_count": 16,
      "id": "5a1612e2-55c1-40d6-bca6-a3572bc0c6e6",
      "metadata": {},
      "outputs": [
        {
          "data": {
            "application/mercury+json": {
              "choices": [
                "NVDA",
                "INTC",
                "AMD",
                "TSM",
                "MU"
              ],
              "code_uid": "Select.0.50.104.1-rand23496865",
              "disabled": false,
              "hidden": false,
              "label": "Please select ticker",
              "model_id": "d3453c01f2db4da9b6ba3049a89c28b1",
              "url_key": "",
              "value": "NVDA",
              "widget": "Select"
            },
            "application/vnd.jupyter.widget-view+json": {
              "model_id": "d3453c01f2db4da9b6ba3049a89c28b1",
              "version_major": 2,
              "version_minor": 0
            },
            "text/plain": [
              "mercury.Select"
            ]
          },
          "metadata": {},
          "output_type": "display_data"
        }
      ],
      "source": [
        "ticker = mr.Select(label=\"Please select ticker\", value='NVDA', \n",
        "                   choices=['NVDA', 'INTC', 'AMD', 'TSM', 'MU'])"
      ]
    },
    {
      "cell_type": "code",
      "execution_count": 19,
      "id": "e5a8a7da-9e60-4ba5-86d6-74a4788c497d",
      "metadata": {},
      "outputs": [
        {
          "data": {
            "text/markdown": [
              "# Selected ticker: NVDA"
            ],
            "text/plain": [
              "<IPython.core.display.Markdown object>"
            ]
          },
          "metadata": {},
          "output_type": "display_data"
        }
      ],
      "source": [
        "mr.Md(f\"# Selected ticker: {ticker.value}\")"
      ]
    },
    {
      "cell_type": "code",
      "execution_count": 20,
      "id": "8b217515-0cef-45e9-b175-7d0cb8ccf06a",
      "metadata": {},
      "outputs": [
        {
          "data": {
            "application/mercury+json": {
              "code_uid": "Numeric.0.50.101.1-rand5c24c8c2",
              "disabled": false,
              "hidden": false,
              "label": "Past Month(s)",
              "max": 12,
              "min": 1,
              "model_id": "a9ce184864a748d4a7fbd8a845b30a94",
              "step": 1,
              "url_key": "",
              "value": 3,
              "widget": "Numeric"
            },
            "application/vnd.jupyter.widget-view+json": {
              "model_id": "a9ce184864a748d4a7fbd8a845b30a94",
              "version_major": 2,
              "version_minor": 0
            },
            "text/plain": [
              "mercury.Numeric"
            ]
          },
          "metadata": {},
          "output_type": "display_data"
        }
      ],
      "source": [
        "period = mr.Numeric(label=\"Past Month(s)\", value=3, min=1, max=12)"
      ]
    },
    {
      "cell_type": "code",
      "execution_count": 21,
      "id": "9ab0e91f-72f1-4db2-bf64-acb407be9a54",
      "metadata": {},
      "outputs": [
        {
          "name": "stderr",
          "output_type": "stream",
          "text": [
            "[*********************100%***********************]  1 of 1 completed\n"
          ]
        },
        {
          "data": {
            "text/html": [
              "<div>\n",
              "<style scoped>\n",
              "    .dataframe tbody tr th:only-of-type {\n",
              "        vertical-align: middle;\n",
              "    }\n",
              "\n",
              "    .dataframe tbody tr th {\n",
              "        vertical-align: top;\n",
              "    }\n",
              "\n",
              "    .dataframe thead th {\n",
              "        text-align: right;\n",
              "    }\n",
              "</style>\n",
              "<table border=\"1\" class=\"dataframe\">\n",
              "  <thead>\n",
              "    <tr style=\"text-align: right;\">\n",
              "      <th></th>\n",
              "      <th>Open</th>\n",
              "      <th>High</th>\n",
              "      <th>Low</th>\n",
              "      <th>Close</th>\n",
              "      <th>Adj Close</th>\n",
              "      <th>Volume</th>\n",
              "    </tr>\n",
              "    <tr>\n",
              "      <th>Date</th>\n",
              "      <th></th>\n",
              "      <th></th>\n",
              "      <th></th>\n",
              "      <th></th>\n",
              "      <th></th>\n",
              "      <th></th>\n",
              "    </tr>\n",
              "  </thead>\n",
              "  <tbody>\n",
              "    <tr>\n",
              "      <th>2024-07-15</th>\n",
              "      <td>130.559998</td>\n",
              "      <td>131.389999</td>\n",
              "      <td>127.180000</td>\n",
              "      <td>128.440002</td>\n",
              "      <td>128.429016</td>\n",
              "      <td>208326200</td>\n",
              "    </tr>\n",
              "    <tr>\n",
              "      <th>2024-07-16</th>\n",
              "      <td>128.440002</td>\n",
              "      <td>129.039993</td>\n",
              "      <td>124.580002</td>\n",
              "      <td>126.360001</td>\n",
              "      <td>126.349190</td>\n",
              "      <td>214769500</td>\n",
              "    </tr>\n",
              "    <tr>\n",
              "      <th>2024-07-17</th>\n",
              "      <td>121.349998</td>\n",
              "      <td>121.849998</td>\n",
              "      <td>116.720001</td>\n",
              "      <td>117.989998</td>\n",
              "      <td>117.979904</td>\n",
              "      <td>390086200</td>\n",
              "    </tr>\n",
              "    <tr>\n",
              "      <th>2024-07-18</th>\n",
              "      <td>121.849998</td>\n",
              "      <td>122.400002</td>\n",
              "      <td>116.559998</td>\n",
              "      <td>121.089996</td>\n",
              "      <td>121.079636</td>\n",
              "      <td>320979500</td>\n",
              "    </tr>\n",
              "    <tr>\n",
              "      <th>2024-07-19</th>\n",
              "      <td>120.349998</td>\n",
              "      <td>121.599998</td>\n",
              "      <td>117.370003</td>\n",
              "      <td>117.930000</td>\n",
              "      <td>117.919914</td>\n",
              "      <td>217223800</td>\n",
              "    </tr>\n",
              "    <tr>\n",
              "      <th>...</th>\n",
              "      <td>...</td>\n",
              "      <td>...</td>\n",
              "      <td>...</td>\n",
              "      <td>...</td>\n",
              "      <td>...</td>\n",
              "      <td>...</td>\n",
              "    </tr>\n",
              "    <tr>\n",
              "      <th>2024-10-07</th>\n",
              "      <td>124.989998</td>\n",
              "      <td>130.639999</td>\n",
              "      <td>124.949997</td>\n",
              "      <td>127.720001</td>\n",
              "      <td>127.720001</td>\n",
              "      <td>346250200</td>\n",
              "    </tr>\n",
              "    <tr>\n",
              "      <th>2024-10-08</th>\n",
              "      <td>130.259995</td>\n",
              "      <td>133.479996</td>\n",
              "      <td>129.419998</td>\n",
              "      <td>132.889999</td>\n",
              "      <td>132.889999</td>\n",
              "      <td>285722500</td>\n",
              "    </tr>\n",
              "    <tr>\n",
              "      <th>2024-10-09</th>\n",
              "      <td>134.110001</td>\n",
              "      <td>134.520004</td>\n",
              "      <td>131.380005</td>\n",
              "      <td>132.649994</td>\n",
              "      <td>132.649994</td>\n",
              "      <td>246191600</td>\n",
              "    </tr>\n",
              "    <tr>\n",
              "      <th>2024-10-10</th>\n",
              "      <td>131.910004</td>\n",
              "      <td>135.000000</td>\n",
              "      <td>131.000000</td>\n",
              "      <td>134.809998</td>\n",
              "      <td>134.809998</td>\n",
              "      <td>242311300</td>\n",
              "    </tr>\n",
              "    <tr>\n",
              "      <th>2024-10-11</th>\n",
              "      <td>134.009995</td>\n",
              "      <td>135.779999</td>\n",
              "      <td>133.660004</td>\n",
              "      <td>134.800003</td>\n",
              "      <td>134.800003</td>\n",
              "      <td>169732000</td>\n",
              "    </tr>\n",
              "  </tbody>\n",
              "</table>\n",
              "<p>64 rows × 6 columns</p>\n",
              "</div>"
            ],
            "text/plain": [
              "                  Open        High         Low       Close   Adj Close  \\\n",
              "Date                                                                     \n",
              "2024-07-15  130.559998  131.389999  127.180000  128.440002  128.429016   \n",
              "2024-07-16  128.440002  129.039993  124.580002  126.360001  126.349190   \n",
              "2024-07-17  121.349998  121.849998  116.720001  117.989998  117.979904   \n",
              "2024-07-18  121.849998  122.400002  116.559998  121.089996  121.079636   \n",
              "2024-07-19  120.349998  121.599998  117.370003  117.930000  117.919914   \n",
              "...                ...         ...         ...         ...         ...   \n",
              "2024-10-07  124.989998  130.639999  124.949997  127.720001  127.720001   \n",
              "2024-10-08  130.259995  133.479996  129.419998  132.889999  132.889999   \n",
              "2024-10-09  134.110001  134.520004  131.380005  132.649994  132.649994   \n",
              "2024-10-10  131.910004  135.000000  131.000000  134.809998  134.809998   \n",
              "2024-10-11  134.009995  135.779999  133.660004  134.800003  134.800003   \n",
              "\n",
              "               Volume  \n",
              "Date                   \n",
              "2024-07-15  208326200  \n",
              "2024-07-16  214769500  \n",
              "2024-07-17  390086200  \n",
              "2024-07-18  320979500  \n",
              "2024-07-19  217223800  \n",
              "...               ...  \n",
              "2024-10-07  346250200  \n",
              "2024-10-08  285722500  \n",
              "2024-10-09  246191600  \n",
              "2024-10-10  242311300  \n",
              "2024-10-11  169732000  \n",
              "\n",
              "[64 rows x 6 columns]"
            ]
          },
          "execution_count": 21,
          "metadata": {},
          "output_type": "execute_result"
        }
      ],
      "source": [
        "# Download NVIDIA Corporation (NVDA) stock data for analysis\n",
        "stock_data = yf.download(ticker.value, start=date.today() - relativedelta(months=+period.value), end=date.today())\n",
        "stock_data"
      ]
    },
    {
      "cell_type": "code",
      "execution_count": 22,
      "id": "30e45e83-1145-4e72-b4d2-f92cfb26d3c9",
      "metadata": {},
      "outputs": [
        {
          "data": {
            "application/vnd.plotly.v1+json": {
              "config": {
                "linkText": "Export to plot.ly",
                "plotlyServerURL": "https://plot.ly",
                "showLink": true
              },
              "data": [
                {
                  "line": {
                    "color": "rgba(0, 128, 0, 1.0)",
                    "dash": "solid",
                    "shape": "linear",
                    "width": 1.3
                  },
                  "mode": "lines",
                  "name": "Adj Close",
                  "text": "",
                  "type": "scatter",
                  "x": [
                    "2024-07-15",
                    "2024-07-16",
                    "2024-07-17",
                    "2024-07-18",
                    "2024-07-19",
                    "2024-07-22",
                    "2024-07-23",
                    "2024-07-24",
                    "2024-07-25",
                    "2024-07-26",
                    "2024-07-29",
                    "2024-07-30",
                    "2024-07-31",
                    "2024-08-01",
                    "2024-08-02",
                    "2024-08-05",
                    "2024-08-06",
                    "2024-08-07",
                    "2024-08-08",
                    "2024-08-09",
                    "2024-08-12",
                    "2024-08-13",
                    "2024-08-14",
                    "2024-08-15",
                    "2024-08-16",
                    "2024-08-19",
                    "2024-08-20",
                    "2024-08-21",
                    "2024-08-22",
                    "2024-08-23",
                    "2024-08-26",
                    "2024-08-27",
                    "2024-08-28",
                    "2024-08-29",
                    "2024-08-30",
                    "2024-09-03",
                    "2024-09-04",
                    "2024-09-05",
                    "2024-09-06",
                    "2024-09-09",
                    "2024-09-10",
                    "2024-09-11",
                    "2024-09-12",
                    "2024-09-13",
                    "2024-09-16",
                    "2024-09-17",
                    "2024-09-18",
                    "2024-09-19",
                    "2024-09-20",
                    "2024-09-23",
                    "2024-09-24",
                    "2024-09-25",
                    "2024-09-26",
                    "2024-09-27",
                    "2024-09-30",
                    "2024-10-01",
                    "2024-10-02",
                    "2024-10-03",
                    "2024-10-04",
                    "2024-10-07",
                    "2024-10-08",
                    "2024-10-09",
                    "2024-10-10",
                    "2024-10-11"
                  ],
                  "y": [
                    128.42901611328125,
                    126.34918975830078,
                    117.97990417480469,
                    121.07963562011719,
                    117.91991424560547,
                    123.52943420410156,
                    122.57951354980469,
                    114.24022674560547,
                    112.27039337158203,
                    113.05032348632812,
                    111.58045196533203,
                    103.72113037109375,
                    117.0099868774414,
                    109.2006607055664,
                    107.26081848144531,
                    100.44140625,
                    104.24108123779297,
                    98.90154266357422,
                    104.96102142333984,
                    104.74104309082031,
                    109.01067352294922,
                    116.13006591796875,
                    118.06990051269531,
                    122.84949493408203,
                    124.56934356689453,
                    129.98887634277344,
                    127.2391128540039,
                    128.489013671875,
                    123.72941589355469,
                    129.3589324951172,
                    126.44918060302734,
                    128.28903198242188,
                    125.59925842285156,
                    117.57994079589844,
                    119.35979461669922,
                    107.99076080322266,
                    106.20091247558594,
                    107.2008285522461,
                    102.82120513916016,
                    106.46089172363281,
                    108.09075164794922,
                    116.9000015258789,
                    119.13999938964844,
                    119.0999984741211,
                    116.77999877929688,
                    115.58999633789062,
                    113.37000274658203,
                    117.87000274658203,
                    116,
                    116.26000213623047,
                    120.87000274658203,
                    123.51000213623047,
                    124.04000091552734,
                    121.4000015258789,
                    121.44000244140625,
                    117,
                    118.8499984741211,
                    122.8499984741211,
                    124.91999816894531,
                    127.72000122070312,
                    132.88999938964844,
                    132.64999389648438,
                    134.80999755859375,
                    134.8000030517578
                  ]
                }
              ],
              "layout": {
                "legend": {
                  "bgcolor": "#F5F6F9",
                  "font": {
                    "color": "#4D5663"
                  }
                },
                "paper_bgcolor": "#F5F6F9",
                "plot_bgcolor": "#F5F6F9",
                "template": {
                  "data": {
                    "bar": [
                      {
                        "error_x": {
                          "color": "#2a3f5f"
                        },
                        "error_y": {
                          "color": "#2a3f5f"
                        },
                        "marker": {
                          "line": {
                            "color": "#E5ECF6",
                            "width": 0.5
                          },
                          "pattern": {
                            "fillmode": "overlay",
                            "size": 10,
                            "solidity": 0.2
                          }
                        },
                        "type": "bar"
                      }
                    ],
                    "barpolar": [
                      {
                        "marker": {
                          "line": {
                            "color": "#E5ECF6",
                            "width": 0.5
                          },
                          "pattern": {
                            "fillmode": "overlay",
                            "size": 10,
                            "solidity": 0.2
                          }
                        },
                        "type": "barpolar"
                      }
                    ],
                    "carpet": [
                      {
                        "aaxis": {
                          "endlinecolor": "#2a3f5f",
                          "gridcolor": "white",
                          "linecolor": "white",
                          "minorgridcolor": "white",
                          "startlinecolor": "#2a3f5f"
                        },
                        "baxis": {
                          "endlinecolor": "#2a3f5f",
                          "gridcolor": "white",
                          "linecolor": "white",
                          "minorgridcolor": "white",
                          "startlinecolor": "#2a3f5f"
                        },
                        "type": "carpet"
                      }
                    ],
                    "choropleth": [
                      {
                        "colorbar": {
                          "outlinewidth": 0,
                          "ticks": ""
                        },
                        "type": "choropleth"
                      }
                    ],
                    "contour": [
                      {
                        "colorbar": {
                          "outlinewidth": 0,
                          "ticks": ""
                        },
                        "colorscale": [
                          [
                            0,
                            "#0d0887"
                          ],
                          [
                            0.1111111111111111,
                            "#46039f"
                          ],
                          [
                            0.2222222222222222,
                            "#7201a8"
                          ],
                          [
                            0.3333333333333333,
                            "#9c179e"
                          ],
                          [
                            0.4444444444444444,
                            "#bd3786"
                          ],
                          [
                            0.5555555555555556,
                            "#d8576b"
                          ],
                          [
                            0.6666666666666666,
                            "#ed7953"
                          ],
                          [
                            0.7777777777777778,
                            "#fb9f3a"
                          ],
                          [
                            0.8888888888888888,
                            "#fdca26"
                          ],
                          [
                            1,
                            "#f0f921"
                          ]
                        ],
                        "type": "contour"
                      }
                    ],
                    "contourcarpet": [
                      {
                        "colorbar": {
                          "outlinewidth": 0,
                          "ticks": ""
                        },
                        "type": "contourcarpet"
                      }
                    ],
                    "heatmap": [
                      {
                        "colorbar": {
                          "outlinewidth": 0,
                          "ticks": ""
                        },
                        "colorscale": [
                          [
                            0,
                            "#0d0887"
                          ],
                          [
                            0.1111111111111111,
                            "#46039f"
                          ],
                          [
                            0.2222222222222222,
                            "#7201a8"
                          ],
                          [
                            0.3333333333333333,
                            "#9c179e"
                          ],
                          [
                            0.4444444444444444,
                            "#bd3786"
                          ],
                          [
                            0.5555555555555556,
                            "#d8576b"
                          ],
                          [
                            0.6666666666666666,
                            "#ed7953"
                          ],
                          [
                            0.7777777777777778,
                            "#fb9f3a"
                          ],
                          [
                            0.8888888888888888,
                            "#fdca26"
                          ],
                          [
                            1,
                            "#f0f921"
                          ]
                        ],
                        "type": "heatmap"
                      }
                    ],
                    "heatmapgl": [
                      {
                        "colorbar": {
                          "outlinewidth": 0,
                          "ticks": ""
                        },
                        "colorscale": [
                          [
                            0,
                            "#0d0887"
                          ],
                          [
                            0.1111111111111111,
                            "#46039f"
                          ],
                          [
                            0.2222222222222222,
                            "#7201a8"
                          ],
                          [
                            0.3333333333333333,
                            "#9c179e"
                          ],
                          [
                            0.4444444444444444,
                            "#bd3786"
                          ],
                          [
                            0.5555555555555556,
                            "#d8576b"
                          ],
                          [
                            0.6666666666666666,
                            "#ed7953"
                          ],
                          [
                            0.7777777777777778,
                            "#fb9f3a"
                          ],
                          [
                            0.8888888888888888,
                            "#fdca26"
                          ],
                          [
                            1,
                            "#f0f921"
                          ]
                        ],
                        "type": "heatmapgl"
                      }
                    ],
                    "histogram": [
                      {
                        "marker": {
                          "pattern": {
                            "fillmode": "overlay",
                            "size": 10,
                            "solidity": 0.2
                          }
                        },
                        "type": "histogram"
                      }
                    ],
                    "histogram2d": [
                      {
                        "colorbar": {
                          "outlinewidth": 0,
                          "ticks": ""
                        },
                        "colorscale": [
                          [
                            0,
                            "#0d0887"
                          ],
                          [
                            0.1111111111111111,
                            "#46039f"
                          ],
                          [
                            0.2222222222222222,
                            "#7201a8"
                          ],
                          [
                            0.3333333333333333,
                            "#9c179e"
                          ],
                          [
                            0.4444444444444444,
                            "#bd3786"
                          ],
                          [
                            0.5555555555555556,
                            "#d8576b"
                          ],
                          [
                            0.6666666666666666,
                            "#ed7953"
                          ],
                          [
                            0.7777777777777778,
                            "#fb9f3a"
                          ],
                          [
                            0.8888888888888888,
                            "#fdca26"
                          ],
                          [
                            1,
                            "#f0f921"
                          ]
                        ],
                        "type": "histogram2d"
                      }
                    ],
                    "histogram2dcontour": [
                      {
                        "colorbar": {
                          "outlinewidth": 0,
                          "ticks": ""
                        },
                        "colorscale": [
                          [
                            0,
                            "#0d0887"
                          ],
                          [
                            0.1111111111111111,
                            "#46039f"
                          ],
                          [
                            0.2222222222222222,
                            "#7201a8"
                          ],
                          [
                            0.3333333333333333,
                            "#9c179e"
                          ],
                          [
                            0.4444444444444444,
                            "#bd3786"
                          ],
                          [
                            0.5555555555555556,
                            "#d8576b"
                          ],
                          [
                            0.6666666666666666,
                            "#ed7953"
                          ],
                          [
                            0.7777777777777778,
                            "#fb9f3a"
                          ],
                          [
                            0.8888888888888888,
                            "#fdca26"
                          ],
                          [
                            1,
                            "#f0f921"
                          ]
                        ],
                        "type": "histogram2dcontour"
                      }
                    ],
                    "mesh3d": [
                      {
                        "colorbar": {
                          "outlinewidth": 0,
                          "ticks": ""
                        },
                        "type": "mesh3d"
                      }
                    ],
                    "parcoords": [
                      {
                        "line": {
                          "colorbar": {
                            "outlinewidth": 0,
                            "ticks": ""
                          }
                        },
                        "type": "parcoords"
                      }
                    ],
                    "pie": [
                      {
                        "automargin": true,
                        "type": "pie"
                      }
                    ],
                    "scatter": [
                      {
                        "fillpattern": {
                          "fillmode": "overlay",
                          "size": 10,
                          "solidity": 0.2
                        },
                        "type": "scatter"
                      }
                    ],
                    "scatter3d": [
                      {
                        "line": {
                          "colorbar": {
                            "outlinewidth": 0,
                            "ticks": ""
                          }
                        },
                        "marker": {
                          "colorbar": {
                            "outlinewidth": 0,
                            "ticks": ""
                          }
                        },
                        "type": "scatter3d"
                      }
                    ],
                    "scattercarpet": [
                      {
                        "marker": {
                          "colorbar": {
                            "outlinewidth": 0,
                            "ticks": ""
                          }
                        },
                        "type": "scattercarpet"
                      }
                    ],
                    "scattergeo": [
                      {
                        "marker": {
                          "colorbar": {
                            "outlinewidth": 0,
                            "ticks": ""
                          }
                        },
                        "type": "scattergeo"
                      }
                    ],
                    "scattergl": [
                      {
                        "marker": {
                          "colorbar": {
                            "outlinewidth": 0,
                            "ticks": ""
                          }
                        },
                        "type": "scattergl"
                      }
                    ],
                    "scattermapbox": [
                      {
                        "marker": {
                          "colorbar": {
                            "outlinewidth": 0,
                            "ticks": ""
                          }
                        },
                        "type": "scattermapbox"
                      }
                    ],
                    "scatterpolar": [
                      {
                        "marker": {
                          "colorbar": {
                            "outlinewidth": 0,
                            "ticks": ""
                          }
                        },
                        "type": "scatterpolar"
                      }
                    ],
                    "scatterpolargl": [
                      {
                        "marker": {
                          "colorbar": {
                            "outlinewidth": 0,
                            "ticks": ""
                          }
                        },
                        "type": "scatterpolargl"
                      }
                    ],
                    "scatterternary": [
                      {
                        "marker": {
                          "colorbar": {
                            "outlinewidth": 0,
                            "ticks": ""
                          }
                        },
                        "type": "scatterternary"
                      }
                    ],
                    "surface": [
                      {
                        "colorbar": {
                          "outlinewidth": 0,
                          "ticks": ""
                        },
                        "colorscale": [
                          [
                            0,
                            "#0d0887"
                          ],
                          [
                            0.1111111111111111,
                            "#46039f"
                          ],
                          [
                            0.2222222222222222,
                            "#7201a8"
                          ],
                          [
                            0.3333333333333333,
                            "#9c179e"
                          ],
                          [
                            0.4444444444444444,
                            "#bd3786"
                          ],
                          [
                            0.5555555555555556,
                            "#d8576b"
                          ],
                          [
                            0.6666666666666666,
                            "#ed7953"
                          ],
                          [
                            0.7777777777777778,
                            "#fb9f3a"
                          ],
                          [
                            0.8888888888888888,
                            "#fdca26"
                          ],
                          [
                            1,
                            "#f0f921"
                          ]
                        ],
                        "type": "surface"
                      }
                    ],
                    "table": [
                      {
                        "cells": {
                          "fill": {
                            "color": "#EBF0F8"
                          },
                          "line": {
                            "color": "white"
                          }
                        },
                        "header": {
                          "fill": {
                            "color": "#C8D4E3"
                          },
                          "line": {
                            "color": "white"
                          }
                        },
                        "type": "table"
                      }
                    ]
                  },
                  "layout": {
                    "annotationdefaults": {
                      "arrowcolor": "#2a3f5f",
                      "arrowhead": 0,
                      "arrowwidth": 1
                    },
                    "autotypenumbers": "strict",
                    "coloraxis": {
                      "colorbar": {
                        "outlinewidth": 0,
                        "ticks": ""
                      }
                    },
                    "colorscale": {
                      "diverging": [
                        [
                          0,
                          "#8e0152"
                        ],
                        [
                          0.1,
                          "#c51b7d"
                        ],
                        [
                          0.2,
                          "#de77ae"
                        ],
                        [
                          0.3,
                          "#f1b6da"
                        ],
                        [
                          0.4,
                          "#fde0ef"
                        ],
                        [
                          0.5,
                          "#f7f7f7"
                        ],
                        [
                          0.6,
                          "#e6f5d0"
                        ],
                        [
                          0.7,
                          "#b8e186"
                        ],
                        [
                          0.8,
                          "#7fbc41"
                        ],
                        [
                          0.9,
                          "#4d9221"
                        ],
                        [
                          1,
                          "#276419"
                        ]
                      ],
                      "sequential": [
                        [
                          0,
                          "#0d0887"
                        ],
                        [
                          0.1111111111111111,
                          "#46039f"
                        ],
                        [
                          0.2222222222222222,
                          "#7201a8"
                        ],
                        [
                          0.3333333333333333,
                          "#9c179e"
                        ],
                        [
                          0.4444444444444444,
                          "#bd3786"
                        ],
                        [
                          0.5555555555555556,
                          "#d8576b"
                        ],
                        [
                          0.6666666666666666,
                          "#ed7953"
                        ],
                        [
                          0.7777777777777778,
                          "#fb9f3a"
                        ],
                        [
                          0.8888888888888888,
                          "#fdca26"
                        ],
                        [
                          1,
                          "#f0f921"
                        ]
                      ],
                      "sequentialminus": [
                        [
                          0,
                          "#0d0887"
                        ],
                        [
                          0.1111111111111111,
                          "#46039f"
                        ],
                        [
                          0.2222222222222222,
                          "#7201a8"
                        ],
                        [
                          0.3333333333333333,
                          "#9c179e"
                        ],
                        [
                          0.4444444444444444,
                          "#bd3786"
                        ],
                        [
                          0.5555555555555556,
                          "#d8576b"
                        ],
                        [
                          0.6666666666666666,
                          "#ed7953"
                        ],
                        [
                          0.7777777777777778,
                          "#fb9f3a"
                        ],
                        [
                          0.8888888888888888,
                          "#fdca26"
                        ],
                        [
                          1,
                          "#f0f921"
                        ]
                      ]
                    },
                    "colorway": [
                      "#636efa",
                      "#EF553B",
                      "#00cc96",
                      "#ab63fa",
                      "#FFA15A",
                      "#19d3f3",
                      "#FF6692",
                      "#B6E880",
                      "#FF97FF",
                      "#FECB52"
                    ],
                    "font": {
                      "color": "#2a3f5f"
                    },
                    "geo": {
                      "bgcolor": "white",
                      "lakecolor": "white",
                      "landcolor": "#E5ECF6",
                      "showlakes": true,
                      "showland": true,
                      "subunitcolor": "white"
                    },
                    "hoverlabel": {
                      "align": "left"
                    },
                    "hovermode": "closest",
                    "mapbox": {
                      "style": "light"
                    },
                    "paper_bgcolor": "white",
                    "plot_bgcolor": "#E5ECF6",
                    "polar": {
                      "angularaxis": {
                        "gridcolor": "white",
                        "linecolor": "white",
                        "ticks": ""
                      },
                      "bgcolor": "#E5ECF6",
                      "radialaxis": {
                        "gridcolor": "white",
                        "linecolor": "white",
                        "ticks": ""
                      }
                    },
                    "scene": {
                      "xaxis": {
                        "backgroundcolor": "#E5ECF6",
                        "gridcolor": "white",
                        "gridwidth": 2,
                        "linecolor": "white",
                        "showbackground": true,
                        "ticks": "",
                        "zerolinecolor": "white"
                      },
                      "yaxis": {
                        "backgroundcolor": "#E5ECF6",
                        "gridcolor": "white",
                        "gridwidth": 2,
                        "linecolor": "white",
                        "showbackground": true,
                        "ticks": "",
                        "zerolinecolor": "white"
                      },
                      "zaxis": {
                        "backgroundcolor": "#E5ECF6",
                        "gridcolor": "white",
                        "gridwidth": 2,
                        "linecolor": "white",
                        "showbackground": true,
                        "ticks": "",
                        "zerolinecolor": "white"
                      }
                    },
                    "shapedefaults": {
                      "line": {
                        "color": "#2a3f5f"
                      }
                    },
                    "ternary": {
                      "aaxis": {
                        "gridcolor": "white",
                        "linecolor": "white",
                        "ticks": ""
                      },
                      "baxis": {
                        "gridcolor": "white",
                        "linecolor": "white",
                        "ticks": ""
                      },
                      "bgcolor": "#E5ECF6",
                      "caxis": {
                        "gridcolor": "white",
                        "linecolor": "white",
                        "ticks": ""
                      }
                    },
                    "title": {
                      "x": 0.05
                    },
                    "xaxis": {
                      "automargin": true,
                      "gridcolor": "white",
                      "linecolor": "white",
                      "ticks": "",
                      "title": {
                        "standoff": 15
                      },
                      "zerolinecolor": "white",
                      "zerolinewidth": 2
                    },
                    "yaxis": {
                      "automargin": true,
                      "gridcolor": "white",
                      "linecolor": "white",
                      "ticks": "",
                      "title": {
                        "standoff": 15
                      },
                      "zerolinecolor": "white",
                      "zerolinewidth": 2
                    }
                  }
                },
                "title": {
                  "font": {
                    "color": "#4D5663"
                  },
                  "text": "Adjusted Close"
                },
                "xaxis": {
                  "gridcolor": "#E1E5ED",
                  "showgrid": true,
                  "tickfont": {
                    "color": "#4D5663"
                  },
                  "title": {
                    "font": {
                      "color": "#4D5663"
                    },
                    "text": ""
                  },
                  "zerolinecolor": "#E1E5ED"
                },
                "yaxis": {
                  "gridcolor": "#E1E5ED",
                  "showgrid": true,
                  "tickfont": {
                    "color": "#4D5663"
                  },
                  "title": {
                    "font": {
                      "color": "#4D5663"
                    },
                    "text": ""
                  },
                  "zerolinecolor": "#E1E5ED"
                }
              }
            },
            "text/html": [
              "<div>                            <div id=\"7076d69d-0356-4b35-8989-c3e43e94093f\" class=\"plotly-graph-div\" style=\"height:525px; width:100%;\"></div>            <script type=\"text/javascript\">                require([\"plotly\"], function(Plotly) {                    window.PLOTLYENV=window.PLOTLYENV || {};\n",
              "                    window.PLOTLYENV.BASE_URL='https://plot.ly';                                    if (document.getElementById(\"7076d69d-0356-4b35-8989-c3e43e94093f\")) {                    Plotly.newPlot(                        \"7076d69d-0356-4b35-8989-c3e43e94093f\",                        [{\"line\":{\"color\":\"rgba(0, 128, 0, 1.0)\",\"dash\":\"solid\",\"shape\":\"linear\",\"width\":1.3},\"mode\":\"lines\",\"name\":\"Adj Close\",\"text\":\"\",\"x\":[\"2024-07-15\",\"2024-07-16\",\"2024-07-17\",\"2024-07-18\",\"2024-07-19\",\"2024-07-22\",\"2024-07-23\",\"2024-07-24\",\"2024-07-25\",\"2024-07-26\",\"2024-07-29\",\"2024-07-30\",\"2024-07-31\",\"2024-08-01\",\"2024-08-02\",\"2024-08-05\",\"2024-08-06\",\"2024-08-07\",\"2024-08-08\",\"2024-08-09\",\"2024-08-12\",\"2024-08-13\",\"2024-08-14\",\"2024-08-15\",\"2024-08-16\",\"2024-08-19\",\"2024-08-20\",\"2024-08-21\",\"2024-08-22\",\"2024-08-23\",\"2024-08-26\",\"2024-08-27\",\"2024-08-28\",\"2024-08-29\",\"2024-08-30\",\"2024-09-03\",\"2024-09-04\",\"2024-09-05\",\"2024-09-06\",\"2024-09-09\",\"2024-09-10\",\"2024-09-11\",\"2024-09-12\",\"2024-09-13\",\"2024-09-16\",\"2024-09-17\",\"2024-09-18\",\"2024-09-19\",\"2024-09-20\",\"2024-09-23\",\"2024-09-24\",\"2024-09-25\",\"2024-09-26\",\"2024-09-27\",\"2024-09-30\",\"2024-10-01\",\"2024-10-02\",\"2024-10-03\",\"2024-10-04\",\"2024-10-07\",\"2024-10-08\",\"2024-10-09\",\"2024-10-10\",\"2024-10-11\"],\"y\":[128.42901611328125,126.34918975830078,117.97990417480469,121.07963562011719,117.91991424560547,123.52943420410156,122.57951354980469,114.24022674560547,112.27039337158203,113.05032348632812,111.58045196533203,103.72113037109375,117.0099868774414,109.2006607055664,107.26081848144531,100.44140625,104.24108123779297,98.90154266357422,104.96102142333984,104.74104309082031,109.01067352294922,116.13006591796875,118.06990051269531,122.84949493408203,124.56934356689453,129.98887634277344,127.2391128540039,128.489013671875,123.72941589355469,129.3589324951172,126.44918060302734,128.28903198242188,125.59925842285156,117.57994079589844,119.35979461669922,107.99076080322266,106.20091247558594,107.2008285522461,102.82120513916016,106.46089172363281,108.09075164794922,116.9000015258789,119.13999938964844,119.0999984741211,116.77999877929688,115.58999633789062,113.37000274658203,117.87000274658203,116.0,116.26000213623047,120.87000274658203,123.51000213623047,124.04000091552734,121.4000015258789,121.44000244140625,117.0,118.8499984741211,122.8499984741211,124.91999816894531,127.72000122070312,132.88999938964844,132.64999389648438,134.80999755859375,134.8000030517578],\"type\":\"scatter\"}],                        {\"legend\":{\"bgcolor\":\"#F5F6F9\",\"font\":{\"color\":\"#4D5663\"}},\"paper_bgcolor\":\"#F5F6F9\",\"plot_bgcolor\":\"#F5F6F9\",\"template\":{\"data\":{\"barpolar\":[{\"marker\":{\"line\":{\"color\":\"#E5ECF6\",\"width\":0.5},\"pattern\":{\"fillmode\":\"overlay\",\"size\":10,\"solidity\":0.2}},\"type\":\"barpolar\"}],\"bar\":[{\"error_x\":{\"color\":\"#2a3f5f\"},\"error_y\":{\"color\":\"#2a3f5f\"},\"marker\":{\"line\":{\"color\":\"#E5ECF6\",\"width\":0.5},\"pattern\":{\"fillmode\":\"overlay\",\"size\":10,\"solidity\":0.2}},\"type\":\"bar\"}],\"carpet\":[{\"aaxis\":{\"endlinecolor\":\"#2a3f5f\",\"gridcolor\":\"white\",\"linecolor\":\"white\",\"minorgridcolor\":\"white\",\"startlinecolor\":\"#2a3f5f\"},\"baxis\":{\"endlinecolor\":\"#2a3f5f\",\"gridcolor\":\"white\",\"linecolor\":\"white\",\"minorgridcolor\":\"white\",\"startlinecolor\":\"#2a3f5f\"},\"type\":\"carpet\"}],\"choropleth\":[{\"colorbar\":{\"outlinewidth\":0,\"ticks\":\"\"},\"type\":\"choropleth\"}],\"contourcarpet\":[{\"colorbar\":{\"outlinewidth\":0,\"ticks\":\"\"},\"type\":\"contourcarpet\"}],\"contour\":[{\"colorbar\":{\"outlinewidth\":0,\"ticks\":\"\"},\"colorscale\":[[0.0,\"#0d0887\"],[0.1111111111111111,\"#46039f\"],[0.2222222222222222,\"#7201a8\"],[0.3333333333333333,\"#9c179e\"],[0.4444444444444444,\"#bd3786\"],[0.5555555555555556,\"#d8576b\"],[0.6666666666666666,\"#ed7953\"],[0.7777777777777778,\"#fb9f3a\"],[0.8888888888888888,\"#fdca26\"],[1.0,\"#f0f921\"]],\"type\":\"contour\"}],\"heatmapgl\":[{\"colorbar\":{\"outlinewidth\":0,\"ticks\":\"\"},\"colorscale\":[[0.0,\"#0d0887\"],[0.1111111111111111,\"#46039f\"],[0.2222222222222222,\"#7201a8\"],[0.3333333333333333,\"#9c179e\"],[0.4444444444444444,\"#bd3786\"],[0.5555555555555556,\"#d8576b\"],[0.6666666666666666,\"#ed7953\"],[0.7777777777777778,\"#fb9f3a\"],[0.8888888888888888,\"#fdca26\"],[1.0,\"#f0f921\"]],\"type\":\"heatmapgl\"}],\"heatmap\":[{\"colorbar\":{\"outlinewidth\":0,\"ticks\":\"\"},\"colorscale\":[[0.0,\"#0d0887\"],[0.1111111111111111,\"#46039f\"],[0.2222222222222222,\"#7201a8\"],[0.3333333333333333,\"#9c179e\"],[0.4444444444444444,\"#bd3786\"],[0.5555555555555556,\"#d8576b\"],[0.6666666666666666,\"#ed7953\"],[0.7777777777777778,\"#fb9f3a\"],[0.8888888888888888,\"#fdca26\"],[1.0,\"#f0f921\"]],\"type\":\"heatmap\"}],\"histogram2dcontour\":[{\"colorbar\":{\"outlinewidth\":0,\"ticks\":\"\"},\"colorscale\":[[0.0,\"#0d0887\"],[0.1111111111111111,\"#46039f\"],[0.2222222222222222,\"#7201a8\"],[0.3333333333333333,\"#9c179e\"],[0.4444444444444444,\"#bd3786\"],[0.5555555555555556,\"#d8576b\"],[0.6666666666666666,\"#ed7953\"],[0.7777777777777778,\"#fb9f3a\"],[0.8888888888888888,\"#fdca26\"],[1.0,\"#f0f921\"]],\"type\":\"histogram2dcontour\"}],\"histogram2d\":[{\"colorbar\":{\"outlinewidth\":0,\"ticks\":\"\"},\"colorscale\":[[0.0,\"#0d0887\"],[0.1111111111111111,\"#46039f\"],[0.2222222222222222,\"#7201a8\"],[0.3333333333333333,\"#9c179e\"],[0.4444444444444444,\"#bd3786\"],[0.5555555555555556,\"#d8576b\"],[0.6666666666666666,\"#ed7953\"],[0.7777777777777778,\"#fb9f3a\"],[0.8888888888888888,\"#fdca26\"],[1.0,\"#f0f921\"]],\"type\":\"histogram2d\"}],\"histogram\":[{\"marker\":{\"pattern\":{\"fillmode\":\"overlay\",\"size\":10,\"solidity\":0.2}},\"type\":\"histogram\"}],\"mesh3d\":[{\"colorbar\":{\"outlinewidth\":0,\"ticks\":\"\"},\"type\":\"mesh3d\"}],\"parcoords\":[{\"line\":{\"colorbar\":{\"outlinewidth\":0,\"ticks\":\"\"}},\"type\":\"parcoords\"}],\"pie\":[{\"automargin\":true,\"type\":\"pie\"}],\"scatter3d\":[{\"line\":{\"colorbar\":{\"outlinewidth\":0,\"ticks\":\"\"}},\"marker\":{\"colorbar\":{\"outlinewidth\":0,\"ticks\":\"\"}},\"type\":\"scatter3d\"}],\"scattercarpet\":[{\"marker\":{\"colorbar\":{\"outlinewidth\":0,\"ticks\":\"\"}},\"type\":\"scattercarpet\"}],\"scattergeo\":[{\"marker\":{\"colorbar\":{\"outlinewidth\":0,\"ticks\":\"\"}},\"type\":\"scattergeo\"}],\"scattergl\":[{\"marker\":{\"colorbar\":{\"outlinewidth\":0,\"ticks\":\"\"}},\"type\":\"scattergl\"}],\"scattermapbox\":[{\"marker\":{\"colorbar\":{\"outlinewidth\":0,\"ticks\":\"\"}},\"type\":\"scattermapbox\"}],\"scatterpolargl\":[{\"marker\":{\"colorbar\":{\"outlinewidth\":0,\"ticks\":\"\"}},\"type\":\"scatterpolargl\"}],\"scatterpolar\":[{\"marker\":{\"colorbar\":{\"outlinewidth\":0,\"ticks\":\"\"}},\"type\":\"scatterpolar\"}],\"scatter\":[{\"fillpattern\":{\"fillmode\":\"overlay\",\"size\":10,\"solidity\":0.2},\"type\":\"scatter\"}],\"scatterternary\":[{\"marker\":{\"colorbar\":{\"outlinewidth\":0,\"ticks\":\"\"}},\"type\":\"scatterternary\"}],\"surface\":[{\"colorbar\":{\"outlinewidth\":0,\"ticks\":\"\"},\"colorscale\":[[0.0,\"#0d0887\"],[0.1111111111111111,\"#46039f\"],[0.2222222222222222,\"#7201a8\"],[0.3333333333333333,\"#9c179e\"],[0.4444444444444444,\"#bd3786\"],[0.5555555555555556,\"#d8576b\"],[0.6666666666666666,\"#ed7953\"],[0.7777777777777778,\"#fb9f3a\"],[0.8888888888888888,\"#fdca26\"],[1.0,\"#f0f921\"]],\"type\":\"surface\"}],\"table\":[{\"cells\":{\"fill\":{\"color\":\"#EBF0F8\"},\"line\":{\"color\":\"white\"}},\"header\":{\"fill\":{\"color\":\"#C8D4E3\"},\"line\":{\"color\":\"white\"}},\"type\":\"table\"}]},\"layout\":{\"annotationdefaults\":{\"arrowcolor\":\"#2a3f5f\",\"arrowhead\":0,\"arrowwidth\":1},\"autotypenumbers\":\"strict\",\"coloraxis\":{\"colorbar\":{\"outlinewidth\":0,\"ticks\":\"\"}},\"colorscale\":{\"diverging\":[[0,\"#8e0152\"],[0.1,\"#c51b7d\"],[0.2,\"#de77ae\"],[0.3,\"#f1b6da\"],[0.4,\"#fde0ef\"],[0.5,\"#f7f7f7\"],[0.6,\"#e6f5d0\"],[0.7,\"#b8e186\"],[0.8,\"#7fbc41\"],[0.9,\"#4d9221\"],[1,\"#276419\"]],\"sequential\":[[0.0,\"#0d0887\"],[0.1111111111111111,\"#46039f\"],[0.2222222222222222,\"#7201a8\"],[0.3333333333333333,\"#9c179e\"],[0.4444444444444444,\"#bd3786\"],[0.5555555555555556,\"#d8576b\"],[0.6666666666666666,\"#ed7953\"],[0.7777777777777778,\"#fb9f3a\"],[0.8888888888888888,\"#fdca26\"],[1.0,\"#f0f921\"]],\"sequentialminus\":[[0.0,\"#0d0887\"],[0.1111111111111111,\"#46039f\"],[0.2222222222222222,\"#7201a8\"],[0.3333333333333333,\"#9c179e\"],[0.4444444444444444,\"#bd3786\"],[0.5555555555555556,\"#d8576b\"],[0.6666666666666666,\"#ed7953\"],[0.7777777777777778,\"#fb9f3a\"],[0.8888888888888888,\"#fdca26\"],[1.0,\"#f0f921\"]]},\"colorway\":[\"#636efa\",\"#EF553B\",\"#00cc96\",\"#ab63fa\",\"#FFA15A\",\"#19d3f3\",\"#FF6692\",\"#B6E880\",\"#FF97FF\",\"#FECB52\"],\"font\":{\"color\":\"#2a3f5f\"},\"geo\":{\"bgcolor\":\"white\",\"lakecolor\":\"white\",\"landcolor\":\"#E5ECF6\",\"showlakes\":true,\"showland\":true,\"subunitcolor\":\"white\"},\"hoverlabel\":{\"align\":\"left\"},\"hovermode\":\"closest\",\"mapbox\":{\"style\":\"light\"},\"paper_bgcolor\":\"white\",\"plot_bgcolor\":\"#E5ECF6\",\"polar\":{\"angularaxis\":{\"gridcolor\":\"white\",\"linecolor\":\"white\",\"ticks\":\"\"},\"bgcolor\":\"#E5ECF6\",\"radialaxis\":{\"gridcolor\":\"white\",\"linecolor\":\"white\",\"ticks\":\"\"}},\"scene\":{\"xaxis\":{\"backgroundcolor\":\"#E5ECF6\",\"gridcolor\":\"white\",\"gridwidth\":2,\"linecolor\":\"white\",\"showbackground\":true,\"ticks\":\"\",\"zerolinecolor\":\"white\"},\"yaxis\":{\"backgroundcolor\":\"#E5ECF6\",\"gridcolor\":\"white\",\"gridwidth\":2,\"linecolor\":\"white\",\"showbackground\":true,\"ticks\":\"\",\"zerolinecolor\":\"white\"},\"zaxis\":{\"backgroundcolor\":\"#E5ECF6\",\"gridcolor\":\"white\",\"gridwidth\":2,\"linecolor\":\"white\",\"showbackground\":true,\"ticks\":\"\",\"zerolinecolor\":\"white\"}},\"shapedefaults\":{\"line\":{\"color\":\"#2a3f5f\"}},\"ternary\":{\"aaxis\":{\"gridcolor\":\"white\",\"linecolor\":\"white\",\"ticks\":\"\"},\"baxis\":{\"gridcolor\":\"white\",\"linecolor\":\"white\",\"ticks\":\"\"},\"bgcolor\":\"#E5ECF6\",\"caxis\":{\"gridcolor\":\"white\",\"linecolor\":\"white\",\"ticks\":\"\"}},\"title\":{\"x\":0.05},\"xaxis\":{\"automargin\":true,\"gridcolor\":\"white\",\"linecolor\":\"white\",\"ticks\":\"\",\"title\":{\"standoff\":15},\"zerolinecolor\":\"white\",\"zerolinewidth\":2},\"yaxis\":{\"automargin\":true,\"gridcolor\":\"white\",\"linecolor\":\"white\",\"ticks\":\"\",\"title\":{\"standoff\":15},\"zerolinecolor\":\"white\",\"zerolinewidth\":2}}},\"title\":{\"font\":{\"color\":\"#4D5663\"},\"text\":\"Adjusted Close\"},\"xaxis\":{\"gridcolor\":\"#E1E5ED\",\"showgrid\":true,\"tickfont\":{\"color\":\"#4D5663\"},\"title\":{\"font\":{\"color\":\"#4D5663\"},\"text\":\"\"},\"zerolinecolor\":\"#E1E5ED\"},\"yaxis\":{\"gridcolor\":\"#E1E5ED\",\"showgrid\":true,\"tickfont\":{\"color\":\"#4D5663\"},\"title\":{\"font\":{\"color\":\"#4D5663\"},\"text\":\"\"},\"zerolinecolor\":\"#E1E5ED\"}},                        {\"showLink\": true, \"linkText\": \"Export to plot.ly\", \"plotlyServerURL\": \"https://plot.ly\", \"responsive\": true}                    ).then(function(){\n",
              "                            \n",
              "var gd = document.getElementById('7076d69d-0356-4b35-8989-c3e43e94093f');\n",
              "var x = new MutationObserver(function (mutations, observer) {{\n",
              "        var display = window.getComputedStyle(gd).display;\n",
              "        if (!display || display === 'none') {{\n",
              "            console.log([gd, 'removed!']);\n",
              "            Plotly.purge(gd);\n",
              "            observer.disconnect();\n",
              "        }}\n",
              "}});\n",
              "\n",
              "// Listen for the removal of the full notebook cells\n",
              "var notebookContainer = gd.closest('#notebook-container');\n",
              "if (notebookContainer) {{\n",
              "    x.observe(notebookContainer, {childList: true});\n",
              "}}\n",
              "\n",
              "// Listen for the clearing of the current output cell\n",
              "var outputEl = gd.closest('.output');\n",
              "if (outputEl) {{\n",
              "    x.observe(outputEl, {childList: true});\n",
              "}}\n",
              "\n",
              "                        })                };                });            </script>        </div>"
            ]
          },
          "metadata": {},
          "output_type": "display_data"
        }
      ],
      "source": [
        "# Create and display an interactive line plot of NVDA's Adjusted Close Prices\n",
        "stock_data['Adj Close'].iplot(title='Adjusted Close', colors=['green'])"
      ]
    },
    {
      "cell_type": "code",
      "execution_count": 10,
      "id": "0a5a7a3d-69d5-4341-80e3-80cc4f929bf4",
      "metadata": {},
      "outputs": [
        {
          "data": {
            "application/vnd.plotly.v1+json": {
              "config": {
                "linkText": "Export to plot.ly",
                "plotlyServerURL": "https://plot.ly",
                "showLink": true
              },
              "data": [
                {
                  "fill": "tozeroy",
                  "fillcolor": "rgba(0, 128, 0, 0.3)",
                  "line": {
                    "color": "rgba(0, 128, 0, 1.0)",
                    "dash": "solid",
                    "shape": "linear",
                    "width": 1.3
                  },
                  "mode": "lines",
                  "name": "Adj Close",
                  "text": "",
                  "type": "scatter",
                  "x": [
                    "2024-09-13",
                    "2024-09-16",
                    "2024-09-17",
                    "2024-09-18",
                    "2024-09-19",
                    "2024-09-20",
                    "2024-09-23",
                    "2024-09-24",
                    "2024-09-25",
                    "2024-09-26",
                    "2024-09-27",
                    "2024-09-30",
                    "2024-10-01",
                    "2024-10-02",
                    "2024-10-03",
                    "2024-10-04",
                    "2024-10-07",
                    "2024-10-08",
                    "2024-10-09",
                    "2024-10-10",
                    "2024-10-11"
                  ],
                  "y": [
                    152.30999755859375,
                    152.0800018310547,
                    150.82000732421875,
                    148.2899932861328,
                    156.74000549316406,
                    155.9499969482422,
                    156.75,
                    158.32000732421875,
                    162.02000427246094,
                    167.49000549316406,
                    164.35000610351562,
                    164.0800018310547,
                    159.75,
                    159.77999877929688,
                    162.85000610351562,
                    170.89999389648438,
                    170.97000122070312,
                    172.8000030517578,
                    171.02000427246094,
                    164.17999267578125,
                    167.88999938964844
                  ]
                }
              ],
              "layout": {
                "legend": {
                  "bgcolor": "#F5F6F9",
                  "font": {
                    "color": "#4D5663"
                  }
                },
                "paper_bgcolor": "#F5F6F9",
                "plot_bgcolor": "#F5F6F9",
                "template": {
                  "data": {
                    "bar": [
                      {
                        "error_x": {
                          "color": "#2a3f5f"
                        },
                        "error_y": {
                          "color": "#2a3f5f"
                        },
                        "marker": {
                          "line": {
                            "color": "#E5ECF6",
                            "width": 0.5
                          },
                          "pattern": {
                            "fillmode": "overlay",
                            "size": 10,
                            "solidity": 0.2
                          }
                        },
                        "type": "bar"
                      }
                    ],
                    "barpolar": [
                      {
                        "marker": {
                          "line": {
                            "color": "#E5ECF6",
                            "width": 0.5
                          },
                          "pattern": {
                            "fillmode": "overlay",
                            "size": 10,
                            "solidity": 0.2
                          }
                        },
                        "type": "barpolar"
                      }
                    ],
                    "carpet": [
                      {
                        "aaxis": {
                          "endlinecolor": "#2a3f5f",
                          "gridcolor": "white",
                          "linecolor": "white",
                          "minorgridcolor": "white",
                          "startlinecolor": "#2a3f5f"
                        },
                        "baxis": {
                          "endlinecolor": "#2a3f5f",
                          "gridcolor": "white",
                          "linecolor": "white",
                          "minorgridcolor": "white",
                          "startlinecolor": "#2a3f5f"
                        },
                        "type": "carpet"
                      }
                    ],
                    "choropleth": [
                      {
                        "colorbar": {
                          "outlinewidth": 0,
                          "ticks": ""
                        },
                        "type": "choropleth"
                      }
                    ],
                    "contour": [
                      {
                        "colorbar": {
                          "outlinewidth": 0,
                          "ticks": ""
                        },
                        "colorscale": [
                          [
                            0,
                            "#0d0887"
                          ],
                          [
                            0.1111111111111111,
                            "#46039f"
                          ],
                          [
                            0.2222222222222222,
                            "#7201a8"
                          ],
                          [
                            0.3333333333333333,
                            "#9c179e"
                          ],
                          [
                            0.4444444444444444,
                            "#bd3786"
                          ],
                          [
                            0.5555555555555556,
                            "#d8576b"
                          ],
                          [
                            0.6666666666666666,
                            "#ed7953"
                          ],
                          [
                            0.7777777777777778,
                            "#fb9f3a"
                          ],
                          [
                            0.8888888888888888,
                            "#fdca26"
                          ],
                          [
                            1,
                            "#f0f921"
                          ]
                        ],
                        "type": "contour"
                      }
                    ],
                    "contourcarpet": [
                      {
                        "colorbar": {
                          "outlinewidth": 0,
                          "ticks": ""
                        },
                        "type": "contourcarpet"
                      }
                    ],
                    "heatmap": [
                      {
                        "colorbar": {
                          "outlinewidth": 0,
                          "ticks": ""
                        },
                        "colorscale": [
                          [
                            0,
                            "#0d0887"
                          ],
                          [
                            0.1111111111111111,
                            "#46039f"
                          ],
                          [
                            0.2222222222222222,
                            "#7201a8"
                          ],
                          [
                            0.3333333333333333,
                            "#9c179e"
                          ],
                          [
                            0.4444444444444444,
                            "#bd3786"
                          ],
                          [
                            0.5555555555555556,
                            "#d8576b"
                          ],
                          [
                            0.6666666666666666,
                            "#ed7953"
                          ],
                          [
                            0.7777777777777778,
                            "#fb9f3a"
                          ],
                          [
                            0.8888888888888888,
                            "#fdca26"
                          ],
                          [
                            1,
                            "#f0f921"
                          ]
                        ],
                        "type": "heatmap"
                      }
                    ],
                    "heatmapgl": [
                      {
                        "colorbar": {
                          "outlinewidth": 0,
                          "ticks": ""
                        },
                        "colorscale": [
                          [
                            0,
                            "#0d0887"
                          ],
                          [
                            0.1111111111111111,
                            "#46039f"
                          ],
                          [
                            0.2222222222222222,
                            "#7201a8"
                          ],
                          [
                            0.3333333333333333,
                            "#9c179e"
                          ],
                          [
                            0.4444444444444444,
                            "#bd3786"
                          ],
                          [
                            0.5555555555555556,
                            "#d8576b"
                          ],
                          [
                            0.6666666666666666,
                            "#ed7953"
                          ],
                          [
                            0.7777777777777778,
                            "#fb9f3a"
                          ],
                          [
                            0.8888888888888888,
                            "#fdca26"
                          ],
                          [
                            1,
                            "#f0f921"
                          ]
                        ],
                        "type": "heatmapgl"
                      }
                    ],
                    "histogram": [
                      {
                        "marker": {
                          "pattern": {
                            "fillmode": "overlay",
                            "size": 10,
                            "solidity": 0.2
                          }
                        },
                        "type": "histogram"
                      }
                    ],
                    "histogram2d": [
                      {
                        "colorbar": {
                          "outlinewidth": 0,
                          "ticks": ""
                        },
                        "colorscale": [
                          [
                            0,
                            "#0d0887"
                          ],
                          [
                            0.1111111111111111,
                            "#46039f"
                          ],
                          [
                            0.2222222222222222,
                            "#7201a8"
                          ],
                          [
                            0.3333333333333333,
                            "#9c179e"
                          ],
                          [
                            0.4444444444444444,
                            "#bd3786"
                          ],
                          [
                            0.5555555555555556,
                            "#d8576b"
                          ],
                          [
                            0.6666666666666666,
                            "#ed7953"
                          ],
                          [
                            0.7777777777777778,
                            "#fb9f3a"
                          ],
                          [
                            0.8888888888888888,
                            "#fdca26"
                          ],
                          [
                            1,
                            "#f0f921"
                          ]
                        ],
                        "type": "histogram2d"
                      }
                    ],
                    "histogram2dcontour": [
                      {
                        "colorbar": {
                          "outlinewidth": 0,
                          "ticks": ""
                        },
                        "colorscale": [
                          [
                            0,
                            "#0d0887"
                          ],
                          [
                            0.1111111111111111,
                            "#46039f"
                          ],
                          [
                            0.2222222222222222,
                            "#7201a8"
                          ],
                          [
                            0.3333333333333333,
                            "#9c179e"
                          ],
                          [
                            0.4444444444444444,
                            "#bd3786"
                          ],
                          [
                            0.5555555555555556,
                            "#d8576b"
                          ],
                          [
                            0.6666666666666666,
                            "#ed7953"
                          ],
                          [
                            0.7777777777777778,
                            "#fb9f3a"
                          ],
                          [
                            0.8888888888888888,
                            "#fdca26"
                          ],
                          [
                            1,
                            "#f0f921"
                          ]
                        ],
                        "type": "histogram2dcontour"
                      }
                    ],
                    "mesh3d": [
                      {
                        "colorbar": {
                          "outlinewidth": 0,
                          "ticks": ""
                        },
                        "type": "mesh3d"
                      }
                    ],
                    "parcoords": [
                      {
                        "line": {
                          "colorbar": {
                            "outlinewidth": 0,
                            "ticks": ""
                          }
                        },
                        "type": "parcoords"
                      }
                    ],
                    "pie": [
                      {
                        "automargin": true,
                        "type": "pie"
                      }
                    ],
                    "scatter": [
                      {
                        "fillpattern": {
                          "fillmode": "overlay",
                          "size": 10,
                          "solidity": 0.2
                        },
                        "type": "scatter"
                      }
                    ],
                    "scatter3d": [
                      {
                        "line": {
                          "colorbar": {
                            "outlinewidth": 0,
                            "ticks": ""
                          }
                        },
                        "marker": {
                          "colorbar": {
                            "outlinewidth": 0,
                            "ticks": ""
                          }
                        },
                        "type": "scatter3d"
                      }
                    ],
                    "scattercarpet": [
                      {
                        "marker": {
                          "colorbar": {
                            "outlinewidth": 0,
                            "ticks": ""
                          }
                        },
                        "type": "scattercarpet"
                      }
                    ],
                    "scattergeo": [
                      {
                        "marker": {
                          "colorbar": {
                            "outlinewidth": 0,
                            "ticks": ""
                          }
                        },
                        "type": "scattergeo"
                      }
                    ],
                    "scattergl": [
                      {
                        "marker": {
                          "colorbar": {
                            "outlinewidth": 0,
                            "ticks": ""
                          }
                        },
                        "type": "scattergl"
                      }
                    ],
                    "scattermapbox": [
                      {
                        "marker": {
                          "colorbar": {
                            "outlinewidth": 0,
                            "ticks": ""
                          }
                        },
                        "type": "scattermapbox"
                      }
                    ],
                    "scatterpolar": [
                      {
                        "marker": {
                          "colorbar": {
                            "outlinewidth": 0,
                            "ticks": ""
                          }
                        },
                        "type": "scatterpolar"
                      }
                    ],
                    "scatterpolargl": [
                      {
                        "marker": {
                          "colorbar": {
                            "outlinewidth": 0,
                            "ticks": ""
                          }
                        },
                        "type": "scatterpolargl"
                      }
                    ],
                    "scatterternary": [
                      {
                        "marker": {
                          "colorbar": {
                            "outlinewidth": 0,
                            "ticks": ""
                          }
                        },
                        "type": "scatterternary"
                      }
                    ],
                    "surface": [
                      {
                        "colorbar": {
                          "outlinewidth": 0,
                          "ticks": ""
                        },
                        "colorscale": [
                          [
                            0,
                            "#0d0887"
                          ],
                          [
                            0.1111111111111111,
                            "#46039f"
                          ],
                          [
                            0.2222222222222222,
                            "#7201a8"
                          ],
                          [
                            0.3333333333333333,
                            "#9c179e"
                          ],
                          [
                            0.4444444444444444,
                            "#bd3786"
                          ],
                          [
                            0.5555555555555556,
                            "#d8576b"
                          ],
                          [
                            0.6666666666666666,
                            "#ed7953"
                          ],
                          [
                            0.7777777777777778,
                            "#fb9f3a"
                          ],
                          [
                            0.8888888888888888,
                            "#fdca26"
                          ],
                          [
                            1,
                            "#f0f921"
                          ]
                        ],
                        "type": "surface"
                      }
                    ],
                    "table": [
                      {
                        "cells": {
                          "fill": {
                            "color": "#EBF0F8"
                          },
                          "line": {
                            "color": "white"
                          }
                        },
                        "header": {
                          "fill": {
                            "color": "#C8D4E3"
                          },
                          "line": {
                            "color": "white"
                          }
                        },
                        "type": "table"
                      }
                    ]
                  },
                  "layout": {
                    "annotationdefaults": {
                      "arrowcolor": "#2a3f5f",
                      "arrowhead": 0,
                      "arrowwidth": 1
                    },
                    "autotypenumbers": "strict",
                    "coloraxis": {
                      "colorbar": {
                        "outlinewidth": 0,
                        "ticks": ""
                      }
                    },
                    "colorscale": {
                      "diverging": [
                        [
                          0,
                          "#8e0152"
                        ],
                        [
                          0.1,
                          "#c51b7d"
                        ],
                        [
                          0.2,
                          "#de77ae"
                        ],
                        [
                          0.3,
                          "#f1b6da"
                        ],
                        [
                          0.4,
                          "#fde0ef"
                        ],
                        [
                          0.5,
                          "#f7f7f7"
                        ],
                        [
                          0.6,
                          "#e6f5d0"
                        ],
                        [
                          0.7,
                          "#b8e186"
                        ],
                        [
                          0.8,
                          "#7fbc41"
                        ],
                        [
                          0.9,
                          "#4d9221"
                        ],
                        [
                          1,
                          "#276419"
                        ]
                      ],
                      "sequential": [
                        [
                          0,
                          "#0d0887"
                        ],
                        [
                          0.1111111111111111,
                          "#46039f"
                        ],
                        [
                          0.2222222222222222,
                          "#7201a8"
                        ],
                        [
                          0.3333333333333333,
                          "#9c179e"
                        ],
                        [
                          0.4444444444444444,
                          "#bd3786"
                        ],
                        [
                          0.5555555555555556,
                          "#d8576b"
                        ],
                        [
                          0.6666666666666666,
                          "#ed7953"
                        ],
                        [
                          0.7777777777777778,
                          "#fb9f3a"
                        ],
                        [
                          0.8888888888888888,
                          "#fdca26"
                        ],
                        [
                          1,
                          "#f0f921"
                        ]
                      ],
                      "sequentialminus": [
                        [
                          0,
                          "#0d0887"
                        ],
                        [
                          0.1111111111111111,
                          "#46039f"
                        ],
                        [
                          0.2222222222222222,
                          "#7201a8"
                        ],
                        [
                          0.3333333333333333,
                          "#9c179e"
                        ],
                        [
                          0.4444444444444444,
                          "#bd3786"
                        ],
                        [
                          0.5555555555555556,
                          "#d8576b"
                        ],
                        [
                          0.6666666666666666,
                          "#ed7953"
                        ],
                        [
                          0.7777777777777778,
                          "#fb9f3a"
                        ],
                        [
                          0.8888888888888888,
                          "#fdca26"
                        ],
                        [
                          1,
                          "#f0f921"
                        ]
                      ]
                    },
                    "colorway": [
                      "#636efa",
                      "#EF553B",
                      "#00cc96",
                      "#ab63fa",
                      "#FFA15A",
                      "#19d3f3",
                      "#FF6692",
                      "#B6E880",
                      "#FF97FF",
                      "#FECB52"
                    ],
                    "font": {
                      "color": "#2a3f5f"
                    },
                    "geo": {
                      "bgcolor": "white",
                      "lakecolor": "white",
                      "landcolor": "#E5ECF6",
                      "showlakes": true,
                      "showland": true,
                      "subunitcolor": "white"
                    },
                    "hoverlabel": {
                      "align": "left"
                    },
                    "hovermode": "closest",
                    "mapbox": {
                      "style": "light"
                    },
                    "paper_bgcolor": "white",
                    "plot_bgcolor": "#E5ECF6",
                    "polar": {
                      "angularaxis": {
                        "gridcolor": "white",
                        "linecolor": "white",
                        "ticks": ""
                      },
                      "bgcolor": "#E5ECF6",
                      "radialaxis": {
                        "gridcolor": "white",
                        "linecolor": "white",
                        "ticks": ""
                      }
                    },
                    "scene": {
                      "xaxis": {
                        "backgroundcolor": "#E5ECF6",
                        "gridcolor": "white",
                        "gridwidth": 2,
                        "linecolor": "white",
                        "showbackground": true,
                        "ticks": "",
                        "zerolinecolor": "white"
                      },
                      "yaxis": {
                        "backgroundcolor": "#E5ECF6",
                        "gridcolor": "white",
                        "gridwidth": 2,
                        "linecolor": "white",
                        "showbackground": true,
                        "ticks": "",
                        "zerolinecolor": "white"
                      },
                      "zaxis": {
                        "backgroundcolor": "#E5ECF6",
                        "gridcolor": "white",
                        "gridwidth": 2,
                        "linecolor": "white",
                        "showbackground": true,
                        "ticks": "",
                        "zerolinecolor": "white"
                      }
                    },
                    "shapedefaults": {
                      "line": {
                        "color": "#2a3f5f"
                      }
                    },
                    "ternary": {
                      "aaxis": {
                        "gridcolor": "white",
                        "linecolor": "white",
                        "ticks": ""
                      },
                      "baxis": {
                        "gridcolor": "white",
                        "linecolor": "white",
                        "ticks": ""
                      },
                      "bgcolor": "#E5ECF6",
                      "caxis": {
                        "gridcolor": "white",
                        "linecolor": "white",
                        "ticks": ""
                      }
                    },
                    "title": {
                      "x": 0.05
                    },
                    "xaxis": {
                      "automargin": true,
                      "gridcolor": "white",
                      "linecolor": "white",
                      "ticks": "",
                      "title": {
                        "standoff": 15
                      },
                      "zerolinecolor": "white",
                      "zerolinewidth": 2
                    },
                    "yaxis": {
                      "automargin": true,
                      "gridcolor": "white",
                      "linecolor": "white",
                      "ticks": "",
                      "title": {
                        "standoff": 15
                      },
                      "zerolinecolor": "white",
                      "zerolinewidth": 2
                    }
                  }
                },
                "title": {
                  "font": {
                    "color": "#4D5663"
                  },
                  "text": "Adjusted Close (Filled Area)"
                },
                "xaxis": {
                  "gridcolor": "#E1E5ED",
                  "showgrid": true,
                  "tickfont": {
                    "color": "#4D5663"
                  },
                  "title": {
                    "font": {
                      "color": "#4D5663"
                    },
                    "text": ""
                  },
                  "zerolinecolor": "#E1E5ED"
                },
                "yaxis": {
                  "gridcolor": "#E1E5ED",
                  "showgrid": true,
                  "tickfont": {
                    "color": "#4D5663"
                  },
                  "title": {
                    "font": {
                      "color": "#4D5663"
                    },
                    "text": ""
                  },
                  "zerolinecolor": "#E1E5ED"
                }
              }
            },
            "text/html": [
              "<div>                            <div id=\"eb264c39-950e-4b10-bddf-f4db29956d42\" class=\"plotly-graph-div\" style=\"height:525px; width:100%;\"></div>            <script type=\"text/javascript\">                require([\"plotly\"], function(Plotly) {                    window.PLOTLYENV=window.PLOTLYENV || {};\n",
              "                    window.PLOTLYENV.BASE_URL='https://plot.ly';                                    if (document.getElementById(\"eb264c39-950e-4b10-bddf-f4db29956d42\")) {                    Plotly.newPlot(                        \"eb264c39-950e-4b10-bddf-f4db29956d42\",                        [{\"fill\":\"tozeroy\",\"fillcolor\":\"rgba(0, 128, 0, 0.3)\",\"line\":{\"color\":\"rgba(0, 128, 0, 1.0)\",\"dash\":\"solid\",\"shape\":\"linear\",\"width\":1.3},\"mode\":\"lines\",\"name\":\"Adj Close\",\"text\":\"\",\"x\":[\"2024-09-13\",\"2024-09-16\",\"2024-09-17\",\"2024-09-18\",\"2024-09-19\",\"2024-09-20\",\"2024-09-23\",\"2024-09-24\",\"2024-09-25\",\"2024-09-26\",\"2024-09-27\",\"2024-09-30\",\"2024-10-01\",\"2024-10-02\",\"2024-10-03\",\"2024-10-04\",\"2024-10-07\",\"2024-10-08\",\"2024-10-09\",\"2024-10-10\",\"2024-10-11\"],\"y\":[152.30999755859375,152.0800018310547,150.82000732421875,148.2899932861328,156.74000549316406,155.9499969482422,156.75,158.32000732421875,162.02000427246094,167.49000549316406,164.35000610351562,164.0800018310547,159.75,159.77999877929688,162.85000610351562,170.89999389648438,170.97000122070312,172.8000030517578,171.02000427246094,164.17999267578125,167.88999938964844],\"type\":\"scatter\"}],                        {\"legend\":{\"bgcolor\":\"#F5F6F9\",\"font\":{\"color\":\"#4D5663\"}},\"paper_bgcolor\":\"#F5F6F9\",\"plot_bgcolor\":\"#F5F6F9\",\"template\":{\"data\":{\"barpolar\":[{\"marker\":{\"line\":{\"color\":\"#E5ECF6\",\"width\":0.5},\"pattern\":{\"fillmode\":\"overlay\",\"size\":10,\"solidity\":0.2}},\"type\":\"barpolar\"}],\"bar\":[{\"error_x\":{\"color\":\"#2a3f5f\"},\"error_y\":{\"color\":\"#2a3f5f\"},\"marker\":{\"line\":{\"color\":\"#E5ECF6\",\"width\":0.5},\"pattern\":{\"fillmode\":\"overlay\",\"size\":10,\"solidity\":0.2}},\"type\":\"bar\"}],\"carpet\":[{\"aaxis\":{\"endlinecolor\":\"#2a3f5f\",\"gridcolor\":\"white\",\"linecolor\":\"white\",\"minorgridcolor\":\"white\",\"startlinecolor\":\"#2a3f5f\"},\"baxis\":{\"endlinecolor\":\"#2a3f5f\",\"gridcolor\":\"white\",\"linecolor\":\"white\",\"minorgridcolor\":\"white\",\"startlinecolor\":\"#2a3f5f\"},\"type\":\"carpet\"}],\"choropleth\":[{\"colorbar\":{\"outlinewidth\":0,\"ticks\":\"\"},\"type\":\"choropleth\"}],\"contourcarpet\":[{\"colorbar\":{\"outlinewidth\":0,\"ticks\":\"\"},\"type\":\"contourcarpet\"}],\"contour\":[{\"colorbar\":{\"outlinewidth\":0,\"ticks\":\"\"},\"colorscale\":[[0.0,\"#0d0887\"],[0.1111111111111111,\"#46039f\"],[0.2222222222222222,\"#7201a8\"],[0.3333333333333333,\"#9c179e\"],[0.4444444444444444,\"#bd3786\"],[0.5555555555555556,\"#d8576b\"],[0.6666666666666666,\"#ed7953\"],[0.7777777777777778,\"#fb9f3a\"],[0.8888888888888888,\"#fdca26\"],[1.0,\"#f0f921\"]],\"type\":\"contour\"}],\"heatmapgl\":[{\"colorbar\":{\"outlinewidth\":0,\"ticks\":\"\"},\"colorscale\":[[0.0,\"#0d0887\"],[0.1111111111111111,\"#46039f\"],[0.2222222222222222,\"#7201a8\"],[0.3333333333333333,\"#9c179e\"],[0.4444444444444444,\"#bd3786\"],[0.5555555555555556,\"#d8576b\"],[0.6666666666666666,\"#ed7953\"],[0.7777777777777778,\"#fb9f3a\"],[0.8888888888888888,\"#fdca26\"],[1.0,\"#f0f921\"]],\"type\":\"heatmapgl\"}],\"heatmap\":[{\"colorbar\":{\"outlinewidth\":0,\"ticks\":\"\"},\"colorscale\":[[0.0,\"#0d0887\"],[0.1111111111111111,\"#46039f\"],[0.2222222222222222,\"#7201a8\"],[0.3333333333333333,\"#9c179e\"],[0.4444444444444444,\"#bd3786\"],[0.5555555555555556,\"#d8576b\"],[0.6666666666666666,\"#ed7953\"],[0.7777777777777778,\"#fb9f3a\"],[0.8888888888888888,\"#fdca26\"],[1.0,\"#f0f921\"]],\"type\":\"heatmap\"}],\"histogram2dcontour\":[{\"colorbar\":{\"outlinewidth\":0,\"ticks\":\"\"},\"colorscale\":[[0.0,\"#0d0887\"],[0.1111111111111111,\"#46039f\"],[0.2222222222222222,\"#7201a8\"],[0.3333333333333333,\"#9c179e\"],[0.4444444444444444,\"#bd3786\"],[0.5555555555555556,\"#d8576b\"],[0.6666666666666666,\"#ed7953\"],[0.7777777777777778,\"#fb9f3a\"],[0.8888888888888888,\"#fdca26\"],[1.0,\"#f0f921\"]],\"type\":\"histogram2dcontour\"}],\"histogram2d\":[{\"colorbar\":{\"outlinewidth\":0,\"ticks\":\"\"},\"colorscale\":[[0.0,\"#0d0887\"],[0.1111111111111111,\"#46039f\"],[0.2222222222222222,\"#7201a8\"],[0.3333333333333333,\"#9c179e\"],[0.4444444444444444,\"#bd3786\"],[0.5555555555555556,\"#d8576b\"],[0.6666666666666666,\"#ed7953\"],[0.7777777777777778,\"#fb9f3a\"],[0.8888888888888888,\"#fdca26\"],[1.0,\"#f0f921\"]],\"type\":\"histogram2d\"}],\"histogram\":[{\"marker\":{\"pattern\":{\"fillmode\":\"overlay\",\"size\":10,\"solidity\":0.2}},\"type\":\"histogram\"}],\"mesh3d\":[{\"colorbar\":{\"outlinewidth\":0,\"ticks\":\"\"},\"type\":\"mesh3d\"}],\"parcoords\":[{\"line\":{\"colorbar\":{\"outlinewidth\":0,\"ticks\":\"\"}},\"type\":\"parcoords\"}],\"pie\":[{\"automargin\":true,\"type\":\"pie\"}],\"scatter3d\":[{\"line\":{\"colorbar\":{\"outlinewidth\":0,\"ticks\":\"\"}},\"marker\":{\"colorbar\":{\"outlinewidth\":0,\"ticks\":\"\"}},\"type\":\"scatter3d\"}],\"scattercarpet\":[{\"marker\":{\"colorbar\":{\"outlinewidth\":0,\"ticks\":\"\"}},\"type\":\"scattercarpet\"}],\"scattergeo\":[{\"marker\":{\"colorbar\":{\"outlinewidth\":0,\"ticks\":\"\"}},\"type\":\"scattergeo\"}],\"scattergl\":[{\"marker\":{\"colorbar\":{\"outlinewidth\":0,\"ticks\":\"\"}},\"type\":\"scattergl\"}],\"scattermapbox\":[{\"marker\":{\"colorbar\":{\"outlinewidth\":0,\"ticks\":\"\"}},\"type\":\"scattermapbox\"}],\"scatterpolargl\":[{\"marker\":{\"colorbar\":{\"outlinewidth\":0,\"ticks\":\"\"}},\"type\":\"scatterpolargl\"}],\"scatterpolar\":[{\"marker\":{\"colorbar\":{\"outlinewidth\":0,\"ticks\":\"\"}},\"type\":\"scatterpolar\"}],\"scatter\":[{\"fillpattern\":{\"fillmode\":\"overlay\",\"size\":10,\"solidity\":0.2},\"type\":\"scatter\"}],\"scatterternary\":[{\"marker\":{\"colorbar\":{\"outlinewidth\":0,\"ticks\":\"\"}},\"type\":\"scatterternary\"}],\"surface\":[{\"colorbar\":{\"outlinewidth\":0,\"ticks\":\"\"},\"colorscale\":[[0.0,\"#0d0887\"],[0.1111111111111111,\"#46039f\"],[0.2222222222222222,\"#7201a8\"],[0.3333333333333333,\"#9c179e\"],[0.4444444444444444,\"#bd3786\"],[0.5555555555555556,\"#d8576b\"],[0.6666666666666666,\"#ed7953\"],[0.7777777777777778,\"#fb9f3a\"],[0.8888888888888888,\"#fdca26\"],[1.0,\"#f0f921\"]],\"type\":\"surface\"}],\"table\":[{\"cells\":{\"fill\":{\"color\":\"#EBF0F8\"},\"line\":{\"color\":\"white\"}},\"header\":{\"fill\":{\"color\":\"#C8D4E3\"},\"line\":{\"color\":\"white\"}},\"type\":\"table\"}]},\"layout\":{\"annotationdefaults\":{\"arrowcolor\":\"#2a3f5f\",\"arrowhead\":0,\"arrowwidth\":1},\"autotypenumbers\":\"strict\",\"coloraxis\":{\"colorbar\":{\"outlinewidth\":0,\"ticks\":\"\"}},\"colorscale\":{\"diverging\":[[0,\"#8e0152\"],[0.1,\"#c51b7d\"],[0.2,\"#de77ae\"],[0.3,\"#f1b6da\"],[0.4,\"#fde0ef\"],[0.5,\"#f7f7f7\"],[0.6,\"#e6f5d0\"],[0.7,\"#b8e186\"],[0.8,\"#7fbc41\"],[0.9,\"#4d9221\"],[1,\"#276419\"]],\"sequential\":[[0.0,\"#0d0887\"],[0.1111111111111111,\"#46039f\"],[0.2222222222222222,\"#7201a8\"],[0.3333333333333333,\"#9c179e\"],[0.4444444444444444,\"#bd3786\"],[0.5555555555555556,\"#d8576b\"],[0.6666666666666666,\"#ed7953\"],[0.7777777777777778,\"#fb9f3a\"],[0.8888888888888888,\"#fdca26\"],[1.0,\"#f0f921\"]],\"sequentialminus\":[[0.0,\"#0d0887\"],[0.1111111111111111,\"#46039f\"],[0.2222222222222222,\"#7201a8\"],[0.3333333333333333,\"#9c179e\"],[0.4444444444444444,\"#bd3786\"],[0.5555555555555556,\"#d8576b\"],[0.6666666666666666,\"#ed7953\"],[0.7777777777777778,\"#fb9f3a\"],[0.8888888888888888,\"#fdca26\"],[1.0,\"#f0f921\"]]},\"colorway\":[\"#636efa\",\"#EF553B\",\"#00cc96\",\"#ab63fa\",\"#FFA15A\",\"#19d3f3\",\"#FF6692\",\"#B6E880\",\"#FF97FF\",\"#FECB52\"],\"font\":{\"color\":\"#2a3f5f\"},\"geo\":{\"bgcolor\":\"white\",\"lakecolor\":\"white\",\"landcolor\":\"#E5ECF6\",\"showlakes\":true,\"showland\":true,\"subunitcolor\":\"white\"},\"hoverlabel\":{\"align\":\"left\"},\"hovermode\":\"closest\",\"mapbox\":{\"style\":\"light\"},\"paper_bgcolor\":\"white\",\"plot_bgcolor\":\"#E5ECF6\",\"polar\":{\"angularaxis\":{\"gridcolor\":\"white\",\"linecolor\":\"white\",\"ticks\":\"\"},\"bgcolor\":\"#E5ECF6\",\"radialaxis\":{\"gridcolor\":\"white\",\"linecolor\":\"white\",\"ticks\":\"\"}},\"scene\":{\"xaxis\":{\"backgroundcolor\":\"#E5ECF6\",\"gridcolor\":\"white\",\"gridwidth\":2,\"linecolor\":\"white\",\"showbackground\":true,\"ticks\":\"\",\"zerolinecolor\":\"white\"},\"yaxis\":{\"backgroundcolor\":\"#E5ECF6\",\"gridcolor\":\"white\",\"gridwidth\":2,\"linecolor\":\"white\",\"showbackground\":true,\"ticks\":\"\",\"zerolinecolor\":\"white\"},\"zaxis\":{\"backgroundcolor\":\"#E5ECF6\",\"gridcolor\":\"white\",\"gridwidth\":2,\"linecolor\":\"white\",\"showbackground\":true,\"ticks\":\"\",\"zerolinecolor\":\"white\"}},\"shapedefaults\":{\"line\":{\"color\":\"#2a3f5f\"}},\"ternary\":{\"aaxis\":{\"gridcolor\":\"white\",\"linecolor\":\"white\",\"ticks\":\"\"},\"baxis\":{\"gridcolor\":\"white\",\"linecolor\":\"white\",\"ticks\":\"\"},\"bgcolor\":\"#E5ECF6\",\"caxis\":{\"gridcolor\":\"white\",\"linecolor\":\"white\",\"ticks\":\"\"}},\"title\":{\"x\":0.05},\"xaxis\":{\"automargin\":true,\"gridcolor\":\"white\",\"linecolor\":\"white\",\"ticks\":\"\",\"title\":{\"standoff\":15},\"zerolinecolor\":\"white\",\"zerolinewidth\":2},\"yaxis\":{\"automargin\":true,\"gridcolor\":\"white\",\"linecolor\":\"white\",\"ticks\":\"\",\"title\":{\"standoff\":15},\"zerolinecolor\":\"white\",\"zerolinewidth\":2}}},\"title\":{\"font\":{\"color\":\"#4D5663\"},\"text\":\"Adjusted Close (Filled Area)\"},\"xaxis\":{\"gridcolor\":\"#E1E5ED\",\"showgrid\":true,\"tickfont\":{\"color\":\"#4D5663\"},\"title\":{\"font\":{\"color\":\"#4D5663\"},\"text\":\"\"},\"zerolinecolor\":\"#E1E5ED\"},\"yaxis\":{\"gridcolor\":\"#E1E5ED\",\"showgrid\":true,\"tickfont\":{\"color\":\"#4D5663\"},\"title\":{\"font\":{\"color\":\"#4D5663\"},\"text\":\"\"},\"zerolinecolor\":\"#E1E5ED\"}},                        {\"showLink\": true, \"linkText\": \"Export to plot.ly\", \"plotlyServerURL\": \"https://plot.ly\", \"responsive\": true}                    ).then(function(){\n",
              "                            \n",
              "var gd = document.getElementById('eb264c39-950e-4b10-bddf-f4db29956d42');\n",
              "var x = new MutationObserver(function (mutations, observer) {{\n",
              "        var display = window.getComputedStyle(gd).display;\n",
              "        if (!display || display === 'none') {{\n",
              "            console.log([gd, 'removed!']);\n",
              "            Plotly.purge(gd);\n",
              "            observer.disconnect();\n",
              "        }}\n",
              "}});\n",
              "\n",
              "// Listen for the removal of the full notebook cells\n",
              "var notebookContainer = gd.closest('#notebook-container');\n",
              "if (notebookContainer) {{\n",
              "    x.observe(notebookContainer, {childList: true});\n",
              "}}\n",
              "\n",
              "// Listen for the clearing of the current output cell\n",
              "var outputEl = gd.closest('.output');\n",
              "if (outputEl) {{\n",
              "    x.observe(outputEl, {childList: true});\n",
              "}}\n",
              "\n",
              "                        })                };                });            </script>        </div>"
            ]
          },
          "metadata": {},
          "output_type": "display_data"
        }
      ],
      "source": [
        "# Create and display an interactive filled area plot of NVDA's Adjusted Close Prices\n",
        "stock_data['Adj Close'].iplot(title='Adjusted Close (Filled Area)', fill=True, colors=['green'])"
      ]
    },
    {
      "cell_type": "code",
      "execution_count": 11,
      "id": "dbddc1f8-07bd-4d01-bae5-7ba1f1206ea7",
      "metadata": {},
      "outputs": [
        {
          "data": {
            "application/vnd.plotly.v1+json": {
              "config": {
                "linkText": "Export to plot.ly",
                "plotlyServerURL": "https://plot.ly",
                "showLink": true
              },
              "data": [
                {
                  "line": {
                    "color": "rgba(255, 153, 51, 1.0)",
                    "dash": "solid",
                    "shape": "linear",
                    "width": 1.3
                  },
                  "mode": "lines",
                  "name": "Adj Close",
                  "text": "",
                  "type": "scatter",
                  "x": [
                    "2024-09-13",
                    "2024-09-16",
                    "2024-09-17",
                    "2024-09-18",
                    "2024-09-19",
                    "2024-09-20",
                    "2024-09-23",
                    "2024-09-24",
                    "2024-09-25",
                    "2024-09-26",
                    "2024-09-27",
                    "2024-09-30",
                    "2024-10-01",
                    "2024-10-02",
                    "2024-10-03",
                    "2024-10-04",
                    "2024-10-07",
                    "2024-10-08",
                    "2024-10-09",
                    "2024-10-10",
                    "2024-10-11"
                  ],
                  "y": [
                    152.30999755859375,
                    152.0800018310547,
                    150.82000732421875,
                    148.2899932861328,
                    156.74000549316406,
                    155.9499969482422,
                    156.75,
                    158.32000732421875,
                    162.02000427246094,
                    167.49000549316406,
                    164.35000610351562,
                    164.0800018310547,
                    159.75,
                    159.77999877929688,
                    162.85000610351562,
                    170.89999389648438,
                    170.97000122070312,
                    172.8000030517578,
                    171.02000427246094,
                    164.17999267578125,
                    167.88999938964844
                  ]
                },
                {
                  "line": {
                    "color": "rgba(0, 0, 0, 1.0)",
                    "dash": "dash",
                    "shape": "linear",
                    "width": 3
                  },
                  "mode": "lines",
                  "name": "1.01*x+150.27",
                  "type": "scatter",
                  "x": [
                    "2024-09-13",
                    "2024-09-16",
                    "2024-09-17",
                    "2024-09-18",
                    "2024-09-19",
                    "2024-09-20",
                    "2024-09-23",
                    "2024-09-24",
                    "2024-09-25",
                    "2024-09-26",
                    "2024-09-27",
                    "2024-09-30",
                    "2024-10-01",
                    "2024-10-02",
                    "2024-10-03",
                    "2024-10-04",
                    "2024-10-07",
                    "2024-10-08",
                    "2024-10-09",
                    "2024-10-10",
                    "2024-10-11"
                  ],
                  "y": [
                    151.28246977834988,
                    152.29393721411236,
                    153.30540464987484,
                    154.31687208563733,
                    155.3283395213998,
                    156.3398069571623,
                    157.35127439292478,
                    158.36274182868726,
                    159.37420926444975,
                    160.38567670021223,
                    161.3971441359747,
                    162.4086115717372,
                    163.42007900749968,
                    164.43154644326216,
                    165.44301387902465,
                    166.45448131478713,
                    167.46594875054961,
                    168.4774161863121,
                    169.48888362207458,
                    170.50035105783707,
                    171.51181849359955
                  ]
                }
              ],
              "layout": {
                "legend": {
                  "bgcolor": "#F5F6F9",
                  "font": {
                    "color": "#4D5663"
                  }
                },
                "paper_bgcolor": "#F5F6F9",
                "plot_bgcolor": "#F5F6F9",
                "template": {
                  "data": {
                    "bar": [
                      {
                        "error_x": {
                          "color": "#2a3f5f"
                        },
                        "error_y": {
                          "color": "#2a3f5f"
                        },
                        "marker": {
                          "line": {
                            "color": "#E5ECF6",
                            "width": 0.5
                          },
                          "pattern": {
                            "fillmode": "overlay",
                            "size": 10,
                            "solidity": 0.2
                          }
                        },
                        "type": "bar"
                      }
                    ],
                    "barpolar": [
                      {
                        "marker": {
                          "line": {
                            "color": "#E5ECF6",
                            "width": 0.5
                          },
                          "pattern": {
                            "fillmode": "overlay",
                            "size": 10,
                            "solidity": 0.2
                          }
                        },
                        "type": "barpolar"
                      }
                    ],
                    "carpet": [
                      {
                        "aaxis": {
                          "endlinecolor": "#2a3f5f",
                          "gridcolor": "white",
                          "linecolor": "white",
                          "minorgridcolor": "white",
                          "startlinecolor": "#2a3f5f"
                        },
                        "baxis": {
                          "endlinecolor": "#2a3f5f",
                          "gridcolor": "white",
                          "linecolor": "white",
                          "minorgridcolor": "white",
                          "startlinecolor": "#2a3f5f"
                        },
                        "type": "carpet"
                      }
                    ],
                    "choropleth": [
                      {
                        "colorbar": {
                          "outlinewidth": 0,
                          "ticks": ""
                        },
                        "type": "choropleth"
                      }
                    ],
                    "contour": [
                      {
                        "colorbar": {
                          "outlinewidth": 0,
                          "ticks": ""
                        },
                        "colorscale": [
                          [
                            0,
                            "#0d0887"
                          ],
                          [
                            0.1111111111111111,
                            "#46039f"
                          ],
                          [
                            0.2222222222222222,
                            "#7201a8"
                          ],
                          [
                            0.3333333333333333,
                            "#9c179e"
                          ],
                          [
                            0.4444444444444444,
                            "#bd3786"
                          ],
                          [
                            0.5555555555555556,
                            "#d8576b"
                          ],
                          [
                            0.6666666666666666,
                            "#ed7953"
                          ],
                          [
                            0.7777777777777778,
                            "#fb9f3a"
                          ],
                          [
                            0.8888888888888888,
                            "#fdca26"
                          ],
                          [
                            1,
                            "#f0f921"
                          ]
                        ],
                        "type": "contour"
                      }
                    ],
                    "contourcarpet": [
                      {
                        "colorbar": {
                          "outlinewidth": 0,
                          "ticks": ""
                        },
                        "type": "contourcarpet"
                      }
                    ],
                    "heatmap": [
                      {
                        "colorbar": {
                          "outlinewidth": 0,
                          "ticks": ""
                        },
                        "colorscale": [
                          [
                            0,
                            "#0d0887"
                          ],
                          [
                            0.1111111111111111,
                            "#46039f"
                          ],
                          [
                            0.2222222222222222,
                            "#7201a8"
                          ],
                          [
                            0.3333333333333333,
                            "#9c179e"
                          ],
                          [
                            0.4444444444444444,
                            "#bd3786"
                          ],
                          [
                            0.5555555555555556,
                            "#d8576b"
                          ],
                          [
                            0.6666666666666666,
                            "#ed7953"
                          ],
                          [
                            0.7777777777777778,
                            "#fb9f3a"
                          ],
                          [
                            0.8888888888888888,
                            "#fdca26"
                          ],
                          [
                            1,
                            "#f0f921"
                          ]
                        ],
                        "type": "heatmap"
                      }
                    ],
                    "heatmapgl": [
                      {
                        "colorbar": {
                          "outlinewidth": 0,
                          "ticks": ""
                        },
                        "colorscale": [
                          [
                            0,
                            "#0d0887"
                          ],
                          [
                            0.1111111111111111,
                            "#46039f"
                          ],
                          [
                            0.2222222222222222,
                            "#7201a8"
                          ],
                          [
                            0.3333333333333333,
                            "#9c179e"
                          ],
                          [
                            0.4444444444444444,
                            "#bd3786"
                          ],
                          [
                            0.5555555555555556,
                            "#d8576b"
                          ],
                          [
                            0.6666666666666666,
                            "#ed7953"
                          ],
                          [
                            0.7777777777777778,
                            "#fb9f3a"
                          ],
                          [
                            0.8888888888888888,
                            "#fdca26"
                          ],
                          [
                            1,
                            "#f0f921"
                          ]
                        ],
                        "type": "heatmapgl"
                      }
                    ],
                    "histogram": [
                      {
                        "marker": {
                          "pattern": {
                            "fillmode": "overlay",
                            "size": 10,
                            "solidity": 0.2
                          }
                        },
                        "type": "histogram"
                      }
                    ],
                    "histogram2d": [
                      {
                        "colorbar": {
                          "outlinewidth": 0,
                          "ticks": ""
                        },
                        "colorscale": [
                          [
                            0,
                            "#0d0887"
                          ],
                          [
                            0.1111111111111111,
                            "#46039f"
                          ],
                          [
                            0.2222222222222222,
                            "#7201a8"
                          ],
                          [
                            0.3333333333333333,
                            "#9c179e"
                          ],
                          [
                            0.4444444444444444,
                            "#bd3786"
                          ],
                          [
                            0.5555555555555556,
                            "#d8576b"
                          ],
                          [
                            0.6666666666666666,
                            "#ed7953"
                          ],
                          [
                            0.7777777777777778,
                            "#fb9f3a"
                          ],
                          [
                            0.8888888888888888,
                            "#fdca26"
                          ],
                          [
                            1,
                            "#f0f921"
                          ]
                        ],
                        "type": "histogram2d"
                      }
                    ],
                    "histogram2dcontour": [
                      {
                        "colorbar": {
                          "outlinewidth": 0,
                          "ticks": ""
                        },
                        "colorscale": [
                          [
                            0,
                            "#0d0887"
                          ],
                          [
                            0.1111111111111111,
                            "#46039f"
                          ],
                          [
                            0.2222222222222222,
                            "#7201a8"
                          ],
                          [
                            0.3333333333333333,
                            "#9c179e"
                          ],
                          [
                            0.4444444444444444,
                            "#bd3786"
                          ],
                          [
                            0.5555555555555556,
                            "#d8576b"
                          ],
                          [
                            0.6666666666666666,
                            "#ed7953"
                          ],
                          [
                            0.7777777777777778,
                            "#fb9f3a"
                          ],
                          [
                            0.8888888888888888,
                            "#fdca26"
                          ],
                          [
                            1,
                            "#f0f921"
                          ]
                        ],
                        "type": "histogram2dcontour"
                      }
                    ],
                    "mesh3d": [
                      {
                        "colorbar": {
                          "outlinewidth": 0,
                          "ticks": ""
                        },
                        "type": "mesh3d"
                      }
                    ],
                    "parcoords": [
                      {
                        "line": {
                          "colorbar": {
                            "outlinewidth": 0,
                            "ticks": ""
                          }
                        },
                        "type": "parcoords"
                      }
                    ],
                    "pie": [
                      {
                        "automargin": true,
                        "type": "pie"
                      }
                    ],
                    "scatter": [
                      {
                        "fillpattern": {
                          "fillmode": "overlay",
                          "size": 10,
                          "solidity": 0.2
                        },
                        "type": "scatter"
                      }
                    ],
                    "scatter3d": [
                      {
                        "line": {
                          "colorbar": {
                            "outlinewidth": 0,
                            "ticks": ""
                          }
                        },
                        "marker": {
                          "colorbar": {
                            "outlinewidth": 0,
                            "ticks": ""
                          }
                        },
                        "type": "scatter3d"
                      }
                    ],
                    "scattercarpet": [
                      {
                        "marker": {
                          "colorbar": {
                            "outlinewidth": 0,
                            "ticks": ""
                          }
                        },
                        "type": "scattercarpet"
                      }
                    ],
                    "scattergeo": [
                      {
                        "marker": {
                          "colorbar": {
                            "outlinewidth": 0,
                            "ticks": ""
                          }
                        },
                        "type": "scattergeo"
                      }
                    ],
                    "scattergl": [
                      {
                        "marker": {
                          "colorbar": {
                            "outlinewidth": 0,
                            "ticks": ""
                          }
                        },
                        "type": "scattergl"
                      }
                    ],
                    "scattermapbox": [
                      {
                        "marker": {
                          "colorbar": {
                            "outlinewidth": 0,
                            "ticks": ""
                          }
                        },
                        "type": "scattermapbox"
                      }
                    ],
                    "scatterpolar": [
                      {
                        "marker": {
                          "colorbar": {
                            "outlinewidth": 0,
                            "ticks": ""
                          }
                        },
                        "type": "scatterpolar"
                      }
                    ],
                    "scatterpolargl": [
                      {
                        "marker": {
                          "colorbar": {
                            "outlinewidth": 0,
                            "ticks": ""
                          }
                        },
                        "type": "scatterpolargl"
                      }
                    ],
                    "scatterternary": [
                      {
                        "marker": {
                          "colorbar": {
                            "outlinewidth": 0,
                            "ticks": ""
                          }
                        },
                        "type": "scatterternary"
                      }
                    ],
                    "surface": [
                      {
                        "colorbar": {
                          "outlinewidth": 0,
                          "ticks": ""
                        },
                        "colorscale": [
                          [
                            0,
                            "#0d0887"
                          ],
                          [
                            0.1111111111111111,
                            "#46039f"
                          ],
                          [
                            0.2222222222222222,
                            "#7201a8"
                          ],
                          [
                            0.3333333333333333,
                            "#9c179e"
                          ],
                          [
                            0.4444444444444444,
                            "#bd3786"
                          ],
                          [
                            0.5555555555555556,
                            "#d8576b"
                          ],
                          [
                            0.6666666666666666,
                            "#ed7953"
                          ],
                          [
                            0.7777777777777778,
                            "#fb9f3a"
                          ],
                          [
                            0.8888888888888888,
                            "#fdca26"
                          ],
                          [
                            1,
                            "#f0f921"
                          ]
                        ],
                        "type": "surface"
                      }
                    ],
                    "table": [
                      {
                        "cells": {
                          "fill": {
                            "color": "#EBF0F8"
                          },
                          "line": {
                            "color": "white"
                          }
                        },
                        "header": {
                          "fill": {
                            "color": "#C8D4E3"
                          },
                          "line": {
                            "color": "white"
                          }
                        },
                        "type": "table"
                      }
                    ]
                  },
                  "layout": {
                    "annotationdefaults": {
                      "arrowcolor": "#2a3f5f",
                      "arrowhead": 0,
                      "arrowwidth": 1
                    },
                    "autotypenumbers": "strict",
                    "coloraxis": {
                      "colorbar": {
                        "outlinewidth": 0,
                        "ticks": ""
                      }
                    },
                    "colorscale": {
                      "diverging": [
                        [
                          0,
                          "#8e0152"
                        ],
                        [
                          0.1,
                          "#c51b7d"
                        ],
                        [
                          0.2,
                          "#de77ae"
                        ],
                        [
                          0.3,
                          "#f1b6da"
                        ],
                        [
                          0.4,
                          "#fde0ef"
                        ],
                        [
                          0.5,
                          "#f7f7f7"
                        ],
                        [
                          0.6,
                          "#e6f5d0"
                        ],
                        [
                          0.7,
                          "#b8e186"
                        ],
                        [
                          0.8,
                          "#7fbc41"
                        ],
                        [
                          0.9,
                          "#4d9221"
                        ],
                        [
                          1,
                          "#276419"
                        ]
                      ],
                      "sequential": [
                        [
                          0,
                          "#0d0887"
                        ],
                        [
                          0.1111111111111111,
                          "#46039f"
                        ],
                        [
                          0.2222222222222222,
                          "#7201a8"
                        ],
                        [
                          0.3333333333333333,
                          "#9c179e"
                        ],
                        [
                          0.4444444444444444,
                          "#bd3786"
                        ],
                        [
                          0.5555555555555556,
                          "#d8576b"
                        ],
                        [
                          0.6666666666666666,
                          "#ed7953"
                        ],
                        [
                          0.7777777777777778,
                          "#fb9f3a"
                        ],
                        [
                          0.8888888888888888,
                          "#fdca26"
                        ],
                        [
                          1,
                          "#f0f921"
                        ]
                      ],
                      "sequentialminus": [
                        [
                          0,
                          "#0d0887"
                        ],
                        [
                          0.1111111111111111,
                          "#46039f"
                        ],
                        [
                          0.2222222222222222,
                          "#7201a8"
                        ],
                        [
                          0.3333333333333333,
                          "#9c179e"
                        ],
                        [
                          0.4444444444444444,
                          "#bd3786"
                        ],
                        [
                          0.5555555555555556,
                          "#d8576b"
                        ],
                        [
                          0.6666666666666666,
                          "#ed7953"
                        ],
                        [
                          0.7777777777777778,
                          "#fb9f3a"
                        ],
                        [
                          0.8888888888888888,
                          "#fdca26"
                        ],
                        [
                          1,
                          "#f0f921"
                        ]
                      ]
                    },
                    "colorway": [
                      "#636efa",
                      "#EF553B",
                      "#00cc96",
                      "#ab63fa",
                      "#FFA15A",
                      "#19d3f3",
                      "#FF6692",
                      "#B6E880",
                      "#FF97FF",
                      "#FECB52"
                    ],
                    "font": {
                      "color": "#2a3f5f"
                    },
                    "geo": {
                      "bgcolor": "white",
                      "lakecolor": "white",
                      "landcolor": "#E5ECF6",
                      "showlakes": true,
                      "showland": true,
                      "subunitcolor": "white"
                    },
                    "hoverlabel": {
                      "align": "left"
                    },
                    "hovermode": "closest",
                    "mapbox": {
                      "style": "light"
                    },
                    "paper_bgcolor": "white",
                    "plot_bgcolor": "#E5ECF6",
                    "polar": {
                      "angularaxis": {
                        "gridcolor": "white",
                        "linecolor": "white",
                        "ticks": ""
                      },
                      "bgcolor": "#E5ECF6",
                      "radialaxis": {
                        "gridcolor": "white",
                        "linecolor": "white",
                        "ticks": ""
                      }
                    },
                    "scene": {
                      "xaxis": {
                        "backgroundcolor": "#E5ECF6",
                        "gridcolor": "white",
                        "gridwidth": 2,
                        "linecolor": "white",
                        "showbackground": true,
                        "ticks": "",
                        "zerolinecolor": "white"
                      },
                      "yaxis": {
                        "backgroundcolor": "#E5ECF6",
                        "gridcolor": "white",
                        "gridwidth": 2,
                        "linecolor": "white",
                        "showbackground": true,
                        "ticks": "",
                        "zerolinecolor": "white"
                      },
                      "zaxis": {
                        "backgroundcolor": "#E5ECF6",
                        "gridcolor": "white",
                        "gridwidth": 2,
                        "linecolor": "white",
                        "showbackground": true,
                        "ticks": "",
                        "zerolinecolor": "white"
                      }
                    },
                    "shapedefaults": {
                      "line": {
                        "color": "#2a3f5f"
                      }
                    },
                    "ternary": {
                      "aaxis": {
                        "gridcolor": "white",
                        "linecolor": "white",
                        "ticks": ""
                      },
                      "baxis": {
                        "gridcolor": "white",
                        "linecolor": "white",
                        "ticks": ""
                      },
                      "bgcolor": "#E5ECF6",
                      "caxis": {
                        "gridcolor": "white",
                        "linecolor": "white",
                        "ticks": ""
                      }
                    },
                    "title": {
                      "x": 0.05
                    },
                    "xaxis": {
                      "automargin": true,
                      "gridcolor": "white",
                      "linecolor": "white",
                      "ticks": "",
                      "title": {
                        "standoff": 15
                      },
                      "zerolinecolor": "white",
                      "zerolinewidth": 2
                    },
                    "yaxis": {
                      "automargin": true,
                      "gridcolor": "white",
                      "linecolor": "white",
                      "ticks": "",
                      "title": {
                        "standoff": 15
                      },
                      "zerolinecolor": "white",
                      "zerolinewidth": 2
                    }
                  }
                },
                "title": {
                  "font": {
                    "color": "#4D5663"
                  },
                  "text": "Returns"
                },
                "xaxis": {
                  "gridcolor": "#E1E5ED",
                  "showgrid": true,
                  "tickfont": {
                    "color": "#4D5663"
                  },
                  "title": {
                    "font": {
                      "color": "#4D5663"
                    },
                    "text": ""
                  },
                  "zerolinecolor": "#E1E5ED"
                },
                "yaxis": {
                  "gridcolor": "#E1E5ED",
                  "showgrid": true,
                  "tickfont": {
                    "color": "#4D5663"
                  },
                  "title": {
                    "font": {
                      "color": "#4D5663"
                    },
                    "text": ""
                  },
                  "zerolinecolor": "#E1E5ED"
                }
              }
            },
            "text/html": [
              "<div>                            <div id=\"5ab9ab0d-7009-42cf-80e3-1c687f4e65ff\" class=\"plotly-graph-div\" style=\"height:525px; width:100%;\"></div>            <script type=\"text/javascript\">                require([\"plotly\"], function(Plotly) {                    window.PLOTLYENV=window.PLOTLYENV || {};\n",
              "                    window.PLOTLYENV.BASE_URL='https://plot.ly';                                    if (document.getElementById(\"5ab9ab0d-7009-42cf-80e3-1c687f4e65ff\")) {                    Plotly.newPlot(                        \"5ab9ab0d-7009-42cf-80e3-1c687f4e65ff\",                        [{\"line\":{\"color\":\"rgba(255, 153, 51, 1.0)\",\"dash\":\"solid\",\"shape\":\"linear\",\"width\":1.3},\"mode\":\"lines\",\"name\":\"Adj Close\",\"text\":\"\",\"x\":[\"2024-09-13\",\"2024-09-16\",\"2024-09-17\",\"2024-09-18\",\"2024-09-19\",\"2024-09-20\",\"2024-09-23\",\"2024-09-24\",\"2024-09-25\",\"2024-09-26\",\"2024-09-27\",\"2024-09-30\",\"2024-10-01\",\"2024-10-02\",\"2024-10-03\",\"2024-10-04\",\"2024-10-07\",\"2024-10-08\",\"2024-10-09\",\"2024-10-10\",\"2024-10-11\"],\"y\":[152.30999755859375,152.0800018310547,150.82000732421875,148.2899932861328,156.74000549316406,155.9499969482422,156.75,158.32000732421875,162.02000427246094,167.49000549316406,164.35000610351562,164.0800018310547,159.75,159.77999877929688,162.85000610351562,170.89999389648438,170.97000122070312,172.8000030517578,171.02000427246094,164.17999267578125,167.88999938964844],\"type\":\"scatter\"},{\"line\":{\"color\":\"rgba(0, 0, 0, 1.0)\",\"dash\":\"dash\",\"shape\":\"linear\",\"width\":3},\"mode\":\"lines\",\"name\":\"1.01*x+150.27\",\"x\":[\"2024-09-13\",\"2024-09-16\",\"2024-09-17\",\"2024-09-18\",\"2024-09-19\",\"2024-09-20\",\"2024-09-23\",\"2024-09-24\",\"2024-09-25\",\"2024-09-26\",\"2024-09-27\",\"2024-09-30\",\"2024-10-01\",\"2024-10-02\",\"2024-10-03\",\"2024-10-04\",\"2024-10-07\",\"2024-10-08\",\"2024-10-09\",\"2024-10-10\",\"2024-10-11\"],\"y\":[151.28246977834988,152.29393721411236,153.30540464987484,154.31687208563733,155.3283395213998,156.3398069571623,157.35127439292478,158.36274182868726,159.37420926444975,160.38567670021223,161.3971441359747,162.4086115717372,163.42007900749968,164.43154644326216,165.44301387902465,166.45448131478713,167.46594875054961,168.4774161863121,169.48888362207458,170.50035105783707,171.51181849359955],\"type\":\"scatter\"}],                        {\"legend\":{\"bgcolor\":\"#F5F6F9\",\"font\":{\"color\":\"#4D5663\"}},\"paper_bgcolor\":\"#F5F6F9\",\"plot_bgcolor\":\"#F5F6F9\",\"template\":{\"data\":{\"barpolar\":[{\"marker\":{\"line\":{\"color\":\"#E5ECF6\",\"width\":0.5},\"pattern\":{\"fillmode\":\"overlay\",\"size\":10,\"solidity\":0.2}},\"type\":\"barpolar\"}],\"bar\":[{\"error_x\":{\"color\":\"#2a3f5f\"},\"error_y\":{\"color\":\"#2a3f5f\"},\"marker\":{\"line\":{\"color\":\"#E5ECF6\",\"width\":0.5},\"pattern\":{\"fillmode\":\"overlay\",\"size\":10,\"solidity\":0.2}},\"type\":\"bar\"}],\"carpet\":[{\"aaxis\":{\"endlinecolor\":\"#2a3f5f\",\"gridcolor\":\"white\",\"linecolor\":\"white\",\"minorgridcolor\":\"white\",\"startlinecolor\":\"#2a3f5f\"},\"baxis\":{\"endlinecolor\":\"#2a3f5f\",\"gridcolor\":\"white\",\"linecolor\":\"white\",\"minorgridcolor\":\"white\",\"startlinecolor\":\"#2a3f5f\"},\"type\":\"carpet\"}],\"choropleth\":[{\"colorbar\":{\"outlinewidth\":0,\"ticks\":\"\"},\"type\":\"choropleth\"}],\"contourcarpet\":[{\"colorbar\":{\"outlinewidth\":0,\"ticks\":\"\"},\"type\":\"contourcarpet\"}],\"contour\":[{\"colorbar\":{\"outlinewidth\":0,\"ticks\":\"\"},\"colorscale\":[[0.0,\"#0d0887\"],[0.1111111111111111,\"#46039f\"],[0.2222222222222222,\"#7201a8\"],[0.3333333333333333,\"#9c179e\"],[0.4444444444444444,\"#bd3786\"],[0.5555555555555556,\"#d8576b\"],[0.6666666666666666,\"#ed7953\"],[0.7777777777777778,\"#fb9f3a\"],[0.8888888888888888,\"#fdca26\"],[1.0,\"#f0f921\"]],\"type\":\"contour\"}],\"heatmapgl\":[{\"colorbar\":{\"outlinewidth\":0,\"ticks\":\"\"},\"colorscale\":[[0.0,\"#0d0887\"],[0.1111111111111111,\"#46039f\"],[0.2222222222222222,\"#7201a8\"],[0.3333333333333333,\"#9c179e\"],[0.4444444444444444,\"#bd3786\"],[0.5555555555555556,\"#d8576b\"],[0.6666666666666666,\"#ed7953\"],[0.7777777777777778,\"#fb9f3a\"],[0.8888888888888888,\"#fdca26\"],[1.0,\"#f0f921\"]],\"type\":\"heatmapgl\"}],\"heatmap\":[{\"colorbar\":{\"outlinewidth\":0,\"ticks\":\"\"},\"colorscale\":[[0.0,\"#0d0887\"],[0.1111111111111111,\"#46039f\"],[0.2222222222222222,\"#7201a8\"],[0.3333333333333333,\"#9c179e\"],[0.4444444444444444,\"#bd3786\"],[0.5555555555555556,\"#d8576b\"],[0.6666666666666666,\"#ed7953\"],[0.7777777777777778,\"#fb9f3a\"],[0.8888888888888888,\"#fdca26\"],[1.0,\"#f0f921\"]],\"type\":\"heatmap\"}],\"histogram2dcontour\":[{\"colorbar\":{\"outlinewidth\":0,\"ticks\":\"\"},\"colorscale\":[[0.0,\"#0d0887\"],[0.1111111111111111,\"#46039f\"],[0.2222222222222222,\"#7201a8\"],[0.3333333333333333,\"#9c179e\"],[0.4444444444444444,\"#bd3786\"],[0.5555555555555556,\"#d8576b\"],[0.6666666666666666,\"#ed7953\"],[0.7777777777777778,\"#fb9f3a\"],[0.8888888888888888,\"#fdca26\"],[1.0,\"#f0f921\"]],\"type\":\"histogram2dcontour\"}],\"histogram2d\":[{\"colorbar\":{\"outlinewidth\":0,\"ticks\":\"\"},\"colorscale\":[[0.0,\"#0d0887\"],[0.1111111111111111,\"#46039f\"],[0.2222222222222222,\"#7201a8\"],[0.3333333333333333,\"#9c179e\"],[0.4444444444444444,\"#bd3786\"],[0.5555555555555556,\"#d8576b\"],[0.6666666666666666,\"#ed7953\"],[0.7777777777777778,\"#fb9f3a\"],[0.8888888888888888,\"#fdca26\"],[1.0,\"#f0f921\"]],\"type\":\"histogram2d\"}],\"histogram\":[{\"marker\":{\"pattern\":{\"fillmode\":\"overlay\",\"size\":10,\"solidity\":0.2}},\"type\":\"histogram\"}],\"mesh3d\":[{\"colorbar\":{\"outlinewidth\":0,\"ticks\":\"\"},\"type\":\"mesh3d\"}],\"parcoords\":[{\"line\":{\"colorbar\":{\"outlinewidth\":0,\"ticks\":\"\"}},\"type\":\"parcoords\"}],\"pie\":[{\"automargin\":true,\"type\":\"pie\"}],\"scatter3d\":[{\"line\":{\"colorbar\":{\"outlinewidth\":0,\"ticks\":\"\"}},\"marker\":{\"colorbar\":{\"outlinewidth\":0,\"ticks\":\"\"}},\"type\":\"scatter3d\"}],\"scattercarpet\":[{\"marker\":{\"colorbar\":{\"outlinewidth\":0,\"ticks\":\"\"}},\"type\":\"scattercarpet\"}],\"scattergeo\":[{\"marker\":{\"colorbar\":{\"outlinewidth\":0,\"ticks\":\"\"}},\"type\":\"scattergeo\"}],\"scattergl\":[{\"marker\":{\"colorbar\":{\"outlinewidth\":0,\"ticks\":\"\"}},\"type\":\"scattergl\"}],\"scattermapbox\":[{\"marker\":{\"colorbar\":{\"outlinewidth\":0,\"ticks\":\"\"}},\"type\":\"scattermapbox\"}],\"scatterpolargl\":[{\"marker\":{\"colorbar\":{\"outlinewidth\":0,\"ticks\":\"\"}},\"type\":\"scatterpolargl\"}],\"scatterpolar\":[{\"marker\":{\"colorbar\":{\"outlinewidth\":0,\"ticks\":\"\"}},\"type\":\"scatterpolar\"}],\"scatter\":[{\"fillpattern\":{\"fillmode\":\"overlay\",\"size\":10,\"solidity\":0.2},\"type\":\"scatter\"}],\"scatterternary\":[{\"marker\":{\"colorbar\":{\"outlinewidth\":0,\"ticks\":\"\"}},\"type\":\"scatterternary\"}],\"surface\":[{\"colorbar\":{\"outlinewidth\":0,\"ticks\":\"\"},\"colorscale\":[[0.0,\"#0d0887\"],[0.1111111111111111,\"#46039f\"],[0.2222222222222222,\"#7201a8\"],[0.3333333333333333,\"#9c179e\"],[0.4444444444444444,\"#bd3786\"],[0.5555555555555556,\"#d8576b\"],[0.6666666666666666,\"#ed7953\"],[0.7777777777777778,\"#fb9f3a\"],[0.8888888888888888,\"#fdca26\"],[1.0,\"#f0f921\"]],\"type\":\"surface\"}],\"table\":[{\"cells\":{\"fill\":{\"color\":\"#EBF0F8\"},\"line\":{\"color\":\"white\"}},\"header\":{\"fill\":{\"color\":\"#C8D4E3\"},\"line\":{\"color\":\"white\"}},\"type\":\"table\"}]},\"layout\":{\"annotationdefaults\":{\"arrowcolor\":\"#2a3f5f\",\"arrowhead\":0,\"arrowwidth\":1},\"autotypenumbers\":\"strict\",\"coloraxis\":{\"colorbar\":{\"outlinewidth\":0,\"ticks\":\"\"}},\"colorscale\":{\"diverging\":[[0,\"#8e0152\"],[0.1,\"#c51b7d\"],[0.2,\"#de77ae\"],[0.3,\"#f1b6da\"],[0.4,\"#fde0ef\"],[0.5,\"#f7f7f7\"],[0.6,\"#e6f5d0\"],[0.7,\"#b8e186\"],[0.8,\"#7fbc41\"],[0.9,\"#4d9221\"],[1,\"#276419\"]],\"sequential\":[[0.0,\"#0d0887\"],[0.1111111111111111,\"#46039f\"],[0.2222222222222222,\"#7201a8\"],[0.3333333333333333,\"#9c179e\"],[0.4444444444444444,\"#bd3786\"],[0.5555555555555556,\"#d8576b\"],[0.6666666666666666,\"#ed7953\"],[0.7777777777777778,\"#fb9f3a\"],[0.8888888888888888,\"#fdca26\"],[1.0,\"#f0f921\"]],\"sequentialminus\":[[0.0,\"#0d0887\"],[0.1111111111111111,\"#46039f\"],[0.2222222222222222,\"#7201a8\"],[0.3333333333333333,\"#9c179e\"],[0.4444444444444444,\"#bd3786\"],[0.5555555555555556,\"#d8576b\"],[0.6666666666666666,\"#ed7953\"],[0.7777777777777778,\"#fb9f3a\"],[0.8888888888888888,\"#fdca26\"],[1.0,\"#f0f921\"]]},\"colorway\":[\"#636efa\",\"#EF553B\",\"#00cc96\",\"#ab63fa\",\"#FFA15A\",\"#19d3f3\",\"#FF6692\",\"#B6E880\",\"#FF97FF\",\"#FECB52\"],\"font\":{\"color\":\"#2a3f5f\"},\"geo\":{\"bgcolor\":\"white\",\"lakecolor\":\"white\",\"landcolor\":\"#E5ECF6\",\"showlakes\":true,\"showland\":true,\"subunitcolor\":\"white\"},\"hoverlabel\":{\"align\":\"left\"},\"hovermode\":\"closest\",\"mapbox\":{\"style\":\"light\"},\"paper_bgcolor\":\"white\",\"plot_bgcolor\":\"#E5ECF6\",\"polar\":{\"angularaxis\":{\"gridcolor\":\"white\",\"linecolor\":\"white\",\"ticks\":\"\"},\"bgcolor\":\"#E5ECF6\",\"radialaxis\":{\"gridcolor\":\"white\",\"linecolor\":\"white\",\"ticks\":\"\"}},\"scene\":{\"xaxis\":{\"backgroundcolor\":\"#E5ECF6\",\"gridcolor\":\"white\",\"gridwidth\":2,\"linecolor\":\"white\",\"showbackground\":true,\"ticks\":\"\",\"zerolinecolor\":\"white\"},\"yaxis\":{\"backgroundcolor\":\"#E5ECF6\",\"gridcolor\":\"white\",\"gridwidth\":2,\"linecolor\":\"white\",\"showbackground\":true,\"ticks\":\"\",\"zerolinecolor\":\"white\"},\"zaxis\":{\"backgroundcolor\":\"#E5ECF6\",\"gridcolor\":\"white\",\"gridwidth\":2,\"linecolor\":\"white\",\"showbackground\":true,\"ticks\":\"\",\"zerolinecolor\":\"white\"}},\"shapedefaults\":{\"line\":{\"color\":\"#2a3f5f\"}},\"ternary\":{\"aaxis\":{\"gridcolor\":\"white\",\"linecolor\":\"white\",\"ticks\":\"\"},\"baxis\":{\"gridcolor\":\"white\",\"linecolor\":\"white\",\"ticks\":\"\"},\"bgcolor\":\"#E5ECF6\",\"caxis\":{\"gridcolor\":\"white\",\"linecolor\":\"white\",\"ticks\":\"\"}},\"title\":{\"x\":0.05},\"xaxis\":{\"automargin\":true,\"gridcolor\":\"white\",\"linecolor\":\"white\",\"ticks\":\"\",\"title\":{\"standoff\":15},\"zerolinecolor\":\"white\",\"zerolinewidth\":2},\"yaxis\":{\"automargin\":true,\"gridcolor\":\"white\",\"linecolor\":\"white\",\"ticks\":\"\",\"title\":{\"standoff\":15},\"zerolinecolor\":\"white\",\"zerolinewidth\":2}}},\"title\":{\"font\":{\"color\":\"#4D5663\"},\"text\":\"Returns\"},\"xaxis\":{\"gridcolor\":\"#E1E5ED\",\"showgrid\":true,\"tickfont\":{\"color\":\"#4D5663\"},\"title\":{\"font\":{\"color\":\"#4D5663\"},\"text\":\"\"},\"zerolinecolor\":\"#E1E5ED\"},\"yaxis\":{\"gridcolor\":\"#E1E5ED\",\"showgrid\":true,\"tickfont\":{\"color\":\"#4D5663\"},\"title\":{\"font\":{\"color\":\"#4D5663\"},\"text\":\"\"},\"zerolinecolor\":\"#E1E5ED\"}},                        {\"showLink\": true, \"linkText\": \"Export to plot.ly\", \"plotlyServerURL\": \"https://plot.ly\", \"responsive\": true}                    ).then(function(){\n",
              "                            \n",
              "var gd = document.getElementById('5ab9ab0d-7009-42cf-80e3-1c687f4e65ff');\n",
              "var x = new MutationObserver(function (mutations, observer) {{\n",
              "        var display = window.getComputedStyle(gd).display;\n",
              "        if (!display || display === 'none') {{\n",
              "            console.log([gd, 'removed!']);\n",
              "            Plotly.purge(gd);\n",
              "            observer.disconnect();\n",
              "        }}\n",
              "}});\n",
              "\n",
              "// Listen for the removal of the full notebook cells\n",
              "var notebookContainer = gd.closest('#notebook-container');\n",
              "if (notebookContainer) {{\n",
              "    x.observe(notebookContainer, {childList: true});\n",
              "}}\n",
              "\n",
              "// Listen for the clearing of the current output cell\n",
              "var outputEl = gd.closest('.output');\n",
              "if (outputEl) {{\n",
              "    x.observe(outputEl, {childList: true});\n",
              "}}\n",
              "\n",
              "                        })                };                });            </script>        </div>"
            ]
          },
          "metadata": {},
          "output_type": "display_data"
        }
      ],
      "source": [
        "# Create and display an interactive line plot of NVDA's Returns with a best-fit line\n",
        "stock_data['Adj Close'].iplot(title='Returns', bestfit=True, bestfit_colors=['black'])"
      ]
    },
    {
      "cell_type": "code",
      "execution_count": 12,
      "id": "cb8a8dea-f819-48f3-9955-c2b1320835ec",
      "metadata": {},
      "outputs": [
        {
          "data": {
            "application/vnd.plotly.v1+json": {
              "config": {
                "linkText": "Export to plot.ly",
                "plotlyServerURL": "https://plot.ly",
                "showLink": true
              },
              "data": [
                {
                  "legendgroup": " SMA([10, 20])",
                  "line": {
                    "color": "rgba(0, 128, 0, 1.0)",
                    "dash": "solid",
                    "shape": "linear",
                    "width": 2
                  },
                  "mode": "lines",
                  "name": " SMA([10, 20])",
                  "showlegend": true,
                  "text": "",
                  "type": "scatter",
                  "x": [
                    "2024-09-13",
                    "2024-09-16",
                    "2024-09-17",
                    "2024-09-18",
                    "2024-09-19",
                    "2024-09-20",
                    "2024-09-23",
                    "2024-09-24",
                    "2024-09-25",
                    "2024-09-26",
                    "2024-09-27",
                    "2024-09-30",
                    "2024-10-01",
                    "2024-10-02",
                    "2024-10-03",
                    "2024-10-04",
                    "2024-10-07",
                    "2024-10-08",
                    "2024-10-09",
                    "2024-10-10",
                    "2024-10-11"
                  ],
                  "y": [
                    "",
                    "",
                    "",
                    "",
                    "",
                    "",
                    "",
                    "",
                    "",
                    156.077001953125,
                    157.2810028076172,
                    158.4810028076172,
                    159.3740020751953,
                    160.52300262451172,
                    161.13400268554688,
                    162.6290023803711,
                    164.0510025024414,
                    165.4990020751953,
                    166.3990020751953,
                    166.06800079345703,
                    166.4220001220703
                  ],
                  "yaxis": "y2"
                },
                {
                  "legendgroup": " SMA([10, 20])",
                  "line": {
                    "color": "rgba(144, 238, 144, 1.0)",
                    "dash": "solid",
                    "shape": "linear",
                    "width": 2
                  },
                  "mode": "lines",
                  "name": " SMA(20)",
                  "showlegend": false,
                  "text": "",
                  "type": "scatter",
                  "x": [
                    "2024-09-13",
                    "2024-09-16",
                    "2024-09-17",
                    "2024-09-18",
                    "2024-09-19",
                    "2024-09-20",
                    "2024-09-23",
                    "2024-09-24",
                    "2024-09-25",
                    "2024-09-26",
                    "2024-09-27",
                    "2024-09-30",
                    "2024-10-01",
                    "2024-10-02",
                    "2024-10-03",
                    "2024-10-04",
                    "2024-10-07",
                    "2024-10-08",
                    "2024-10-09",
                    "2024-10-10",
                    "2024-10-11"
                  ],
                  "y": [
                    "",
                    "",
                    "",
                    "",
                    "",
                    "",
                    "",
                    "",
                    "",
                    "",
                    "",
                    "",
                    "",
                    "",
                    "",
                    "",
                    "",
                    "",
                    "",
                    161.072501373291,
                    161.85150146484375
                  ],
                  "yaxis": "y2"
                },
                {
                  "legendgroup": "BOLL(Close,20)",
                  "line": {
                    "color": "rgba(55, 128, 191, 1.0)",
                    "dash": "solid",
                    "shape": "linear",
                    "width": 1.3
                  },
                  "mode": "lines",
                  "name": "BOLL(Close,20)",
                  "showlegend": true,
                  "text": "",
                  "type": "scatter",
                  "x": [
                    "2024-09-13",
                    "2024-09-16",
                    "2024-09-17",
                    "2024-09-18",
                    "2024-09-19",
                    "2024-09-20",
                    "2024-09-23",
                    "2024-09-24",
                    "2024-09-25",
                    "2024-09-26",
                    "2024-09-27",
                    "2024-09-30",
                    "2024-10-01",
                    "2024-10-02",
                    "2024-10-03",
                    "2024-10-04",
                    "2024-10-07",
                    "2024-10-08",
                    "2024-10-09",
                    "2024-10-10",
                    "2024-10-11"
                  ],
                  "y": [
                    "",
                    "",
                    "",
                    "",
                    "",
                    "",
                    "",
                    "",
                    "",
                    "",
                    "",
                    "",
                    "",
                    "",
                    "",
                    "",
                    "",
                    "",
                    "",
                    161.072501373291,
                    161.85150146484375
                  ],
                  "yaxis": "y2"
                },
                {
                  "legendgroup": "BOLL(Close,20)",
                  "line": {
                    "color": "rgba(55, 128, 191, 0.8999999999999999)",
                    "dash": "solid",
                    "shape": "linear",
                    "width": 1.3
                  },
                  "mode": "lines",
                  "name": "UPPER(Close,20)",
                  "showlegend": false,
                  "text": "",
                  "type": "scatter",
                  "x": [
                    "2024-09-13",
                    "2024-09-16",
                    "2024-09-17",
                    "2024-09-18",
                    "2024-09-19",
                    "2024-09-20",
                    "2024-09-23",
                    "2024-09-24",
                    "2024-09-25",
                    "2024-09-26",
                    "2024-09-27",
                    "2024-09-30",
                    "2024-10-01",
                    "2024-10-02",
                    "2024-10-03",
                    "2024-10-04",
                    "2024-10-07",
                    "2024-10-08",
                    "2024-10-09",
                    "2024-10-10",
                    "2024-10-11"
                  ],
                  "y": [
                    "",
                    "",
                    "",
                    "",
                    "",
                    "",
                    "",
                    "",
                    "",
                    "",
                    "",
                    "",
                    "",
                    "",
                    "",
                    "",
                    "",
                    "",
                    "",
                    175.62950742315059,
                    176.09831460907841
                  ],
                  "yaxis": "y2"
                },
                {
                  "fill": "tonexty",
                  "fillcolor": "rgba(55, 128, 191, 0.1)",
                  "legendgroup": "BOLL(Close,20)",
                  "line": {
                    "color": "rgba(55, 128, 191, 0.7999999999999998)",
                    "dash": "solid",
                    "shape": "linear",
                    "width": 1.3
                  },
                  "mode": "lines",
                  "name": "LOWER(Close,20)",
                  "showlegend": false,
                  "text": "",
                  "type": "scatter",
                  "x": [
                    "2024-09-13",
                    "2024-09-16",
                    "2024-09-17",
                    "2024-09-18",
                    "2024-09-19",
                    "2024-09-20",
                    "2024-09-23",
                    "2024-09-24",
                    "2024-09-25",
                    "2024-09-26",
                    "2024-09-27",
                    "2024-09-30",
                    "2024-10-01",
                    "2024-10-02",
                    "2024-10-03",
                    "2024-10-04",
                    "2024-10-07",
                    "2024-10-08",
                    "2024-10-09",
                    "2024-10-10",
                    "2024-10-11"
                  ],
                  "y": [
                    "",
                    "",
                    "",
                    "",
                    "",
                    "",
                    "",
                    "",
                    "",
                    "",
                    "",
                    "",
                    "",
                    "",
                    "",
                    "",
                    "",
                    "",
                    "",
                    146.51549532343142,
                    147.60468832060909
                  ],
                  "yaxis": "y2"
                },
                {
                  "marker": {
                    "color": [
                      "#808080",
                      "#808080",
                      "#808080",
                      "#808080",
                      "#17BECF",
                      "#808080",
                      "#17BECF",
                      "#17BECF",
                      "#17BECF",
                      "#17BECF",
                      "#808080",
                      "#808080",
                      "#808080",
                      "#17BECF",
                      "#17BECF",
                      "#17BECF",
                      "#17BECF",
                      "#17BECF",
                      "#808080",
                      "#808080",
                      "#17BECF"
                    ],
                    "line": {
                      "color": [
                        "#808080",
                        "#808080",
                        "#808080",
                        "#808080",
                        "#17BECF",
                        "#808080",
                        "#17BECF",
                        "#17BECF",
                        "#17BECF",
                        "#17BECF",
                        "#808080",
                        "#808080",
                        "#808080",
                        "#17BECF",
                        "#17BECF",
                        "#17BECF",
                        "#17BECF",
                        "#17BECF",
                        "#808080",
                        "#808080",
                        "#17BECF"
                      ],
                      "width": 1
                    }
                  },
                  "name": "Volume",
                  "opacity": 0.8,
                  "orientation": "v",
                  "text": "",
                  "type": "bar",
                  "x": [
                    "2024-09-13",
                    "2024-09-16",
                    "2024-09-17",
                    "2024-09-18",
                    "2024-09-19",
                    "2024-09-20",
                    "2024-09-23",
                    "2024-09-24",
                    "2024-09-25",
                    "2024-09-26",
                    "2024-09-27",
                    "2024-09-30",
                    "2024-10-01",
                    "2024-10-02",
                    "2024-10-03",
                    "2024-10-04",
                    "2024-10-07",
                    "2024-10-08",
                    "2024-10-09",
                    "2024-10-10",
                    "2024-10-11"
                  ],
                  "y": [
                    25117200,
                    27677800,
                    29889000,
                    26320100,
                    44500000,
                    40248200,
                    21728500,
                    27531200,
                    35233300,
                    38044900,
                    27876000,
                    21881600,
                    31831900,
                    24630400,
                    29598800,
                    44556500,
                    38379900,
                    34730200,
                    33890700,
                    75113600,
                    42081900
                  ],
                  "yaxis": "y3"
                },
                {
                  "close": [
                    152.30999755859375,
                    152.0800018310547,
                    150.82000732421875,
                    148.2899932861328,
                    156.74000549316406,
                    155.9499969482422,
                    156.75,
                    158.32000732421875,
                    162.02000427246094,
                    167.49000549316406,
                    164.35000610351562,
                    164.0800018310547,
                    159.75,
                    159.77999877929688,
                    162.85000610351562,
                    170.89999389648438,
                    170.97000122070312,
                    172.8000030517578,
                    171.02000427246094,
                    164.17999267578125,
                    167.88999938964844
                  ],
                  "decreasing": {
                    "line": {
                      "color": "#808080"
                    }
                  },
                  "high": [
                    153.02999877929688,
                    154.44000244140625,
                    154.0399932861328,
                    152.82000732421875,
                    159.25,
                    157.4499969482422,
                    157.19000244140625,
                    159.63999938964844,
                    162.9499969482422,
                    168.67999267578125,
                    168.72999572753906,
                    165.0800018310547,
                    165.39999389648438,
                    163.10000610351562,
                    166.7899932861328,
                    171.2100067138672,
                    172.41000366210938,
                    173.60000610351562,
                    174.0500030517578,
                    172.00999450683594,
                    169.35000610351562
                  ],
                  "increasing": {
                    "line": {
                      "color": "#17BECF"
                    }
                  },
                  "low": [
                    150.6999969482422,
                    150.91000366210938,
                    149.22999572753906,
                    148.00999450683594,
                    152.77000427246094,
                    152.47000122070312,
                    154.97000122070312,
                    154.5800018310547,
                    158.17999267578125,
                    164.0500030517578,
                    163.74000549316406,
                    162.17999267578125,
                    158.0800018310547,
                    158.6699981689453,
                    159.39999389648438,
                    164.4199981689453,
                    168.2100067138672,
                    170,
                    169.5500030517578,
                    162,
                    163.00999450683594
                  ],
                  "name": "AMD",
                  "open": [
                    152.32000732421875,
                    151.6999969482422,
                    153.5500030517578,
                    150.89999389648438,
                    153.80999755859375,
                    156,
                    156.4499969482422,
                    157.4600067138672,
                    158.5,
                    167.05999755859375,
                    167.47999572753906,
                    163.10000610351562,
                    164.47999572753906,
                    159.30999755859375,
                    159.7100067138672,
                    166.52999877929688,
                    171.0800018310547,
                    171.75,
                    174.0500030517578,
                    169.75999450683594,
                    164.19000244140625
                  ],
                  "showlegend": true,
                  "type": "candlestick",
                  "x": [
                    "2024-09-13",
                    "2024-09-16",
                    "2024-09-17",
                    "2024-09-18",
                    "2024-09-19",
                    "2024-09-20",
                    "2024-09-23",
                    "2024-09-24",
                    "2024-09-25",
                    "2024-09-26",
                    "2024-09-27",
                    "2024-09-30",
                    "2024-10-01",
                    "2024-10-02",
                    "2024-10-03",
                    "2024-10-04",
                    "2024-10-07",
                    "2024-10-08",
                    "2024-10-09",
                    "2024-10-10",
                    "2024-10-11"
                  ],
                  "yaxis": "y2"
                }
              ],
              "layout": {
                "legend": {
                  "bgcolor": "#F5F6F9",
                  "font": {
                    "color": "#4D5663"
                  },
                  "orientation": "h",
                  "x": 0.3,
                  "y": 0.95,
                  "yanchor": "bottom"
                },
                "margin": {
                  "b": 30,
                  "l": 30,
                  "r": 30,
                  "t": 30
                },
                "paper_bgcolor": "#F5F6F9",
                "plot_bgcolor": "#F5F6F9",
                "showlegend": true,
                "template": {
                  "data": {
                    "bar": [
                      {
                        "error_x": {
                          "color": "#2a3f5f"
                        },
                        "error_y": {
                          "color": "#2a3f5f"
                        },
                        "marker": {
                          "line": {
                            "color": "#E5ECF6",
                            "width": 0.5
                          },
                          "pattern": {
                            "fillmode": "overlay",
                            "size": 10,
                            "solidity": 0.2
                          }
                        },
                        "type": "bar"
                      }
                    ],
                    "barpolar": [
                      {
                        "marker": {
                          "line": {
                            "color": "#E5ECF6",
                            "width": 0.5
                          },
                          "pattern": {
                            "fillmode": "overlay",
                            "size": 10,
                            "solidity": 0.2
                          }
                        },
                        "type": "barpolar"
                      }
                    ],
                    "carpet": [
                      {
                        "aaxis": {
                          "endlinecolor": "#2a3f5f",
                          "gridcolor": "white",
                          "linecolor": "white",
                          "minorgridcolor": "white",
                          "startlinecolor": "#2a3f5f"
                        },
                        "baxis": {
                          "endlinecolor": "#2a3f5f",
                          "gridcolor": "white",
                          "linecolor": "white",
                          "minorgridcolor": "white",
                          "startlinecolor": "#2a3f5f"
                        },
                        "type": "carpet"
                      }
                    ],
                    "choropleth": [
                      {
                        "colorbar": {
                          "outlinewidth": 0,
                          "ticks": ""
                        },
                        "type": "choropleth"
                      }
                    ],
                    "contour": [
                      {
                        "colorbar": {
                          "outlinewidth": 0,
                          "ticks": ""
                        },
                        "colorscale": [
                          [
                            0,
                            "#0d0887"
                          ],
                          [
                            0.1111111111111111,
                            "#46039f"
                          ],
                          [
                            0.2222222222222222,
                            "#7201a8"
                          ],
                          [
                            0.3333333333333333,
                            "#9c179e"
                          ],
                          [
                            0.4444444444444444,
                            "#bd3786"
                          ],
                          [
                            0.5555555555555556,
                            "#d8576b"
                          ],
                          [
                            0.6666666666666666,
                            "#ed7953"
                          ],
                          [
                            0.7777777777777778,
                            "#fb9f3a"
                          ],
                          [
                            0.8888888888888888,
                            "#fdca26"
                          ],
                          [
                            1,
                            "#f0f921"
                          ]
                        ],
                        "type": "contour"
                      }
                    ],
                    "contourcarpet": [
                      {
                        "colorbar": {
                          "outlinewidth": 0,
                          "ticks": ""
                        },
                        "type": "contourcarpet"
                      }
                    ],
                    "heatmap": [
                      {
                        "colorbar": {
                          "outlinewidth": 0,
                          "ticks": ""
                        },
                        "colorscale": [
                          [
                            0,
                            "#0d0887"
                          ],
                          [
                            0.1111111111111111,
                            "#46039f"
                          ],
                          [
                            0.2222222222222222,
                            "#7201a8"
                          ],
                          [
                            0.3333333333333333,
                            "#9c179e"
                          ],
                          [
                            0.4444444444444444,
                            "#bd3786"
                          ],
                          [
                            0.5555555555555556,
                            "#d8576b"
                          ],
                          [
                            0.6666666666666666,
                            "#ed7953"
                          ],
                          [
                            0.7777777777777778,
                            "#fb9f3a"
                          ],
                          [
                            0.8888888888888888,
                            "#fdca26"
                          ],
                          [
                            1,
                            "#f0f921"
                          ]
                        ],
                        "type": "heatmap"
                      }
                    ],
                    "heatmapgl": [
                      {
                        "colorbar": {
                          "outlinewidth": 0,
                          "ticks": ""
                        },
                        "colorscale": [
                          [
                            0,
                            "#0d0887"
                          ],
                          [
                            0.1111111111111111,
                            "#46039f"
                          ],
                          [
                            0.2222222222222222,
                            "#7201a8"
                          ],
                          [
                            0.3333333333333333,
                            "#9c179e"
                          ],
                          [
                            0.4444444444444444,
                            "#bd3786"
                          ],
                          [
                            0.5555555555555556,
                            "#d8576b"
                          ],
                          [
                            0.6666666666666666,
                            "#ed7953"
                          ],
                          [
                            0.7777777777777778,
                            "#fb9f3a"
                          ],
                          [
                            0.8888888888888888,
                            "#fdca26"
                          ],
                          [
                            1,
                            "#f0f921"
                          ]
                        ],
                        "type": "heatmapgl"
                      }
                    ],
                    "histogram": [
                      {
                        "marker": {
                          "pattern": {
                            "fillmode": "overlay",
                            "size": 10,
                            "solidity": 0.2
                          }
                        },
                        "type": "histogram"
                      }
                    ],
                    "histogram2d": [
                      {
                        "colorbar": {
                          "outlinewidth": 0,
                          "ticks": ""
                        },
                        "colorscale": [
                          [
                            0,
                            "#0d0887"
                          ],
                          [
                            0.1111111111111111,
                            "#46039f"
                          ],
                          [
                            0.2222222222222222,
                            "#7201a8"
                          ],
                          [
                            0.3333333333333333,
                            "#9c179e"
                          ],
                          [
                            0.4444444444444444,
                            "#bd3786"
                          ],
                          [
                            0.5555555555555556,
                            "#d8576b"
                          ],
                          [
                            0.6666666666666666,
                            "#ed7953"
                          ],
                          [
                            0.7777777777777778,
                            "#fb9f3a"
                          ],
                          [
                            0.8888888888888888,
                            "#fdca26"
                          ],
                          [
                            1,
                            "#f0f921"
                          ]
                        ],
                        "type": "histogram2d"
                      }
                    ],
                    "histogram2dcontour": [
                      {
                        "colorbar": {
                          "outlinewidth": 0,
                          "ticks": ""
                        },
                        "colorscale": [
                          [
                            0,
                            "#0d0887"
                          ],
                          [
                            0.1111111111111111,
                            "#46039f"
                          ],
                          [
                            0.2222222222222222,
                            "#7201a8"
                          ],
                          [
                            0.3333333333333333,
                            "#9c179e"
                          ],
                          [
                            0.4444444444444444,
                            "#bd3786"
                          ],
                          [
                            0.5555555555555556,
                            "#d8576b"
                          ],
                          [
                            0.6666666666666666,
                            "#ed7953"
                          ],
                          [
                            0.7777777777777778,
                            "#fb9f3a"
                          ],
                          [
                            0.8888888888888888,
                            "#fdca26"
                          ],
                          [
                            1,
                            "#f0f921"
                          ]
                        ],
                        "type": "histogram2dcontour"
                      }
                    ],
                    "mesh3d": [
                      {
                        "colorbar": {
                          "outlinewidth": 0,
                          "ticks": ""
                        },
                        "type": "mesh3d"
                      }
                    ],
                    "parcoords": [
                      {
                        "line": {
                          "colorbar": {
                            "outlinewidth": 0,
                            "ticks": ""
                          }
                        },
                        "type": "parcoords"
                      }
                    ],
                    "pie": [
                      {
                        "automargin": true,
                        "type": "pie"
                      }
                    ],
                    "scatter": [
                      {
                        "fillpattern": {
                          "fillmode": "overlay",
                          "size": 10,
                          "solidity": 0.2
                        },
                        "type": "scatter"
                      }
                    ],
                    "scatter3d": [
                      {
                        "line": {
                          "colorbar": {
                            "outlinewidth": 0,
                            "ticks": ""
                          }
                        },
                        "marker": {
                          "colorbar": {
                            "outlinewidth": 0,
                            "ticks": ""
                          }
                        },
                        "type": "scatter3d"
                      }
                    ],
                    "scattercarpet": [
                      {
                        "marker": {
                          "colorbar": {
                            "outlinewidth": 0,
                            "ticks": ""
                          }
                        },
                        "type": "scattercarpet"
                      }
                    ],
                    "scattergeo": [
                      {
                        "marker": {
                          "colorbar": {
                            "outlinewidth": 0,
                            "ticks": ""
                          }
                        },
                        "type": "scattergeo"
                      }
                    ],
                    "scattergl": [
                      {
                        "marker": {
                          "colorbar": {
                            "outlinewidth": 0,
                            "ticks": ""
                          }
                        },
                        "type": "scattergl"
                      }
                    ],
                    "scattermapbox": [
                      {
                        "marker": {
                          "colorbar": {
                            "outlinewidth": 0,
                            "ticks": ""
                          }
                        },
                        "type": "scattermapbox"
                      }
                    ],
                    "scatterpolar": [
                      {
                        "marker": {
                          "colorbar": {
                            "outlinewidth": 0,
                            "ticks": ""
                          }
                        },
                        "type": "scatterpolar"
                      }
                    ],
                    "scatterpolargl": [
                      {
                        "marker": {
                          "colorbar": {
                            "outlinewidth": 0,
                            "ticks": ""
                          }
                        },
                        "type": "scatterpolargl"
                      }
                    ],
                    "scatterternary": [
                      {
                        "marker": {
                          "colorbar": {
                            "outlinewidth": 0,
                            "ticks": ""
                          }
                        },
                        "type": "scatterternary"
                      }
                    ],
                    "surface": [
                      {
                        "colorbar": {
                          "outlinewidth": 0,
                          "ticks": ""
                        },
                        "colorscale": [
                          [
                            0,
                            "#0d0887"
                          ],
                          [
                            0.1111111111111111,
                            "#46039f"
                          ],
                          [
                            0.2222222222222222,
                            "#7201a8"
                          ],
                          [
                            0.3333333333333333,
                            "#9c179e"
                          ],
                          [
                            0.4444444444444444,
                            "#bd3786"
                          ],
                          [
                            0.5555555555555556,
                            "#d8576b"
                          ],
                          [
                            0.6666666666666666,
                            "#ed7953"
                          ],
                          [
                            0.7777777777777778,
                            "#fb9f3a"
                          ],
                          [
                            0.8888888888888888,
                            "#fdca26"
                          ],
                          [
                            1,
                            "#f0f921"
                          ]
                        ],
                        "type": "surface"
                      }
                    ],
                    "table": [
                      {
                        "cells": {
                          "fill": {
                            "color": "#EBF0F8"
                          },
                          "line": {
                            "color": "white"
                          }
                        },
                        "header": {
                          "fill": {
                            "color": "#C8D4E3"
                          },
                          "line": {
                            "color": "white"
                          }
                        },
                        "type": "table"
                      }
                    ]
                  },
                  "layout": {
                    "annotationdefaults": {
                      "arrowcolor": "#2a3f5f",
                      "arrowhead": 0,
                      "arrowwidth": 1
                    },
                    "autotypenumbers": "strict",
                    "coloraxis": {
                      "colorbar": {
                        "outlinewidth": 0,
                        "ticks": ""
                      }
                    },
                    "colorscale": {
                      "diverging": [
                        [
                          0,
                          "#8e0152"
                        ],
                        [
                          0.1,
                          "#c51b7d"
                        ],
                        [
                          0.2,
                          "#de77ae"
                        ],
                        [
                          0.3,
                          "#f1b6da"
                        ],
                        [
                          0.4,
                          "#fde0ef"
                        ],
                        [
                          0.5,
                          "#f7f7f7"
                        ],
                        [
                          0.6,
                          "#e6f5d0"
                        ],
                        [
                          0.7,
                          "#b8e186"
                        ],
                        [
                          0.8,
                          "#7fbc41"
                        ],
                        [
                          0.9,
                          "#4d9221"
                        ],
                        [
                          1,
                          "#276419"
                        ]
                      ],
                      "sequential": [
                        [
                          0,
                          "#0d0887"
                        ],
                        [
                          0.1111111111111111,
                          "#46039f"
                        ],
                        [
                          0.2222222222222222,
                          "#7201a8"
                        ],
                        [
                          0.3333333333333333,
                          "#9c179e"
                        ],
                        [
                          0.4444444444444444,
                          "#bd3786"
                        ],
                        [
                          0.5555555555555556,
                          "#d8576b"
                        ],
                        [
                          0.6666666666666666,
                          "#ed7953"
                        ],
                        [
                          0.7777777777777778,
                          "#fb9f3a"
                        ],
                        [
                          0.8888888888888888,
                          "#fdca26"
                        ],
                        [
                          1,
                          "#f0f921"
                        ]
                      ],
                      "sequentialminus": [
                        [
                          0,
                          "#0d0887"
                        ],
                        [
                          0.1111111111111111,
                          "#46039f"
                        ],
                        [
                          0.2222222222222222,
                          "#7201a8"
                        ],
                        [
                          0.3333333333333333,
                          "#9c179e"
                        ],
                        [
                          0.4444444444444444,
                          "#bd3786"
                        ],
                        [
                          0.5555555555555556,
                          "#d8576b"
                        ],
                        [
                          0.6666666666666666,
                          "#ed7953"
                        ],
                        [
                          0.7777777777777778,
                          "#fb9f3a"
                        ],
                        [
                          0.8888888888888888,
                          "#fdca26"
                        ],
                        [
                          1,
                          "#f0f921"
                        ]
                      ]
                    },
                    "colorway": [
                      "#636efa",
                      "#EF553B",
                      "#00cc96",
                      "#ab63fa",
                      "#FFA15A",
                      "#19d3f3",
                      "#FF6692",
                      "#B6E880",
                      "#FF97FF",
                      "#FECB52"
                    ],
                    "font": {
                      "color": "#2a3f5f"
                    },
                    "geo": {
                      "bgcolor": "white",
                      "lakecolor": "white",
                      "landcolor": "#E5ECF6",
                      "showlakes": true,
                      "showland": true,
                      "subunitcolor": "white"
                    },
                    "hoverlabel": {
                      "align": "left"
                    },
                    "hovermode": "closest",
                    "mapbox": {
                      "style": "light"
                    },
                    "paper_bgcolor": "white",
                    "plot_bgcolor": "#E5ECF6",
                    "polar": {
                      "angularaxis": {
                        "gridcolor": "white",
                        "linecolor": "white",
                        "ticks": ""
                      },
                      "bgcolor": "#E5ECF6",
                      "radialaxis": {
                        "gridcolor": "white",
                        "linecolor": "white",
                        "ticks": ""
                      }
                    },
                    "scene": {
                      "xaxis": {
                        "backgroundcolor": "#E5ECF6",
                        "gridcolor": "white",
                        "gridwidth": 2,
                        "linecolor": "white",
                        "showbackground": true,
                        "ticks": "",
                        "zerolinecolor": "white"
                      },
                      "yaxis": {
                        "backgroundcolor": "#E5ECF6",
                        "gridcolor": "white",
                        "gridwidth": 2,
                        "linecolor": "white",
                        "showbackground": true,
                        "ticks": "",
                        "zerolinecolor": "white"
                      },
                      "zaxis": {
                        "backgroundcolor": "#E5ECF6",
                        "gridcolor": "white",
                        "gridwidth": 2,
                        "linecolor": "white",
                        "showbackground": true,
                        "ticks": "",
                        "zerolinecolor": "white"
                      }
                    },
                    "shapedefaults": {
                      "line": {
                        "color": "#2a3f5f"
                      }
                    },
                    "ternary": {
                      "aaxis": {
                        "gridcolor": "white",
                        "linecolor": "white",
                        "ticks": ""
                      },
                      "baxis": {
                        "gridcolor": "white",
                        "linecolor": "white",
                        "ticks": ""
                      },
                      "bgcolor": "#E5ECF6",
                      "caxis": {
                        "gridcolor": "white",
                        "linecolor": "white",
                        "ticks": ""
                      }
                    },
                    "title": {
                      "x": 0.05
                    },
                    "xaxis": {
                      "automargin": true,
                      "gridcolor": "white",
                      "linecolor": "white",
                      "ticks": "",
                      "title": {
                        "standoff": 15
                      },
                      "zerolinecolor": "white",
                      "zerolinewidth": 2
                    },
                    "yaxis": {
                      "automargin": true,
                      "gridcolor": "white",
                      "linecolor": "white",
                      "ticks": "",
                      "title": {
                        "standoff": 15
                      },
                      "zerolinecolor": "white",
                      "zerolinewidth": 2
                    }
                  }
                },
                "title": {
                  "font": {
                    "color": "#4D5663"
                  },
                  "text": "Quantitative Figure"
                },
                "xaxis": {
                  "anchor": "y2",
                  "gridcolor": "#E1E5ED",
                  "rangeselector": {
                    "bgcolor": "rgba(150, 200, 250, 1)",
                    "buttons": [
                      {
                        "count": 1,
                        "label": "1m",
                        "step": "month",
                        "stepmode": "backward"
                      },
                      {
                        "count": 1,
                        "label": "1y",
                        "step": "year",
                        "stepmode": "backward"
                      }
                    ],
                    "font": {
                      "size": 13
                    },
                    "visible": false,
                    "x": 0,
                    "y": 0.9
                  },
                  "rangeslider": {
                    "visible": false
                  },
                  "showgrid": true,
                  "tickfont": {
                    "color": "#4D5663"
                  },
                  "title": {
                    "font": {
                      "color": "#4D5663"
                    },
                    "text": ""
                  },
                  "zerolinecolor": "#E1E5ED"
                },
                "yaxis": {
                  "gridcolor": "#E1E5ED",
                  "showgrid": true,
                  "showticklabels": false,
                  "tickfont": {
                    "color": "#4D5663"
                  },
                  "title": {
                    "font": {
                      "color": "#4D5663"
                    },
                    "text": ""
                  },
                  "zerolinecolor": "#E1E5ED"
                },
                "yaxis2": {
                  "domain": [
                    0.23,
                    0.9
                  ],
                  "gridcolor": "#E1E5ED",
                  "showgrid": true,
                  "tickfont": {
                    "color": "#4D5663"
                  },
                  "title": {
                    "font": {
                      "color": "#4D5663"
                    },
                    "text": ""
                  },
                  "zerolinecolor": "#E1E5ED"
                },
                "yaxis3": {
                  "domain": [
                    0,
                    0.15
                  ],
                  "gridcolor": "#E1E5ED",
                  "showgrid": true,
                  "tickfont": {
                    "color": "#4D5663"
                  },
                  "title": {
                    "font": {
                      "color": "#4D5663"
                    },
                    "text": ""
                  },
                  "zerolinecolor": "#E1E5ED"
                }
              }
            },
            "text/html": [
              "<div>                            <div id=\"48985b12-15de-458c-9935-e2ea0a61c39b\" class=\"plotly-graph-div\" style=\"height:525px; width:100%;\"></div>            <script type=\"text/javascript\">                require([\"plotly\"], function(Plotly) {                    window.PLOTLYENV=window.PLOTLYENV || {};\n",
              "                    window.PLOTLYENV.BASE_URL='https://plot.ly';                                    if (document.getElementById(\"48985b12-15de-458c-9935-e2ea0a61c39b\")) {                    Plotly.newPlot(                        \"48985b12-15de-458c-9935-e2ea0a61c39b\",                        [{\"legendgroup\":\" SMA([10, 20])\",\"line\":{\"color\":\"rgba(0, 128, 0, 1.0)\",\"dash\":\"solid\",\"shape\":\"linear\",\"width\":2},\"mode\":\"lines\",\"name\":\" SMA([10, 20])\",\"showlegend\":true,\"text\":\"\",\"x\":[\"2024-09-13\",\"2024-09-16\",\"2024-09-17\",\"2024-09-18\",\"2024-09-19\",\"2024-09-20\",\"2024-09-23\",\"2024-09-24\",\"2024-09-25\",\"2024-09-26\",\"2024-09-27\",\"2024-09-30\",\"2024-10-01\",\"2024-10-02\",\"2024-10-03\",\"2024-10-04\",\"2024-10-07\",\"2024-10-08\",\"2024-10-09\",\"2024-10-10\",\"2024-10-11\"],\"y\":[\"\",\"\",\"\",\"\",\"\",\"\",\"\",\"\",\"\",156.077001953125,157.2810028076172,158.4810028076172,159.3740020751953,160.52300262451172,161.13400268554688,162.6290023803711,164.0510025024414,165.4990020751953,166.3990020751953,166.06800079345703,166.4220001220703],\"yaxis\":\"y2\",\"type\":\"scatter\"},{\"legendgroup\":\" SMA([10, 20])\",\"line\":{\"color\":\"rgba(144, 238, 144, 1.0)\",\"dash\":\"solid\",\"shape\":\"linear\",\"width\":2},\"mode\":\"lines\",\"name\":\" SMA(20)\",\"showlegend\":false,\"text\":\"\",\"x\":[\"2024-09-13\",\"2024-09-16\",\"2024-09-17\",\"2024-09-18\",\"2024-09-19\",\"2024-09-20\",\"2024-09-23\",\"2024-09-24\",\"2024-09-25\",\"2024-09-26\",\"2024-09-27\",\"2024-09-30\",\"2024-10-01\",\"2024-10-02\",\"2024-10-03\",\"2024-10-04\",\"2024-10-07\",\"2024-10-08\",\"2024-10-09\",\"2024-10-10\",\"2024-10-11\"],\"y\":[\"\",\"\",\"\",\"\",\"\",\"\",\"\",\"\",\"\",\"\",\"\",\"\",\"\",\"\",\"\",\"\",\"\",\"\",\"\",161.072501373291,161.85150146484375],\"yaxis\":\"y2\",\"type\":\"scatter\"},{\"legendgroup\":\"BOLL(Close,20)\",\"line\":{\"color\":\"rgba(55, 128, 191, 1.0)\",\"dash\":\"solid\",\"shape\":\"linear\",\"width\":1.3},\"mode\":\"lines\",\"name\":\"BOLL(Close,20)\",\"showlegend\":true,\"text\":\"\",\"x\":[\"2024-09-13\",\"2024-09-16\",\"2024-09-17\",\"2024-09-18\",\"2024-09-19\",\"2024-09-20\",\"2024-09-23\",\"2024-09-24\",\"2024-09-25\",\"2024-09-26\",\"2024-09-27\",\"2024-09-30\",\"2024-10-01\",\"2024-10-02\",\"2024-10-03\",\"2024-10-04\",\"2024-10-07\",\"2024-10-08\",\"2024-10-09\",\"2024-10-10\",\"2024-10-11\"],\"y\":[\"\",\"\",\"\",\"\",\"\",\"\",\"\",\"\",\"\",\"\",\"\",\"\",\"\",\"\",\"\",\"\",\"\",\"\",\"\",161.072501373291,161.85150146484375],\"yaxis\":\"y2\",\"type\":\"scatter\"},{\"legendgroup\":\"BOLL(Close,20)\",\"line\":{\"color\":\"rgba(55, 128, 191, 0.8999999999999999)\",\"dash\":\"solid\",\"shape\":\"linear\",\"width\":1.3},\"mode\":\"lines\",\"name\":\"UPPER(Close,20)\",\"showlegend\":false,\"text\":\"\",\"x\":[\"2024-09-13\",\"2024-09-16\",\"2024-09-17\",\"2024-09-18\",\"2024-09-19\",\"2024-09-20\",\"2024-09-23\",\"2024-09-24\",\"2024-09-25\",\"2024-09-26\",\"2024-09-27\",\"2024-09-30\",\"2024-10-01\",\"2024-10-02\",\"2024-10-03\",\"2024-10-04\",\"2024-10-07\",\"2024-10-08\",\"2024-10-09\",\"2024-10-10\",\"2024-10-11\"],\"y\":[\"\",\"\",\"\",\"\",\"\",\"\",\"\",\"\",\"\",\"\",\"\",\"\",\"\",\"\",\"\",\"\",\"\",\"\",\"\",175.62950742315059,176.09831460907841],\"yaxis\":\"y2\",\"type\":\"scatter\"},{\"fill\":\"tonexty\",\"fillcolor\":\"rgba(55, 128, 191, 0.1)\",\"legendgroup\":\"BOLL(Close,20)\",\"line\":{\"color\":\"rgba(55, 128, 191, 0.7999999999999998)\",\"dash\":\"solid\",\"shape\":\"linear\",\"width\":1.3},\"mode\":\"lines\",\"name\":\"LOWER(Close,20)\",\"showlegend\":false,\"text\":\"\",\"x\":[\"2024-09-13\",\"2024-09-16\",\"2024-09-17\",\"2024-09-18\",\"2024-09-19\",\"2024-09-20\",\"2024-09-23\",\"2024-09-24\",\"2024-09-25\",\"2024-09-26\",\"2024-09-27\",\"2024-09-30\",\"2024-10-01\",\"2024-10-02\",\"2024-10-03\",\"2024-10-04\",\"2024-10-07\",\"2024-10-08\",\"2024-10-09\",\"2024-10-10\",\"2024-10-11\"],\"y\":[\"\",\"\",\"\",\"\",\"\",\"\",\"\",\"\",\"\",\"\",\"\",\"\",\"\",\"\",\"\",\"\",\"\",\"\",\"\",146.51549532343142,147.60468832060909],\"yaxis\":\"y2\",\"type\":\"scatter\"},{\"marker\":{\"color\":[\"#808080\",\"#808080\",\"#808080\",\"#808080\",\"#17BECF\",\"#808080\",\"#17BECF\",\"#17BECF\",\"#17BECF\",\"#17BECF\",\"#808080\",\"#808080\",\"#808080\",\"#17BECF\",\"#17BECF\",\"#17BECF\",\"#17BECF\",\"#17BECF\",\"#808080\",\"#808080\",\"#17BECF\"],\"line\":{\"color\":[\"#808080\",\"#808080\",\"#808080\",\"#808080\",\"#17BECF\",\"#808080\",\"#17BECF\",\"#17BECF\",\"#17BECF\",\"#17BECF\",\"#808080\",\"#808080\",\"#808080\",\"#17BECF\",\"#17BECF\",\"#17BECF\",\"#17BECF\",\"#17BECF\",\"#808080\",\"#808080\",\"#17BECF\"],\"width\":1}},\"name\":\"Volume\",\"opacity\":0.8,\"orientation\":\"v\",\"text\":\"\",\"x\":[\"2024-09-13\",\"2024-09-16\",\"2024-09-17\",\"2024-09-18\",\"2024-09-19\",\"2024-09-20\",\"2024-09-23\",\"2024-09-24\",\"2024-09-25\",\"2024-09-26\",\"2024-09-27\",\"2024-09-30\",\"2024-10-01\",\"2024-10-02\",\"2024-10-03\",\"2024-10-04\",\"2024-10-07\",\"2024-10-08\",\"2024-10-09\",\"2024-10-10\",\"2024-10-11\"],\"y\":[25117200,27677800,29889000,26320100,44500000,40248200,21728500,27531200,35233300,38044900,27876000,21881600,31831900,24630400,29598800,44556500,38379900,34730200,33890700,75113600,42081900],\"yaxis\":\"y3\",\"type\":\"bar\"},{\"close\":[152.30999755859375,152.0800018310547,150.82000732421875,148.2899932861328,156.74000549316406,155.9499969482422,156.75,158.32000732421875,162.02000427246094,167.49000549316406,164.35000610351562,164.0800018310547,159.75,159.77999877929688,162.85000610351562,170.89999389648438,170.97000122070312,172.8000030517578,171.02000427246094,164.17999267578125,167.88999938964844],\"decreasing\":{\"line\":{\"color\":\"#808080\"}},\"high\":[153.02999877929688,154.44000244140625,154.0399932861328,152.82000732421875,159.25,157.4499969482422,157.19000244140625,159.63999938964844,162.9499969482422,168.67999267578125,168.72999572753906,165.0800018310547,165.39999389648438,163.10000610351562,166.7899932861328,171.2100067138672,172.41000366210938,173.60000610351562,174.0500030517578,172.00999450683594,169.35000610351562],\"increasing\":{\"line\":{\"color\":\"#17BECF\"}},\"low\":[150.6999969482422,150.91000366210938,149.22999572753906,148.00999450683594,152.77000427246094,152.47000122070312,154.97000122070312,154.5800018310547,158.17999267578125,164.0500030517578,163.74000549316406,162.17999267578125,158.0800018310547,158.6699981689453,159.39999389648438,164.4199981689453,168.2100067138672,170.0,169.5500030517578,162.0,163.00999450683594],\"name\":\"AMD\",\"open\":[152.32000732421875,151.6999969482422,153.5500030517578,150.89999389648438,153.80999755859375,156.0,156.4499969482422,157.4600067138672,158.5,167.05999755859375,167.47999572753906,163.10000610351562,164.47999572753906,159.30999755859375,159.7100067138672,166.52999877929688,171.0800018310547,171.75,174.0500030517578,169.75999450683594,164.19000244140625],\"showlegend\":true,\"x\":[\"2024-09-13\",\"2024-09-16\",\"2024-09-17\",\"2024-09-18\",\"2024-09-19\",\"2024-09-20\",\"2024-09-23\",\"2024-09-24\",\"2024-09-25\",\"2024-09-26\",\"2024-09-27\",\"2024-09-30\",\"2024-10-01\",\"2024-10-02\",\"2024-10-03\",\"2024-10-04\",\"2024-10-07\",\"2024-10-08\",\"2024-10-09\",\"2024-10-10\",\"2024-10-11\"],\"yaxis\":\"y2\",\"type\":\"candlestick\"}],                        {\"legend\":{\"bgcolor\":\"#F5F6F9\",\"font\":{\"color\":\"#4D5663\"},\"orientation\":\"h\",\"x\":0.3,\"y\":0.95,\"yanchor\":\"bottom\"},\"margin\":{\"b\":30,\"l\":30,\"r\":30,\"t\":30},\"paper_bgcolor\":\"#F5F6F9\",\"plot_bgcolor\":\"#F5F6F9\",\"showlegend\":true,\"template\":{\"data\":{\"barpolar\":[{\"marker\":{\"line\":{\"color\":\"#E5ECF6\",\"width\":0.5},\"pattern\":{\"fillmode\":\"overlay\",\"size\":10,\"solidity\":0.2}},\"type\":\"barpolar\"}],\"bar\":[{\"error_x\":{\"color\":\"#2a3f5f\"},\"error_y\":{\"color\":\"#2a3f5f\"},\"marker\":{\"line\":{\"color\":\"#E5ECF6\",\"width\":0.5},\"pattern\":{\"fillmode\":\"overlay\",\"size\":10,\"solidity\":0.2}},\"type\":\"bar\"}],\"carpet\":[{\"aaxis\":{\"endlinecolor\":\"#2a3f5f\",\"gridcolor\":\"white\",\"linecolor\":\"white\",\"minorgridcolor\":\"white\",\"startlinecolor\":\"#2a3f5f\"},\"baxis\":{\"endlinecolor\":\"#2a3f5f\",\"gridcolor\":\"white\",\"linecolor\":\"white\",\"minorgridcolor\":\"white\",\"startlinecolor\":\"#2a3f5f\"},\"type\":\"carpet\"}],\"choropleth\":[{\"colorbar\":{\"outlinewidth\":0,\"ticks\":\"\"},\"type\":\"choropleth\"}],\"contourcarpet\":[{\"colorbar\":{\"outlinewidth\":0,\"ticks\":\"\"},\"type\":\"contourcarpet\"}],\"contour\":[{\"colorbar\":{\"outlinewidth\":0,\"ticks\":\"\"},\"colorscale\":[[0.0,\"#0d0887\"],[0.1111111111111111,\"#46039f\"],[0.2222222222222222,\"#7201a8\"],[0.3333333333333333,\"#9c179e\"],[0.4444444444444444,\"#bd3786\"],[0.5555555555555556,\"#d8576b\"],[0.6666666666666666,\"#ed7953\"],[0.7777777777777778,\"#fb9f3a\"],[0.8888888888888888,\"#fdca26\"],[1.0,\"#f0f921\"]],\"type\":\"contour\"}],\"heatmapgl\":[{\"colorbar\":{\"outlinewidth\":0,\"ticks\":\"\"},\"colorscale\":[[0.0,\"#0d0887\"],[0.1111111111111111,\"#46039f\"],[0.2222222222222222,\"#7201a8\"],[0.3333333333333333,\"#9c179e\"],[0.4444444444444444,\"#bd3786\"],[0.5555555555555556,\"#d8576b\"],[0.6666666666666666,\"#ed7953\"],[0.7777777777777778,\"#fb9f3a\"],[0.8888888888888888,\"#fdca26\"],[1.0,\"#f0f921\"]],\"type\":\"heatmapgl\"}],\"heatmap\":[{\"colorbar\":{\"outlinewidth\":0,\"ticks\":\"\"},\"colorscale\":[[0.0,\"#0d0887\"],[0.1111111111111111,\"#46039f\"],[0.2222222222222222,\"#7201a8\"],[0.3333333333333333,\"#9c179e\"],[0.4444444444444444,\"#bd3786\"],[0.5555555555555556,\"#d8576b\"],[0.6666666666666666,\"#ed7953\"],[0.7777777777777778,\"#fb9f3a\"],[0.8888888888888888,\"#fdca26\"],[1.0,\"#f0f921\"]],\"type\":\"heatmap\"}],\"histogram2dcontour\":[{\"colorbar\":{\"outlinewidth\":0,\"ticks\":\"\"},\"colorscale\":[[0.0,\"#0d0887\"],[0.1111111111111111,\"#46039f\"],[0.2222222222222222,\"#7201a8\"],[0.3333333333333333,\"#9c179e\"],[0.4444444444444444,\"#bd3786\"],[0.5555555555555556,\"#d8576b\"],[0.6666666666666666,\"#ed7953\"],[0.7777777777777778,\"#fb9f3a\"],[0.8888888888888888,\"#fdca26\"],[1.0,\"#f0f921\"]],\"type\":\"histogram2dcontour\"}],\"histogram2d\":[{\"colorbar\":{\"outlinewidth\":0,\"ticks\":\"\"},\"colorscale\":[[0.0,\"#0d0887\"],[0.1111111111111111,\"#46039f\"],[0.2222222222222222,\"#7201a8\"],[0.3333333333333333,\"#9c179e\"],[0.4444444444444444,\"#bd3786\"],[0.5555555555555556,\"#d8576b\"],[0.6666666666666666,\"#ed7953\"],[0.7777777777777778,\"#fb9f3a\"],[0.8888888888888888,\"#fdca26\"],[1.0,\"#f0f921\"]],\"type\":\"histogram2d\"}],\"histogram\":[{\"marker\":{\"pattern\":{\"fillmode\":\"overlay\",\"size\":10,\"solidity\":0.2}},\"type\":\"histogram\"}],\"mesh3d\":[{\"colorbar\":{\"outlinewidth\":0,\"ticks\":\"\"},\"type\":\"mesh3d\"}],\"parcoords\":[{\"line\":{\"colorbar\":{\"outlinewidth\":0,\"ticks\":\"\"}},\"type\":\"parcoords\"}],\"pie\":[{\"automargin\":true,\"type\":\"pie\"}],\"scatter3d\":[{\"line\":{\"colorbar\":{\"outlinewidth\":0,\"ticks\":\"\"}},\"marker\":{\"colorbar\":{\"outlinewidth\":0,\"ticks\":\"\"}},\"type\":\"scatter3d\"}],\"scattercarpet\":[{\"marker\":{\"colorbar\":{\"outlinewidth\":0,\"ticks\":\"\"}},\"type\":\"scattercarpet\"}],\"scattergeo\":[{\"marker\":{\"colorbar\":{\"outlinewidth\":0,\"ticks\":\"\"}},\"type\":\"scattergeo\"}],\"scattergl\":[{\"marker\":{\"colorbar\":{\"outlinewidth\":0,\"ticks\":\"\"}},\"type\":\"scattergl\"}],\"scattermapbox\":[{\"marker\":{\"colorbar\":{\"outlinewidth\":0,\"ticks\":\"\"}},\"type\":\"scattermapbox\"}],\"scatterpolargl\":[{\"marker\":{\"colorbar\":{\"outlinewidth\":0,\"ticks\":\"\"}},\"type\":\"scatterpolargl\"}],\"scatterpolar\":[{\"marker\":{\"colorbar\":{\"outlinewidth\":0,\"ticks\":\"\"}},\"type\":\"scatterpolar\"}],\"scatter\":[{\"fillpattern\":{\"fillmode\":\"overlay\",\"size\":10,\"solidity\":0.2},\"type\":\"scatter\"}],\"scatterternary\":[{\"marker\":{\"colorbar\":{\"outlinewidth\":0,\"ticks\":\"\"}},\"type\":\"scatterternary\"}],\"surface\":[{\"colorbar\":{\"outlinewidth\":0,\"ticks\":\"\"},\"colorscale\":[[0.0,\"#0d0887\"],[0.1111111111111111,\"#46039f\"],[0.2222222222222222,\"#7201a8\"],[0.3333333333333333,\"#9c179e\"],[0.4444444444444444,\"#bd3786\"],[0.5555555555555556,\"#d8576b\"],[0.6666666666666666,\"#ed7953\"],[0.7777777777777778,\"#fb9f3a\"],[0.8888888888888888,\"#fdca26\"],[1.0,\"#f0f921\"]],\"type\":\"surface\"}],\"table\":[{\"cells\":{\"fill\":{\"color\":\"#EBF0F8\"},\"line\":{\"color\":\"white\"}},\"header\":{\"fill\":{\"color\":\"#C8D4E3\"},\"line\":{\"color\":\"white\"}},\"type\":\"table\"}]},\"layout\":{\"annotationdefaults\":{\"arrowcolor\":\"#2a3f5f\",\"arrowhead\":0,\"arrowwidth\":1},\"autotypenumbers\":\"strict\",\"coloraxis\":{\"colorbar\":{\"outlinewidth\":0,\"ticks\":\"\"}},\"colorscale\":{\"diverging\":[[0,\"#8e0152\"],[0.1,\"#c51b7d\"],[0.2,\"#de77ae\"],[0.3,\"#f1b6da\"],[0.4,\"#fde0ef\"],[0.5,\"#f7f7f7\"],[0.6,\"#e6f5d0\"],[0.7,\"#b8e186\"],[0.8,\"#7fbc41\"],[0.9,\"#4d9221\"],[1,\"#276419\"]],\"sequential\":[[0.0,\"#0d0887\"],[0.1111111111111111,\"#46039f\"],[0.2222222222222222,\"#7201a8\"],[0.3333333333333333,\"#9c179e\"],[0.4444444444444444,\"#bd3786\"],[0.5555555555555556,\"#d8576b\"],[0.6666666666666666,\"#ed7953\"],[0.7777777777777778,\"#fb9f3a\"],[0.8888888888888888,\"#fdca26\"],[1.0,\"#f0f921\"]],\"sequentialminus\":[[0.0,\"#0d0887\"],[0.1111111111111111,\"#46039f\"],[0.2222222222222222,\"#7201a8\"],[0.3333333333333333,\"#9c179e\"],[0.4444444444444444,\"#bd3786\"],[0.5555555555555556,\"#d8576b\"],[0.6666666666666666,\"#ed7953\"],[0.7777777777777778,\"#fb9f3a\"],[0.8888888888888888,\"#fdca26\"],[1.0,\"#f0f921\"]]},\"colorway\":[\"#636efa\",\"#EF553B\",\"#00cc96\",\"#ab63fa\",\"#FFA15A\",\"#19d3f3\",\"#FF6692\",\"#B6E880\",\"#FF97FF\",\"#FECB52\"],\"font\":{\"color\":\"#2a3f5f\"},\"geo\":{\"bgcolor\":\"white\",\"lakecolor\":\"white\",\"landcolor\":\"#E5ECF6\",\"showlakes\":true,\"showland\":true,\"subunitcolor\":\"white\"},\"hoverlabel\":{\"align\":\"left\"},\"hovermode\":\"closest\",\"mapbox\":{\"style\":\"light\"},\"paper_bgcolor\":\"white\",\"plot_bgcolor\":\"#E5ECF6\",\"polar\":{\"angularaxis\":{\"gridcolor\":\"white\",\"linecolor\":\"white\",\"ticks\":\"\"},\"bgcolor\":\"#E5ECF6\",\"radialaxis\":{\"gridcolor\":\"white\",\"linecolor\":\"white\",\"ticks\":\"\"}},\"scene\":{\"xaxis\":{\"backgroundcolor\":\"#E5ECF6\",\"gridcolor\":\"white\",\"gridwidth\":2,\"linecolor\":\"white\",\"showbackground\":true,\"ticks\":\"\",\"zerolinecolor\":\"white\"},\"yaxis\":{\"backgroundcolor\":\"#E5ECF6\",\"gridcolor\":\"white\",\"gridwidth\":2,\"linecolor\":\"white\",\"showbackground\":true,\"ticks\":\"\",\"zerolinecolor\":\"white\"},\"zaxis\":{\"backgroundcolor\":\"#E5ECF6\",\"gridcolor\":\"white\",\"gridwidth\":2,\"linecolor\":\"white\",\"showbackground\":true,\"ticks\":\"\",\"zerolinecolor\":\"white\"}},\"shapedefaults\":{\"line\":{\"color\":\"#2a3f5f\"}},\"ternary\":{\"aaxis\":{\"gridcolor\":\"white\",\"linecolor\":\"white\",\"ticks\":\"\"},\"baxis\":{\"gridcolor\":\"white\",\"linecolor\":\"white\",\"ticks\":\"\"},\"bgcolor\":\"#E5ECF6\",\"caxis\":{\"gridcolor\":\"white\",\"linecolor\":\"white\",\"ticks\":\"\"}},\"title\":{\"x\":0.05},\"xaxis\":{\"automargin\":true,\"gridcolor\":\"white\",\"linecolor\":\"white\",\"ticks\":\"\",\"title\":{\"standoff\":15},\"zerolinecolor\":\"white\",\"zerolinewidth\":2},\"yaxis\":{\"automargin\":true,\"gridcolor\":\"white\",\"linecolor\":\"white\",\"ticks\":\"\",\"title\":{\"standoff\":15},\"zerolinecolor\":\"white\",\"zerolinewidth\":2}}},\"title\":{\"font\":{\"color\":\"#4D5663\"},\"text\":\"Quantitative Figure\"},\"xaxis\":{\"anchor\":\"y2\",\"gridcolor\":\"#E1E5ED\",\"rangeselector\":{\"bgcolor\":\"rgba(150, 200, 250, 1)\",\"buttons\":[{\"count\":1,\"label\":\"1m\",\"step\":\"month\",\"stepmode\":\"backward\"},{\"count\":1,\"label\":\"1y\",\"step\":\"year\",\"stepmode\":\"backward\"}],\"font\":{\"size\":13},\"visible\":false,\"x\":0,\"y\":0.9},\"rangeslider\":{\"visible\":false},\"showgrid\":true,\"tickfont\":{\"color\":\"#4D5663\"},\"title\":{\"font\":{\"color\":\"#4D5663\"},\"text\":\"\"},\"zerolinecolor\":\"#E1E5ED\"},\"yaxis\":{\"gridcolor\":\"#E1E5ED\",\"showgrid\":true,\"showticklabels\":false,\"tickfont\":{\"color\":\"#4D5663\"},\"title\":{\"font\":{\"color\":\"#4D5663\"},\"text\":\"\"},\"zerolinecolor\":\"#E1E5ED\"},\"yaxis2\":{\"domain\":[0.23,0.9],\"gridcolor\":\"#E1E5ED\",\"showgrid\":true,\"tickfont\":{\"color\":\"#4D5663\"},\"title\":{\"font\":{\"color\":\"#4D5663\"},\"text\":\"\"},\"zerolinecolor\":\"#E1E5ED\"},\"yaxis3\":{\"domain\":[0.0,0.15],\"gridcolor\":\"#E1E5ED\",\"showgrid\":true,\"tickfont\":{\"color\":\"#4D5663\"},\"title\":{\"font\":{\"color\":\"#4D5663\"},\"text\":\"\"},\"zerolinecolor\":\"#E1E5ED\"}},                        {\"showLink\": true, \"linkText\": \"Export to plot.ly\", \"plotlyServerURL\": \"https://plot.ly\", \"responsive\": true}                    ).then(function(){\n",
              "                            \n",
              "var gd = document.getElementById('48985b12-15de-458c-9935-e2ea0a61c39b');\n",
              "var x = new MutationObserver(function (mutations, observer) {{\n",
              "        var display = window.getComputedStyle(gd).display;\n",
              "        if (!display || display === 'none') {{\n",
              "            console.log([gd, 'removed!']);\n",
              "            Plotly.purge(gd);\n",
              "            observer.disconnect();\n",
              "        }}\n",
              "}});\n",
              "\n",
              "// Listen for the removal of the full notebook cells\n",
              "var notebookContainer = gd.closest('#notebook-container');\n",
              "if (notebookContainer) {{\n",
              "    x.observe(notebookContainer, {childList: true});\n",
              "}}\n",
              "\n",
              "// Listen for the clearing of the current output cell\n",
              "var outputEl = gd.closest('.output');\n",
              "if (outputEl) {{\n",
              "    x.observe(outputEl, {childList: true});\n",
              "}}\n",
              "\n",
              "                        })                };                });            </script>        </div>"
            ]
          },
          "metadata": {},
          "output_type": "display_data"
        }
      ],
      "source": [
        "# Create a Quantitative Figure (QuantFig) for the NVDA stock data\n",
        "qf = cf.QuantFig(stock_data, title='Quantitative Figure', legend='top', name=ticker.value)\n",
        "qf.add_sma([10, 20], width=2, color=['green', 'lightgreen'], legendgroup=True)\n",
        "qf.add_bollinger_bands()\n",
        "qf.add_volume()\n",
        "qf.iplot()"
      ]
    },
    {
      "cell_type": "markdown",
      "id": "ec0daccc-f46a-425f-a2f7-5dbd013fcbc2",
      "metadata": {},
      "source": [
        "# Comparing Semiconductor Companies"
      ]
    },
    {
      "cell_type": "code",
      "execution_count": 13,
      "id": "15ceaaf4-789b-47d2-bc53-d824d33306ce",
      "metadata": {},
      "outputs": [
        {
          "name": "stderr",
          "output_type": "stream",
          "text": [
            "[*********************100%***********************]  5 of 5 completed\n"
          ]
        },
        {
          "data": {
            "text/html": [
              "<div>\n",
              "<style scoped>\n",
              "    .dataframe tbody tr th:only-of-type {\n",
              "        vertical-align: middle;\n",
              "    }\n",
              "\n",
              "    .dataframe tbody tr th {\n",
              "        vertical-align: top;\n",
              "    }\n",
              "\n",
              "    .dataframe thead tr th {\n",
              "        text-align: left;\n",
              "    }\n",
              "\n",
              "    .dataframe thead tr:last-of-type th {\n",
              "        text-align: right;\n",
              "    }\n",
              "</style>\n",
              "<table border=\"1\" class=\"dataframe\">\n",
              "  <thead>\n",
              "    <tr>\n",
              "      <th>Price</th>\n",
              "      <th colspan=\"5\" halign=\"left\">Adj Close</th>\n",
              "      <th colspan=\"5\" halign=\"left\">Close</th>\n",
              "      <th>...</th>\n",
              "      <th colspan=\"5\" halign=\"left\">Open</th>\n",
              "      <th colspan=\"5\" halign=\"left\">Volume</th>\n",
              "    </tr>\n",
              "    <tr>\n",
              "      <th>Ticker</th>\n",
              "      <th>AMD</th>\n",
              "      <th>INTC</th>\n",
              "      <th>MU</th>\n",
              "      <th>NVDA</th>\n",
              "      <th>TSM</th>\n",
              "      <th>AMD</th>\n",
              "      <th>INTC</th>\n",
              "      <th>MU</th>\n",
              "      <th>NVDA</th>\n",
              "      <th>TSM</th>\n",
              "      <th>...</th>\n",
              "      <th>AMD</th>\n",
              "      <th>INTC</th>\n",
              "      <th>MU</th>\n",
              "      <th>NVDA</th>\n",
              "      <th>TSM</th>\n",
              "      <th>AMD</th>\n",
              "      <th>INTC</th>\n",
              "      <th>MU</th>\n",
              "      <th>NVDA</th>\n",
              "      <th>TSM</th>\n",
              "    </tr>\n",
              "    <tr>\n",
              "      <th>Date</th>\n",
              "      <th></th>\n",
              "      <th></th>\n",
              "      <th></th>\n",
              "      <th></th>\n",
              "      <th></th>\n",
              "      <th></th>\n",
              "      <th></th>\n",
              "      <th></th>\n",
              "      <th></th>\n",
              "      <th></th>\n",
              "      <th></th>\n",
              "      <th></th>\n",
              "      <th></th>\n",
              "      <th></th>\n",
              "      <th></th>\n",
              "      <th></th>\n",
              "      <th></th>\n",
              "      <th></th>\n",
              "      <th></th>\n",
              "      <th></th>\n",
              "      <th></th>\n",
              "    </tr>\n",
              "  </thead>\n",
              "  <tbody>\n",
              "    <tr>\n",
              "      <th>2024-09-13 00:00:00+00:00</th>\n",
              "      <td>152.309998</td>\n",
              "      <td>19.660000</td>\n",
              "      <td>91.117409</td>\n",
              "      <td>119.099998</td>\n",
              "      <td>172.500000</td>\n",
              "      <td>152.309998</td>\n",
              "      <td>19.660000</td>\n",
              "      <td>91.220001</td>\n",
              "      <td>119.099998</td>\n",
              "      <td>172.500000</td>\n",
              "      <td>...</td>\n",
              "      <td>152.320007</td>\n",
              "      <td>19.490000</td>\n",
              "      <td>88.089996</td>\n",
              "      <td>119.080002</td>\n",
              "      <td>172.240005</td>\n",
              "      <td>25117200</td>\n",
              "      <td>44236300</td>\n",
              "      <td>21267200</td>\n",
              "      <td>238358300</td>\n",
              "      <td>8787800</td>\n",
              "    </tr>\n",
              "    <tr>\n",
              "      <th>2024-09-16 00:00:00+00:00</th>\n",
              "      <td>152.080002</td>\n",
              "      <td>20.910000</td>\n",
              "      <td>87.081947</td>\n",
              "      <td>116.779999</td>\n",
              "      <td>169.080002</td>\n",
              "      <td>152.080002</td>\n",
              "      <td>20.910000</td>\n",
              "      <td>87.180000</td>\n",
              "      <td>116.779999</td>\n",
              "      <td>169.080002</td>\n",
              "      <td>...</td>\n",
              "      <td>151.699997</td>\n",
              "      <td>20.030001</td>\n",
              "      <td>87.239998</td>\n",
              "      <td>116.790001</td>\n",
              "      <td>169.910004</td>\n",
              "      <td>27677800</td>\n",
              "      <td>149337000</td>\n",
              "      <td>26494300</td>\n",
              "      <td>248772300</td>\n",
              "      <td>12194300</td>\n",
              "    </tr>\n",
              "    <tr>\n",
              "      <th>2024-09-17 00:00:00+00:00</th>\n",
              "      <td>150.820007</td>\n",
              "      <td>21.469999</td>\n",
              "      <td>88.630211</td>\n",
              "      <td>115.589996</td>\n",
              "      <td>167.350006</td>\n",
              "      <td>150.820007</td>\n",
              "      <td>21.469999</td>\n",
              "      <td>88.730003</td>\n",
              "      <td>115.589996</td>\n",
              "      <td>167.350006</td>\n",
              "      <td>...</td>\n",
              "      <td>153.550003</td>\n",
              "      <td>21.709999</td>\n",
              "      <td>88.059998</td>\n",
              "      <td>118.169998</td>\n",
              "      <td>169.350006</td>\n",
              "      <td>29889000</td>\n",
              "      <td>196249800</td>\n",
              "      <td>17744800</td>\n",
              "      <td>231925900</td>\n",
              "      <td>8629100</td>\n",
              "    </tr>\n",
              "    <tr>\n",
              "      <th>2024-09-18 00:00:00+00:00</th>\n",
              "      <td>148.289993</td>\n",
              "      <td>20.770000</td>\n",
              "      <td>87.251755</td>\n",
              "      <td>113.370003</td>\n",
              "      <td>167.279999</td>\n",
              "      <td>148.289993</td>\n",
              "      <td>20.770000</td>\n",
              "      <td>87.349998</td>\n",
              "      <td>113.370003</td>\n",
              "      <td>167.279999</td>\n",
              "      <td>...</td>\n",
              "      <td>150.899994</td>\n",
              "      <td>21.360001</td>\n",
              "      <td>87.989998</td>\n",
              "      <td>115.889999</td>\n",
              "      <td>168.460007</td>\n",
              "      <td>26320100</td>\n",
              "      <td>118727900</td>\n",
              "      <td>20130600</td>\n",
              "      <td>310318900</td>\n",
              "      <td>9116000</td>\n",
              "    </tr>\n",
              "    <tr>\n",
              "      <th>2024-09-19 00:00:00+00:00</th>\n",
              "      <td>156.740005</td>\n",
              "      <td>21.139999</td>\n",
              "      <td>89.149620</td>\n",
              "      <td>117.870003</td>\n",
              "      <td>176.220001</td>\n",
              "      <td>156.740005</td>\n",
              "      <td>21.139999</td>\n",
              "      <td>89.250000</td>\n",
              "      <td>117.870003</td>\n",
              "      <td>176.220001</td>\n",
              "      <td>...</td>\n",
              "      <td>153.809998</td>\n",
              "      <td>21.280001</td>\n",
              "      <td>89.349998</td>\n",
              "      <td>117.349998</td>\n",
              "      <td>174.380005</td>\n",
              "      <td>44500000</td>\n",
              "      <td>99829200</td>\n",
              "      <td>25208900</td>\n",
              "      <td>293506400</td>\n",
              "      <td>15855000</td>\n",
              "    </tr>\n",
              "    <tr>\n",
              "      <th>2024-09-20 00:00:00+00:00</th>\n",
              "      <td>155.949997</td>\n",
              "      <td>21.840000</td>\n",
              "      <td>90.797768</td>\n",
              "      <td>116.000000</td>\n",
              "      <td>174.080002</td>\n",
              "      <td>155.949997</td>\n",
              "      <td>21.840000</td>\n",
              "      <td>90.900002</td>\n",
              "      <td>116.000000</td>\n",
              "      <td>174.080002</td>\n",
              "      <td>...</td>\n",
              "      <td>156.000000</td>\n",
              "      <td>20.889999</td>\n",
              "      <td>88.400002</td>\n",
              "      <td>117.059998</td>\n",
              "      <td>174.869995</td>\n",
              "      <td>40248200</td>\n",
              "      <td>260377900</td>\n",
              "      <td>28711000</td>\n",
              "      <td>382462400</td>\n",
              "      <td>18429800</td>\n",
              "    </tr>\n",
              "    <tr>\n",
              "      <th>2024-09-23 00:00:00+00:00</th>\n",
              "      <td>156.750000</td>\n",
              "      <td>22.559999</td>\n",
              "      <td>93.464760</td>\n",
              "      <td>116.260002</td>\n",
              "      <td>174.759995</td>\n",
              "      <td>156.750000</td>\n",
              "      <td>22.559999</td>\n",
              "      <td>93.570000</td>\n",
              "      <td>116.260002</td>\n",
              "      <td>174.759995</td>\n",
              "      <td>...</td>\n",
              "      <td>156.449997</td>\n",
              "      <td>22.430000</td>\n",
              "      <td>92.680000</td>\n",
              "      <td>116.550003</td>\n",
              "      <td>174.839996</td>\n",
              "      <td>21728500</td>\n",
              "      <td>184439100</td>\n",
              "      <td>23394100</td>\n",
              "      <td>206228500</td>\n",
              "      <td>5794200</td>\n",
              "    </tr>\n",
              "    <tr>\n",
              "      <th>2024-09-24 00:00:00+00:00</th>\n",
              "      <td>158.320007</td>\n",
              "      <td>22.809999</td>\n",
              "      <td>93.894279</td>\n",
              "      <td>120.870003</td>\n",
              "      <td>181.970001</td>\n",
              "      <td>158.320007</td>\n",
              "      <td>22.809999</td>\n",
              "      <td>94.000000</td>\n",
              "      <td>120.870003</td>\n",
              "      <td>181.970001</td>\n",
              "      <td>...</td>\n",
              "      <td>157.460007</td>\n",
              "      <td>22.530001</td>\n",
              "      <td>94.730003</td>\n",
              "      <td>116.519997</td>\n",
              "      <td>179.500000</td>\n",
              "      <td>27531200</td>\n",
              "      <td>113082500</td>\n",
              "      <td>23043200</td>\n",
              "      <td>354966800</td>\n",
              "      <td>14576100</td>\n",
              "    </tr>\n",
              "    <tr>\n",
              "      <th>2024-09-25 00:00:00+00:00</th>\n",
              "      <td>162.020004</td>\n",
              "      <td>23.540001</td>\n",
              "      <td>95.662285</td>\n",
              "      <td>123.510002</td>\n",
              "      <td>182.350006</td>\n",
              "      <td>162.020004</td>\n",
              "      <td>23.540001</td>\n",
              "      <td>95.769997</td>\n",
              "      <td>123.510002</td>\n",
              "      <td>182.350006</td>\n",
              "      <td>...</td>\n",
              "      <td>158.500000</td>\n",
              "      <td>22.799999</td>\n",
              "      <td>94.160004</td>\n",
              "      <td>122.019997</td>\n",
              "      <td>181.520004</td>\n",
              "      <td>35233300</td>\n",
              "      <td>117013400</td>\n",
              "      <td>54762900</td>\n",
              "      <td>284692900</td>\n",
              "      <td>8280900</td>\n",
              "    </tr>\n",
              "    <tr>\n",
              "      <th>2024-09-26 00:00:00+00:00</th>\n",
              "      <td>167.490005</td>\n",
              "      <td>23.920000</td>\n",
              "      <td>109.756416</td>\n",
              "      <td>124.040001</td>\n",
              "      <td>186.830002</td>\n",
              "      <td>167.490005</td>\n",
              "      <td>23.920000</td>\n",
              "      <td>109.879997</td>\n",
              "      <td>124.040001</td>\n",
              "      <td>186.830002</td>\n",
              "      <td>...</td>\n",
              "      <td>167.059998</td>\n",
              "      <td>24.280001</td>\n",
              "      <td>113.099998</td>\n",
              "      <td>126.800003</td>\n",
              "      <td>188.500000</td>\n",
              "      <td>38044900</td>\n",
              "      <td>95416900</td>\n",
              "      <td>107965900</td>\n",
              "      <td>302582900</td>\n",
              "      <td>15103400</td>\n",
              "    </tr>\n",
              "    <tr>\n",
              "      <th>2024-09-27 00:00:00+00:00</th>\n",
              "      <td>164.350006</td>\n",
              "      <td>23.910000</td>\n",
              "      <td>107.379097</td>\n",
              "      <td>121.400002</td>\n",
              "      <td>177.970001</td>\n",
              "      <td>164.350006</td>\n",
              "      <td>23.910000</td>\n",
              "      <td>107.500000</td>\n",
              "      <td>121.400002</td>\n",
              "      <td>177.970001</td>\n",
              "      <td>...</td>\n",
              "      <td>167.479996</td>\n",
              "      <td>24.160000</td>\n",
              "      <td>110.500000</td>\n",
              "      <td>123.970001</td>\n",
              "      <td>185.839996</td>\n",
              "      <td>27876000</td>\n",
              "      <td>85883300</td>\n",
              "      <td>42960200</td>\n",
              "      <td>271009200</td>\n",
              "      <td>17908400</td>\n",
              "    </tr>\n",
              "    <tr>\n",
              "      <th>2024-09-30 00:00:00+00:00</th>\n",
              "      <td>164.080002</td>\n",
              "      <td>23.459999</td>\n",
              "      <td>103.593361</td>\n",
              "      <td>121.440002</td>\n",
              "      <td>173.669998</td>\n",
              "      <td>164.080002</td>\n",
              "      <td>23.459999</td>\n",
              "      <td>103.709999</td>\n",
              "      <td>121.440002</td>\n",
              "      <td>173.669998</td>\n",
              "      <td>...</td>\n",
              "      <td>163.100006</td>\n",
              "      <td>23.740000</td>\n",
              "      <td>106.080002</td>\n",
              "      <td>118.309998</td>\n",
              "      <td>174.270004</td>\n",
              "      <td>21881600</td>\n",
              "      <td>66308200</td>\n",
              "      <td>39544700</td>\n",
              "      <td>226553700</td>\n",
              "      <td>13540200</td>\n",
              "    </tr>\n",
              "    <tr>\n",
              "      <th>2024-10-01 00:00:00+00:00</th>\n",
              "      <td>159.750000</td>\n",
              "      <td>22.690001</td>\n",
              "      <td>100.197182</td>\n",
              "      <td>117.000000</td>\n",
              "      <td>172.070007</td>\n",
              "      <td>159.750000</td>\n",
              "      <td>22.690001</td>\n",
              "      <td>100.309998</td>\n",
              "      <td>117.000000</td>\n",
              "      <td>172.070007</td>\n",
              "      <td>...</td>\n",
              "      <td>164.479996</td>\n",
              "      <td>23.459999</td>\n",
              "      <td>103.400002</td>\n",
              "      <td>121.769997</td>\n",
              "      <td>175.309998</td>\n",
              "      <td>31831900</td>\n",
              "      <td>86344400</td>\n",
              "      <td>34309800</td>\n",
              "      <td>302094500</td>\n",
              "      <td>11850200</td>\n",
              "    </tr>\n",
              "    <tr>\n",
              "      <th>2024-10-02 00:00:00+00:00</th>\n",
              "      <td>159.779999</td>\n",
              "      <td>22.389999</td>\n",
              "      <td>99.737701</td>\n",
              "      <td>118.849998</td>\n",
              "      <td>175.800003</td>\n",
              "      <td>159.779999</td>\n",
              "      <td>22.389999</td>\n",
              "      <td>99.849998</td>\n",
              "      <td>118.849998</td>\n",
              "      <td>175.800003</td>\n",
              "      <td>...</td>\n",
              "      <td>159.309998</td>\n",
              "      <td>22.670000</td>\n",
              "      <td>100.589996</td>\n",
              "      <td>116.440002</td>\n",
              "      <td>172.960007</td>\n",
              "      <td>24630400</td>\n",
              "      <td>59033900</td>\n",
              "      <td>26334900</td>\n",
              "      <td>221845900</td>\n",
              "      <td>11164400</td>\n",
              "    </tr>\n",
              "    <tr>\n",
              "      <th>2024-10-03 00:00:00+00:00</th>\n",
              "      <td>162.850006</td>\n",
              "      <td>22.260000</td>\n",
              "      <td>101.705482</td>\n",
              "      <td>122.849998</td>\n",
              "      <td>179.479996</td>\n",
              "      <td>162.850006</td>\n",
              "      <td>22.260000</td>\n",
              "      <td>101.820000</td>\n",
              "      <td>122.849998</td>\n",
              "      <td>179.479996</td>\n",
              "      <td>...</td>\n",
              "      <td>159.710007</td>\n",
              "      <td>22.139999</td>\n",
              "      <td>99.470001</td>\n",
              "      <td>120.919998</td>\n",
              "      <td>175.800003</td>\n",
              "      <td>29598800</td>\n",
              "      <td>49565900</td>\n",
              "      <td>22176700</td>\n",
              "      <td>277118000</td>\n",
              "      <td>12555000</td>\n",
              "    </tr>\n",
              "    <tr>\n",
              "      <th>2024-10-04 00:00:00+00:00</th>\n",
              "      <td>170.899994</td>\n",
              "      <td>22.590000</td>\n",
              "      <td>102.135002</td>\n",
              "      <td>124.919998</td>\n",
              "      <td>181.160004</td>\n",
              "      <td>170.899994</td>\n",
              "      <td>22.590000</td>\n",
              "      <td>102.250000</td>\n",
              "      <td>124.919998</td>\n",
              "      <td>181.160004</td>\n",
              "      <td>...</td>\n",
              "      <td>166.529999</td>\n",
              "      <td>22.700001</td>\n",
              "      <td>103.650002</td>\n",
              "      <td>124.940002</td>\n",
              "      <td>179.699997</td>\n",
              "      <td>44556500</td>\n",
              "      <td>49845500</td>\n",
              "      <td>21911200</td>\n",
              "      <td>243678100</td>\n",
              "      <td>9993800</td>\n",
              "    </tr>\n",
              "    <tr>\n",
              "      <th>2024-10-07 00:00:00+00:00</th>\n",
              "      <td>170.970001</td>\n",
              "      <td>22.379999</td>\n",
              "      <td>102.910004</td>\n",
              "      <td>127.720001</td>\n",
              "      <td>184.509995</td>\n",
              "      <td>170.970001</td>\n",
              "      <td>22.379999</td>\n",
              "      <td>102.910004</td>\n",
              "      <td>127.720001</td>\n",
              "      <td>184.509995</td>\n",
              "      <td>...</td>\n",
              "      <td>171.080002</td>\n",
              "      <td>22.400000</td>\n",
              "      <td>102.160004</td>\n",
              "      <td>124.989998</td>\n",
              "      <td>181.600006</td>\n",
              "      <td>38379900</td>\n",
              "      <td>54928700</td>\n",
              "      <td>21749300</td>\n",
              "      <td>346250200</td>\n",
              "      <td>12054200</td>\n",
              "    </tr>\n",
              "    <tr>\n",
              "      <th>2024-10-08 00:00:00+00:00</th>\n",
              "      <td>172.800003</td>\n",
              "      <td>23.320000</td>\n",
              "      <td>102.540001</td>\n",
              "      <td>132.889999</td>\n",
              "      <td>186.050003</td>\n",
              "      <td>172.800003</td>\n",
              "      <td>23.320000</td>\n",
              "      <td>102.540001</td>\n",
              "      <td>132.889999</td>\n",
              "      <td>186.050003</td>\n",
              "      <td>...</td>\n",
              "      <td>171.750000</td>\n",
              "      <td>22.250000</td>\n",
              "      <td>102.180000</td>\n",
              "      <td>130.259995</td>\n",
              "      <td>184.960007</td>\n",
              "      <td>34730200</td>\n",
              "      <td>58650500</td>\n",
              "      <td>18858300</td>\n",
              "      <td>285722500</td>\n",
              "      <td>10394200</td>\n",
              "    </tr>\n",
              "    <tr>\n",
              "      <th>2024-10-09 00:00:00+00:00</th>\n",
              "      <td>171.020004</td>\n",
              "      <td>23.459999</td>\n",
              "      <td>101.699997</td>\n",
              "      <td>132.649994</td>\n",
              "      <td>187.139999</td>\n",
              "      <td>171.020004</td>\n",
              "      <td>23.459999</td>\n",
              "      <td>101.699997</td>\n",
              "      <td>132.649994</td>\n",
              "      <td>187.139999</td>\n",
              "      <td>...</td>\n",
              "      <td>174.050003</td>\n",
              "      <td>23.250000</td>\n",
              "      <td>102.250000</td>\n",
              "      <td>134.110001</td>\n",
              "      <td>187.800003</td>\n",
              "      <td>33890700</td>\n",
              "      <td>44759000</td>\n",
              "      <td>18442700</td>\n",
              "      <td>246191600</td>\n",
              "      <td>11925000</td>\n",
              "    </tr>\n",
              "    <tr>\n",
              "      <th>2024-10-10 00:00:00+00:00</th>\n",
              "      <td>164.179993</td>\n",
              "      <td>23.219999</td>\n",
              "      <td>105.690002</td>\n",
              "      <td>134.809998</td>\n",
              "      <td>185.779999</td>\n",
              "      <td>164.179993</td>\n",
              "      <td>23.219999</td>\n",
              "      <td>105.690002</td>\n",
              "      <td>134.809998</td>\n",
              "      <td>185.779999</td>\n",
              "      <td>...</td>\n",
              "      <td>169.759995</td>\n",
              "      <td>23.190001</td>\n",
              "      <td>101.370003</td>\n",
              "      <td>131.910004</td>\n",
              "      <td>185.860001</td>\n",
              "      <td>75113600</td>\n",
              "      <td>44874600</td>\n",
              "      <td>27605600</td>\n",
              "      <td>242311300</td>\n",
              "      <td>6443800</td>\n",
              "    </tr>\n",
              "    <tr>\n",
              "      <th>2024-10-11 00:00:00+00:00</th>\n",
              "      <td>167.889999</td>\n",
              "      <td>23.559999</td>\n",
              "      <td>106.919998</td>\n",
              "      <td>134.800003</td>\n",
              "      <td>190.809998</td>\n",
              "      <td>167.889999</td>\n",
              "      <td>23.559999</td>\n",
              "      <td>106.919998</td>\n",
              "      <td>134.800003</td>\n",
              "      <td>190.809998</td>\n",
              "      <td>...</td>\n",
              "      <td>164.190002</td>\n",
              "      <td>23.049999</td>\n",
              "      <td>105.040001</td>\n",
              "      <td>134.009995</td>\n",
              "      <td>188.169998</td>\n",
              "      <td>42081900</td>\n",
              "      <td>43493800</td>\n",
              "      <td>19116700</td>\n",
              "      <td>169732000</td>\n",
              "      <td>12150800</td>\n",
              "    </tr>\n",
              "  </tbody>\n",
              "</table>\n",
              "<p>21 rows × 30 columns</p>\n",
              "</div>"
            ],
            "text/plain": [
              "Price                       Adj Close                                     \\\n",
              "Ticker                            AMD       INTC          MU        NVDA   \n",
              "Date                                                                       \n",
              "2024-09-13 00:00:00+00:00  152.309998  19.660000   91.117409  119.099998   \n",
              "2024-09-16 00:00:00+00:00  152.080002  20.910000   87.081947  116.779999   \n",
              "2024-09-17 00:00:00+00:00  150.820007  21.469999   88.630211  115.589996   \n",
              "2024-09-18 00:00:00+00:00  148.289993  20.770000   87.251755  113.370003   \n",
              "2024-09-19 00:00:00+00:00  156.740005  21.139999   89.149620  117.870003   \n",
              "2024-09-20 00:00:00+00:00  155.949997  21.840000   90.797768  116.000000   \n",
              "2024-09-23 00:00:00+00:00  156.750000  22.559999   93.464760  116.260002   \n",
              "2024-09-24 00:00:00+00:00  158.320007  22.809999   93.894279  120.870003   \n",
              "2024-09-25 00:00:00+00:00  162.020004  23.540001   95.662285  123.510002   \n",
              "2024-09-26 00:00:00+00:00  167.490005  23.920000  109.756416  124.040001   \n",
              "2024-09-27 00:00:00+00:00  164.350006  23.910000  107.379097  121.400002   \n",
              "2024-09-30 00:00:00+00:00  164.080002  23.459999  103.593361  121.440002   \n",
              "2024-10-01 00:00:00+00:00  159.750000  22.690001  100.197182  117.000000   \n",
              "2024-10-02 00:00:00+00:00  159.779999  22.389999   99.737701  118.849998   \n",
              "2024-10-03 00:00:00+00:00  162.850006  22.260000  101.705482  122.849998   \n",
              "2024-10-04 00:00:00+00:00  170.899994  22.590000  102.135002  124.919998   \n",
              "2024-10-07 00:00:00+00:00  170.970001  22.379999  102.910004  127.720001   \n",
              "2024-10-08 00:00:00+00:00  172.800003  23.320000  102.540001  132.889999   \n",
              "2024-10-09 00:00:00+00:00  171.020004  23.459999  101.699997  132.649994   \n",
              "2024-10-10 00:00:00+00:00  164.179993  23.219999  105.690002  134.809998   \n",
              "2024-10-11 00:00:00+00:00  167.889999  23.559999  106.919998  134.800003   \n",
              "\n",
              "Price                                       Close                         \\\n",
              "Ticker                            TSM         AMD       INTC          MU   \n",
              "Date                                                                       \n",
              "2024-09-13 00:00:00+00:00  172.500000  152.309998  19.660000   91.220001   \n",
              "2024-09-16 00:00:00+00:00  169.080002  152.080002  20.910000   87.180000   \n",
              "2024-09-17 00:00:00+00:00  167.350006  150.820007  21.469999   88.730003   \n",
              "2024-09-18 00:00:00+00:00  167.279999  148.289993  20.770000   87.349998   \n",
              "2024-09-19 00:00:00+00:00  176.220001  156.740005  21.139999   89.250000   \n",
              "2024-09-20 00:00:00+00:00  174.080002  155.949997  21.840000   90.900002   \n",
              "2024-09-23 00:00:00+00:00  174.759995  156.750000  22.559999   93.570000   \n",
              "2024-09-24 00:00:00+00:00  181.970001  158.320007  22.809999   94.000000   \n",
              "2024-09-25 00:00:00+00:00  182.350006  162.020004  23.540001   95.769997   \n",
              "2024-09-26 00:00:00+00:00  186.830002  167.490005  23.920000  109.879997   \n",
              "2024-09-27 00:00:00+00:00  177.970001  164.350006  23.910000  107.500000   \n",
              "2024-09-30 00:00:00+00:00  173.669998  164.080002  23.459999  103.709999   \n",
              "2024-10-01 00:00:00+00:00  172.070007  159.750000  22.690001  100.309998   \n",
              "2024-10-02 00:00:00+00:00  175.800003  159.779999  22.389999   99.849998   \n",
              "2024-10-03 00:00:00+00:00  179.479996  162.850006  22.260000  101.820000   \n",
              "2024-10-04 00:00:00+00:00  181.160004  170.899994  22.590000  102.250000   \n",
              "2024-10-07 00:00:00+00:00  184.509995  170.970001  22.379999  102.910004   \n",
              "2024-10-08 00:00:00+00:00  186.050003  172.800003  23.320000  102.540001   \n",
              "2024-10-09 00:00:00+00:00  187.139999  171.020004  23.459999  101.699997   \n",
              "2024-10-10 00:00:00+00:00  185.779999  164.179993  23.219999  105.690002   \n",
              "2024-10-11 00:00:00+00:00  190.809998  167.889999  23.559999  106.919998   \n",
              "\n",
              "Price                                              ...        Open             \\\n",
              "Ticker                           NVDA         TSM  ...         AMD       INTC   \n",
              "Date                                               ...                          \n",
              "2024-09-13 00:00:00+00:00  119.099998  172.500000  ...  152.320007  19.490000   \n",
              "2024-09-16 00:00:00+00:00  116.779999  169.080002  ...  151.699997  20.030001   \n",
              "2024-09-17 00:00:00+00:00  115.589996  167.350006  ...  153.550003  21.709999   \n",
              "2024-09-18 00:00:00+00:00  113.370003  167.279999  ...  150.899994  21.360001   \n",
              "2024-09-19 00:00:00+00:00  117.870003  176.220001  ...  153.809998  21.280001   \n",
              "2024-09-20 00:00:00+00:00  116.000000  174.080002  ...  156.000000  20.889999   \n",
              "2024-09-23 00:00:00+00:00  116.260002  174.759995  ...  156.449997  22.430000   \n",
              "2024-09-24 00:00:00+00:00  120.870003  181.970001  ...  157.460007  22.530001   \n",
              "2024-09-25 00:00:00+00:00  123.510002  182.350006  ...  158.500000  22.799999   \n",
              "2024-09-26 00:00:00+00:00  124.040001  186.830002  ...  167.059998  24.280001   \n",
              "2024-09-27 00:00:00+00:00  121.400002  177.970001  ...  167.479996  24.160000   \n",
              "2024-09-30 00:00:00+00:00  121.440002  173.669998  ...  163.100006  23.740000   \n",
              "2024-10-01 00:00:00+00:00  117.000000  172.070007  ...  164.479996  23.459999   \n",
              "2024-10-02 00:00:00+00:00  118.849998  175.800003  ...  159.309998  22.670000   \n",
              "2024-10-03 00:00:00+00:00  122.849998  179.479996  ...  159.710007  22.139999   \n",
              "2024-10-04 00:00:00+00:00  124.919998  181.160004  ...  166.529999  22.700001   \n",
              "2024-10-07 00:00:00+00:00  127.720001  184.509995  ...  171.080002  22.400000   \n",
              "2024-10-08 00:00:00+00:00  132.889999  186.050003  ...  171.750000  22.250000   \n",
              "2024-10-09 00:00:00+00:00  132.649994  187.139999  ...  174.050003  23.250000   \n",
              "2024-10-10 00:00:00+00:00  134.809998  185.779999  ...  169.759995  23.190001   \n",
              "2024-10-11 00:00:00+00:00  134.800003  190.809998  ...  164.190002  23.049999   \n",
              "\n",
              "Price                                                            Volume  \\\n",
              "Ticker                             MU        NVDA         TSM       AMD   \n",
              "Date                                                                      \n",
              "2024-09-13 00:00:00+00:00   88.089996  119.080002  172.240005  25117200   \n",
              "2024-09-16 00:00:00+00:00   87.239998  116.790001  169.910004  27677800   \n",
              "2024-09-17 00:00:00+00:00   88.059998  118.169998  169.350006  29889000   \n",
              "2024-09-18 00:00:00+00:00   87.989998  115.889999  168.460007  26320100   \n",
              "2024-09-19 00:00:00+00:00   89.349998  117.349998  174.380005  44500000   \n",
              "2024-09-20 00:00:00+00:00   88.400002  117.059998  174.869995  40248200   \n",
              "2024-09-23 00:00:00+00:00   92.680000  116.550003  174.839996  21728500   \n",
              "2024-09-24 00:00:00+00:00   94.730003  116.519997  179.500000  27531200   \n",
              "2024-09-25 00:00:00+00:00   94.160004  122.019997  181.520004  35233300   \n",
              "2024-09-26 00:00:00+00:00  113.099998  126.800003  188.500000  38044900   \n",
              "2024-09-27 00:00:00+00:00  110.500000  123.970001  185.839996  27876000   \n",
              "2024-09-30 00:00:00+00:00  106.080002  118.309998  174.270004  21881600   \n",
              "2024-10-01 00:00:00+00:00  103.400002  121.769997  175.309998  31831900   \n",
              "2024-10-02 00:00:00+00:00  100.589996  116.440002  172.960007  24630400   \n",
              "2024-10-03 00:00:00+00:00   99.470001  120.919998  175.800003  29598800   \n",
              "2024-10-04 00:00:00+00:00  103.650002  124.940002  179.699997  44556500   \n",
              "2024-10-07 00:00:00+00:00  102.160004  124.989998  181.600006  38379900   \n",
              "2024-10-08 00:00:00+00:00  102.180000  130.259995  184.960007  34730200   \n",
              "2024-10-09 00:00:00+00:00  102.250000  134.110001  187.800003  33890700   \n",
              "2024-10-10 00:00:00+00:00  101.370003  131.910004  185.860001  75113600   \n",
              "2024-10-11 00:00:00+00:00  105.040001  134.009995  188.169998  42081900   \n",
              "\n",
              "Price                                                                 \n",
              "Ticker                          INTC         MU       NVDA       TSM  \n",
              "Date                                                                  \n",
              "2024-09-13 00:00:00+00:00   44236300   21267200  238358300   8787800  \n",
              "2024-09-16 00:00:00+00:00  149337000   26494300  248772300  12194300  \n",
              "2024-09-17 00:00:00+00:00  196249800   17744800  231925900   8629100  \n",
              "2024-09-18 00:00:00+00:00  118727900   20130600  310318900   9116000  \n",
              "2024-09-19 00:00:00+00:00   99829200   25208900  293506400  15855000  \n",
              "2024-09-20 00:00:00+00:00  260377900   28711000  382462400  18429800  \n",
              "2024-09-23 00:00:00+00:00  184439100   23394100  206228500   5794200  \n",
              "2024-09-24 00:00:00+00:00  113082500   23043200  354966800  14576100  \n",
              "2024-09-25 00:00:00+00:00  117013400   54762900  284692900   8280900  \n",
              "2024-09-26 00:00:00+00:00   95416900  107965900  302582900  15103400  \n",
              "2024-09-27 00:00:00+00:00   85883300   42960200  271009200  17908400  \n",
              "2024-09-30 00:00:00+00:00   66308200   39544700  226553700  13540200  \n",
              "2024-10-01 00:00:00+00:00   86344400   34309800  302094500  11850200  \n",
              "2024-10-02 00:00:00+00:00   59033900   26334900  221845900  11164400  \n",
              "2024-10-03 00:00:00+00:00   49565900   22176700  277118000  12555000  \n",
              "2024-10-04 00:00:00+00:00   49845500   21911200  243678100   9993800  \n",
              "2024-10-07 00:00:00+00:00   54928700   21749300  346250200  12054200  \n",
              "2024-10-08 00:00:00+00:00   58650500   18858300  285722500  10394200  \n",
              "2024-10-09 00:00:00+00:00   44759000   18442700  246191600  11925000  \n",
              "2024-10-10 00:00:00+00:00   44874600   27605600  242311300   6443800  \n",
              "2024-10-11 00:00:00+00:00   43493800   19116700  169732000  12150800  \n",
              "\n",
              "[21 rows x 30 columns]"
            ]
          },
          "execution_count": 13,
          "metadata": {},
          "output_type": "execute_result"
        }
      ],
      "source": [
        "# Download stock data for semiconductor companies\n",
        "semiconductor_tickers = ['NVDA', 'INTC', 'AMD', 'TSM', 'MU']\n",
        "semiconductor_data = yf.download(semiconductor_tickers, start=date.today() - relativedelta(months=+period.value), end=date.today())\n",
        "semiconductor_data"
      ]
    },
    {
      "cell_type": "code",
      "execution_count": 14,
      "id": "2de843c3-bf7b-4c38-b6ac-2101b0ee4a6e",
      "metadata": {},
      "outputs": [
        {
          "data": {
            "application/vnd.plotly.v1+json": {
              "config": {
                "linkText": "Export to plot.ly",
                "plotlyServerURL": "https://plot.ly",
                "showLink": true
              },
              "data": [
                {
                  "line": {
                    "color": "rgba(255, 153, 51, 1.0)",
                    "dash": "solid",
                    "shape": "linear",
                    "width": 1.3
                  },
                  "mode": "lines",
                  "name": "AMD",
                  "text": "",
                  "type": "scatter",
                  "x": [
                    "2024-09-13 00:00:00+00:00",
                    "2024-09-16 00:00:00+00:00",
                    "2024-09-17 00:00:00+00:00",
                    "2024-09-18 00:00:00+00:00",
                    "2024-09-19 00:00:00+00:00",
                    "2024-09-20 00:00:00+00:00",
                    "2024-09-23 00:00:00+00:00",
                    "2024-09-24 00:00:00+00:00",
                    "2024-09-25 00:00:00+00:00",
                    "2024-09-26 00:00:00+00:00",
                    "2024-09-27 00:00:00+00:00",
                    "2024-09-30 00:00:00+00:00",
                    "2024-10-01 00:00:00+00:00",
                    "2024-10-02 00:00:00+00:00",
                    "2024-10-03 00:00:00+00:00",
                    "2024-10-04 00:00:00+00:00",
                    "2024-10-07 00:00:00+00:00",
                    "2024-10-08 00:00:00+00:00",
                    "2024-10-09 00:00:00+00:00",
                    "2024-10-10 00:00:00+00:00",
                    "2024-10-11 00:00:00+00:00"
                  ],
                  "y": [
                    152.30999755859375,
                    152.0800018310547,
                    150.82000732421875,
                    148.2899932861328,
                    156.74000549316406,
                    155.9499969482422,
                    156.75,
                    158.32000732421875,
                    162.02000427246094,
                    167.49000549316406,
                    164.35000610351562,
                    164.0800018310547,
                    159.75,
                    159.77999877929688,
                    162.85000610351562,
                    170.89999389648438,
                    170.97000122070312,
                    172.8000030517578,
                    171.02000427246094,
                    164.17999267578125,
                    167.88999938964844
                  ]
                },
                {
                  "line": {
                    "color": "rgba(55, 128, 191, 1.0)",
                    "dash": "solid",
                    "shape": "linear",
                    "width": 1.3
                  },
                  "mode": "lines",
                  "name": "INTC",
                  "text": "",
                  "type": "scatter",
                  "x": [
                    "2024-09-13 00:00:00+00:00",
                    "2024-09-16 00:00:00+00:00",
                    "2024-09-17 00:00:00+00:00",
                    "2024-09-18 00:00:00+00:00",
                    "2024-09-19 00:00:00+00:00",
                    "2024-09-20 00:00:00+00:00",
                    "2024-09-23 00:00:00+00:00",
                    "2024-09-24 00:00:00+00:00",
                    "2024-09-25 00:00:00+00:00",
                    "2024-09-26 00:00:00+00:00",
                    "2024-09-27 00:00:00+00:00",
                    "2024-09-30 00:00:00+00:00",
                    "2024-10-01 00:00:00+00:00",
                    "2024-10-02 00:00:00+00:00",
                    "2024-10-03 00:00:00+00:00",
                    "2024-10-04 00:00:00+00:00",
                    "2024-10-07 00:00:00+00:00",
                    "2024-10-08 00:00:00+00:00",
                    "2024-10-09 00:00:00+00:00",
                    "2024-10-10 00:00:00+00:00",
                    "2024-10-11 00:00:00+00:00"
                  ],
                  "y": [
                    19.65999984741211,
                    20.90999984741211,
                    21.469999313354492,
                    20.770000457763672,
                    21.139999389648438,
                    21.84000015258789,
                    22.559999465942383,
                    22.809999465942383,
                    23.540000915527344,
                    23.920000076293945,
                    23.90999984741211,
                    23.459999084472656,
                    22.690000534057617,
                    22.389999389648438,
                    22.260000228881836,
                    22.59000015258789,
                    22.3799991607666,
                    23.31999969482422,
                    23.459999084472656,
                    23.219999313354492,
                    23.559999465942383
                  ]
                },
                {
                  "line": {
                    "color": "rgba(50, 171, 96, 1.0)",
                    "dash": "solid",
                    "shape": "linear",
                    "width": 1.3
                  },
                  "mode": "lines",
                  "name": "MU",
                  "text": "",
                  "type": "scatter",
                  "x": [
                    "2024-09-13 00:00:00+00:00",
                    "2024-09-16 00:00:00+00:00",
                    "2024-09-17 00:00:00+00:00",
                    "2024-09-18 00:00:00+00:00",
                    "2024-09-19 00:00:00+00:00",
                    "2024-09-20 00:00:00+00:00",
                    "2024-09-23 00:00:00+00:00",
                    "2024-09-24 00:00:00+00:00",
                    "2024-09-25 00:00:00+00:00",
                    "2024-09-26 00:00:00+00:00",
                    "2024-09-27 00:00:00+00:00",
                    "2024-09-30 00:00:00+00:00",
                    "2024-10-01 00:00:00+00:00",
                    "2024-10-02 00:00:00+00:00",
                    "2024-10-03 00:00:00+00:00",
                    "2024-10-04 00:00:00+00:00",
                    "2024-10-07 00:00:00+00:00",
                    "2024-10-08 00:00:00+00:00",
                    "2024-10-09 00:00:00+00:00",
                    "2024-10-10 00:00:00+00:00",
                    "2024-10-11 00:00:00+00:00"
                  ],
                  "y": [
                    91.1174087524414,
                    87.08194732666016,
                    88.63021087646484,
                    87.25175476074219,
                    89.14962005615234,
                    90.79776763916016,
                    93.46475982666016,
                    93.89427947998047,
                    95.66228485107422,
                    109.75641632080078,
                    107.37909698486328,
                    103.5933609008789,
                    100.19718170166016,
                    99.73770141601562,
                    101.70548248291016,
                    102.13500213623047,
                    102.91000366210938,
                    102.54000091552734,
                    101.69999694824219,
                    105.69000244140625,
                    106.91999816894531
                  ]
                },
                {
                  "line": {
                    "color": "rgba(128, 0, 128, 1.0)",
                    "dash": "solid",
                    "shape": "linear",
                    "width": 1.3
                  },
                  "mode": "lines",
                  "name": "NVDA",
                  "text": "",
                  "type": "scatter",
                  "x": [
                    "2024-09-13 00:00:00+00:00",
                    "2024-09-16 00:00:00+00:00",
                    "2024-09-17 00:00:00+00:00",
                    "2024-09-18 00:00:00+00:00",
                    "2024-09-19 00:00:00+00:00",
                    "2024-09-20 00:00:00+00:00",
                    "2024-09-23 00:00:00+00:00",
                    "2024-09-24 00:00:00+00:00",
                    "2024-09-25 00:00:00+00:00",
                    "2024-09-26 00:00:00+00:00",
                    "2024-09-27 00:00:00+00:00",
                    "2024-09-30 00:00:00+00:00",
                    "2024-10-01 00:00:00+00:00",
                    "2024-10-02 00:00:00+00:00",
                    "2024-10-03 00:00:00+00:00",
                    "2024-10-04 00:00:00+00:00",
                    "2024-10-07 00:00:00+00:00",
                    "2024-10-08 00:00:00+00:00",
                    "2024-10-09 00:00:00+00:00",
                    "2024-10-10 00:00:00+00:00",
                    "2024-10-11 00:00:00+00:00"
                  ],
                  "y": [
                    119.0999984741211,
                    116.77999877929688,
                    115.58999633789062,
                    113.37000274658203,
                    117.87000274658203,
                    116,
                    116.26000213623047,
                    120.87000274658203,
                    123.51000213623047,
                    124.04000091552734,
                    121.4000015258789,
                    121.44000244140625,
                    117,
                    118.8499984741211,
                    122.8499984741211,
                    124.91999816894531,
                    127.72000122070312,
                    132.88999938964844,
                    132.64999389648438,
                    134.80999755859375,
                    134.8000030517578
                  ]
                },
                {
                  "line": {
                    "color": "rgba(219, 64, 82, 1.0)",
                    "dash": "solid",
                    "shape": "linear",
                    "width": 1.3
                  },
                  "mode": "lines",
                  "name": "TSM",
                  "text": "",
                  "type": "scatter",
                  "x": [
                    "2024-09-13 00:00:00+00:00",
                    "2024-09-16 00:00:00+00:00",
                    "2024-09-17 00:00:00+00:00",
                    "2024-09-18 00:00:00+00:00",
                    "2024-09-19 00:00:00+00:00",
                    "2024-09-20 00:00:00+00:00",
                    "2024-09-23 00:00:00+00:00",
                    "2024-09-24 00:00:00+00:00",
                    "2024-09-25 00:00:00+00:00",
                    "2024-09-26 00:00:00+00:00",
                    "2024-09-27 00:00:00+00:00",
                    "2024-09-30 00:00:00+00:00",
                    "2024-10-01 00:00:00+00:00",
                    "2024-10-02 00:00:00+00:00",
                    "2024-10-03 00:00:00+00:00",
                    "2024-10-04 00:00:00+00:00",
                    "2024-10-07 00:00:00+00:00",
                    "2024-10-08 00:00:00+00:00",
                    "2024-10-09 00:00:00+00:00",
                    "2024-10-10 00:00:00+00:00",
                    "2024-10-11 00:00:00+00:00"
                  ],
                  "y": [
                    172.5,
                    169.0800018310547,
                    167.35000610351562,
                    167.27999877929688,
                    176.22000122070312,
                    174.0800018310547,
                    174.75999450683594,
                    181.97000122070312,
                    182.35000610351562,
                    186.8300018310547,
                    177.97000122070312,
                    173.6699981689453,
                    172.07000732421875,
                    175.8000030517578,
                    179.47999572753906,
                    181.16000366210938,
                    184.50999450683594,
                    186.0500030517578,
                    187.13999938964844,
                    185.77999877929688,
                    190.80999755859375
                  ]
                }
              ],
              "layout": {
                "legend": {
                  "bgcolor": "#F5F6F9",
                  "font": {
                    "color": "#4D5663"
                  }
                },
                "paper_bgcolor": "#F5F6F9",
                "plot_bgcolor": "#F5F6F9",
                "template": {
                  "data": {
                    "bar": [
                      {
                        "error_x": {
                          "color": "#2a3f5f"
                        },
                        "error_y": {
                          "color": "#2a3f5f"
                        },
                        "marker": {
                          "line": {
                            "color": "#E5ECF6",
                            "width": 0.5
                          },
                          "pattern": {
                            "fillmode": "overlay",
                            "size": 10,
                            "solidity": 0.2
                          }
                        },
                        "type": "bar"
                      }
                    ],
                    "barpolar": [
                      {
                        "marker": {
                          "line": {
                            "color": "#E5ECF6",
                            "width": 0.5
                          },
                          "pattern": {
                            "fillmode": "overlay",
                            "size": 10,
                            "solidity": 0.2
                          }
                        },
                        "type": "barpolar"
                      }
                    ],
                    "carpet": [
                      {
                        "aaxis": {
                          "endlinecolor": "#2a3f5f",
                          "gridcolor": "white",
                          "linecolor": "white",
                          "minorgridcolor": "white",
                          "startlinecolor": "#2a3f5f"
                        },
                        "baxis": {
                          "endlinecolor": "#2a3f5f",
                          "gridcolor": "white",
                          "linecolor": "white",
                          "minorgridcolor": "white",
                          "startlinecolor": "#2a3f5f"
                        },
                        "type": "carpet"
                      }
                    ],
                    "choropleth": [
                      {
                        "colorbar": {
                          "outlinewidth": 0,
                          "ticks": ""
                        },
                        "type": "choropleth"
                      }
                    ],
                    "contour": [
                      {
                        "colorbar": {
                          "outlinewidth": 0,
                          "ticks": ""
                        },
                        "colorscale": [
                          [
                            0,
                            "#0d0887"
                          ],
                          [
                            0.1111111111111111,
                            "#46039f"
                          ],
                          [
                            0.2222222222222222,
                            "#7201a8"
                          ],
                          [
                            0.3333333333333333,
                            "#9c179e"
                          ],
                          [
                            0.4444444444444444,
                            "#bd3786"
                          ],
                          [
                            0.5555555555555556,
                            "#d8576b"
                          ],
                          [
                            0.6666666666666666,
                            "#ed7953"
                          ],
                          [
                            0.7777777777777778,
                            "#fb9f3a"
                          ],
                          [
                            0.8888888888888888,
                            "#fdca26"
                          ],
                          [
                            1,
                            "#f0f921"
                          ]
                        ],
                        "type": "contour"
                      }
                    ],
                    "contourcarpet": [
                      {
                        "colorbar": {
                          "outlinewidth": 0,
                          "ticks": ""
                        },
                        "type": "contourcarpet"
                      }
                    ],
                    "heatmap": [
                      {
                        "colorbar": {
                          "outlinewidth": 0,
                          "ticks": ""
                        },
                        "colorscale": [
                          [
                            0,
                            "#0d0887"
                          ],
                          [
                            0.1111111111111111,
                            "#46039f"
                          ],
                          [
                            0.2222222222222222,
                            "#7201a8"
                          ],
                          [
                            0.3333333333333333,
                            "#9c179e"
                          ],
                          [
                            0.4444444444444444,
                            "#bd3786"
                          ],
                          [
                            0.5555555555555556,
                            "#d8576b"
                          ],
                          [
                            0.6666666666666666,
                            "#ed7953"
                          ],
                          [
                            0.7777777777777778,
                            "#fb9f3a"
                          ],
                          [
                            0.8888888888888888,
                            "#fdca26"
                          ],
                          [
                            1,
                            "#f0f921"
                          ]
                        ],
                        "type": "heatmap"
                      }
                    ],
                    "heatmapgl": [
                      {
                        "colorbar": {
                          "outlinewidth": 0,
                          "ticks": ""
                        },
                        "colorscale": [
                          [
                            0,
                            "#0d0887"
                          ],
                          [
                            0.1111111111111111,
                            "#46039f"
                          ],
                          [
                            0.2222222222222222,
                            "#7201a8"
                          ],
                          [
                            0.3333333333333333,
                            "#9c179e"
                          ],
                          [
                            0.4444444444444444,
                            "#bd3786"
                          ],
                          [
                            0.5555555555555556,
                            "#d8576b"
                          ],
                          [
                            0.6666666666666666,
                            "#ed7953"
                          ],
                          [
                            0.7777777777777778,
                            "#fb9f3a"
                          ],
                          [
                            0.8888888888888888,
                            "#fdca26"
                          ],
                          [
                            1,
                            "#f0f921"
                          ]
                        ],
                        "type": "heatmapgl"
                      }
                    ],
                    "histogram": [
                      {
                        "marker": {
                          "pattern": {
                            "fillmode": "overlay",
                            "size": 10,
                            "solidity": 0.2
                          }
                        },
                        "type": "histogram"
                      }
                    ],
                    "histogram2d": [
                      {
                        "colorbar": {
                          "outlinewidth": 0,
                          "ticks": ""
                        },
                        "colorscale": [
                          [
                            0,
                            "#0d0887"
                          ],
                          [
                            0.1111111111111111,
                            "#46039f"
                          ],
                          [
                            0.2222222222222222,
                            "#7201a8"
                          ],
                          [
                            0.3333333333333333,
                            "#9c179e"
                          ],
                          [
                            0.4444444444444444,
                            "#bd3786"
                          ],
                          [
                            0.5555555555555556,
                            "#d8576b"
                          ],
                          [
                            0.6666666666666666,
                            "#ed7953"
                          ],
                          [
                            0.7777777777777778,
                            "#fb9f3a"
                          ],
                          [
                            0.8888888888888888,
                            "#fdca26"
                          ],
                          [
                            1,
                            "#f0f921"
                          ]
                        ],
                        "type": "histogram2d"
                      }
                    ],
                    "histogram2dcontour": [
                      {
                        "colorbar": {
                          "outlinewidth": 0,
                          "ticks": ""
                        },
                        "colorscale": [
                          [
                            0,
                            "#0d0887"
                          ],
                          [
                            0.1111111111111111,
                            "#46039f"
                          ],
                          [
                            0.2222222222222222,
                            "#7201a8"
                          ],
                          [
                            0.3333333333333333,
                            "#9c179e"
                          ],
                          [
                            0.4444444444444444,
                            "#bd3786"
                          ],
                          [
                            0.5555555555555556,
                            "#d8576b"
                          ],
                          [
                            0.6666666666666666,
                            "#ed7953"
                          ],
                          [
                            0.7777777777777778,
                            "#fb9f3a"
                          ],
                          [
                            0.8888888888888888,
                            "#fdca26"
                          ],
                          [
                            1,
                            "#f0f921"
                          ]
                        ],
                        "type": "histogram2dcontour"
                      }
                    ],
                    "mesh3d": [
                      {
                        "colorbar": {
                          "outlinewidth": 0,
                          "ticks": ""
                        },
                        "type": "mesh3d"
                      }
                    ],
                    "parcoords": [
                      {
                        "line": {
                          "colorbar": {
                            "outlinewidth": 0,
                            "ticks": ""
                          }
                        },
                        "type": "parcoords"
                      }
                    ],
                    "pie": [
                      {
                        "automargin": true,
                        "type": "pie"
                      }
                    ],
                    "scatter": [
                      {
                        "fillpattern": {
                          "fillmode": "overlay",
                          "size": 10,
                          "solidity": 0.2
                        },
                        "type": "scatter"
                      }
                    ],
                    "scatter3d": [
                      {
                        "line": {
                          "colorbar": {
                            "outlinewidth": 0,
                            "ticks": ""
                          }
                        },
                        "marker": {
                          "colorbar": {
                            "outlinewidth": 0,
                            "ticks": ""
                          }
                        },
                        "type": "scatter3d"
                      }
                    ],
                    "scattercarpet": [
                      {
                        "marker": {
                          "colorbar": {
                            "outlinewidth": 0,
                            "ticks": ""
                          }
                        },
                        "type": "scattercarpet"
                      }
                    ],
                    "scattergeo": [
                      {
                        "marker": {
                          "colorbar": {
                            "outlinewidth": 0,
                            "ticks": ""
                          }
                        },
                        "type": "scattergeo"
                      }
                    ],
                    "scattergl": [
                      {
                        "marker": {
                          "colorbar": {
                            "outlinewidth": 0,
                            "ticks": ""
                          }
                        },
                        "type": "scattergl"
                      }
                    ],
                    "scattermapbox": [
                      {
                        "marker": {
                          "colorbar": {
                            "outlinewidth": 0,
                            "ticks": ""
                          }
                        },
                        "type": "scattermapbox"
                      }
                    ],
                    "scatterpolar": [
                      {
                        "marker": {
                          "colorbar": {
                            "outlinewidth": 0,
                            "ticks": ""
                          }
                        },
                        "type": "scatterpolar"
                      }
                    ],
                    "scatterpolargl": [
                      {
                        "marker": {
                          "colorbar": {
                            "outlinewidth": 0,
                            "ticks": ""
                          }
                        },
                        "type": "scatterpolargl"
                      }
                    ],
                    "scatterternary": [
                      {
                        "marker": {
                          "colorbar": {
                            "outlinewidth": 0,
                            "ticks": ""
                          }
                        },
                        "type": "scatterternary"
                      }
                    ],
                    "surface": [
                      {
                        "colorbar": {
                          "outlinewidth": 0,
                          "ticks": ""
                        },
                        "colorscale": [
                          [
                            0,
                            "#0d0887"
                          ],
                          [
                            0.1111111111111111,
                            "#46039f"
                          ],
                          [
                            0.2222222222222222,
                            "#7201a8"
                          ],
                          [
                            0.3333333333333333,
                            "#9c179e"
                          ],
                          [
                            0.4444444444444444,
                            "#bd3786"
                          ],
                          [
                            0.5555555555555556,
                            "#d8576b"
                          ],
                          [
                            0.6666666666666666,
                            "#ed7953"
                          ],
                          [
                            0.7777777777777778,
                            "#fb9f3a"
                          ],
                          [
                            0.8888888888888888,
                            "#fdca26"
                          ],
                          [
                            1,
                            "#f0f921"
                          ]
                        ],
                        "type": "surface"
                      }
                    ],
                    "table": [
                      {
                        "cells": {
                          "fill": {
                            "color": "#EBF0F8"
                          },
                          "line": {
                            "color": "white"
                          }
                        },
                        "header": {
                          "fill": {
                            "color": "#C8D4E3"
                          },
                          "line": {
                            "color": "white"
                          }
                        },
                        "type": "table"
                      }
                    ]
                  },
                  "layout": {
                    "annotationdefaults": {
                      "arrowcolor": "#2a3f5f",
                      "arrowhead": 0,
                      "arrowwidth": 1
                    },
                    "autotypenumbers": "strict",
                    "coloraxis": {
                      "colorbar": {
                        "outlinewidth": 0,
                        "ticks": ""
                      }
                    },
                    "colorscale": {
                      "diverging": [
                        [
                          0,
                          "#8e0152"
                        ],
                        [
                          0.1,
                          "#c51b7d"
                        ],
                        [
                          0.2,
                          "#de77ae"
                        ],
                        [
                          0.3,
                          "#f1b6da"
                        ],
                        [
                          0.4,
                          "#fde0ef"
                        ],
                        [
                          0.5,
                          "#f7f7f7"
                        ],
                        [
                          0.6,
                          "#e6f5d0"
                        ],
                        [
                          0.7,
                          "#b8e186"
                        ],
                        [
                          0.8,
                          "#7fbc41"
                        ],
                        [
                          0.9,
                          "#4d9221"
                        ],
                        [
                          1,
                          "#276419"
                        ]
                      ],
                      "sequential": [
                        [
                          0,
                          "#0d0887"
                        ],
                        [
                          0.1111111111111111,
                          "#46039f"
                        ],
                        [
                          0.2222222222222222,
                          "#7201a8"
                        ],
                        [
                          0.3333333333333333,
                          "#9c179e"
                        ],
                        [
                          0.4444444444444444,
                          "#bd3786"
                        ],
                        [
                          0.5555555555555556,
                          "#d8576b"
                        ],
                        [
                          0.6666666666666666,
                          "#ed7953"
                        ],
                        [
                          0.7777777777777778,
                          "#fb9f3a"
                        ],
                        [
                          0.8888888888888888,
                          "#fdca26"
                        ],
                        [
                          1,
                          "#f0f921"
                        ]
                      ],
                      "sequentialminus": [
                        [
                          0,
                          "#0d0887"
                        ],
                        [
                          0.1111111111111111,
                          "#46039f"
                        ],
                        [
                          0.2222222222222222,
                          "#7201a8"
                        ],
                        [
                          0.3333333333333333,
                          "#9c179e"
                        ],
                        [
                          0.4444444444444444,
                          "#bd3786"
                        ],
                        [
                          0.5555555555555556,
                          "#d8576b"
                        ],
                        [
                          0.6666666666666666,
                          "#ed7953"
                        ],
                        [
                          0.7777777777777778,
                          "#fb9f3a"
                        ],
                        [
                          0.8888888888888888,
                          "#fdca26"
                        ],
                        [
                          1,
                          "#f0f921"
                        ]
                      ]
                    },
                    "colorway": [
                      "#636efa",
                      "#EF553B",
                      "#00cc96",
                      "#ab63fa",
                      "#FFA15A",
                      "#19d3f3",
                      "#FF6692",
                      "#B6E880",
                      "#FF97FF",
                      "#FECB52"
                    ],
                    "font": {
                      "color": "#2a3f5f"
                    },
                    "geo": {
                      "bgcolor": "white",
                      "lakecolor": "white",
                      "landcolor": "#E5ECF6",
                      "showlakes": true,
                      "showland": true,
                      "subunitcolor": "white"
                    },
                    "hoverlabel": {
                      "align": "left"
                    },
                    "hovermode": "closest",
                    "mapbox": {
                      "style": "light"
                    },
                    "paper_bgcolor": "white",
                    "plot_bgcolor": "#E5ECF6",
                    "polar": {
                      "angularaxis": {
                        "gridcolor": "white",
                        "linecolor": "white",
                        "ticks": ""
                      },
                      "bgcolor": "#E5ECF6",
                      "radialaxis": {
                        "gridcolor": "white",
                        "linecolor": "white",
                        "ticks": ""
                      }
                    },
                    "scene": {
                      "xaxis": {
                        "backgroundcolor": "#E5ECF6",
                        "gridcolor": "white",
                        "gridwidth": 2,
                        "linecolor": "white",
                        "showbackground": true,
                        "ticks": "",
                        "zerolinecolor": "white"
                      },
                      "yaxis": {
                        "backgroundcolor": "#E5ECF6",
                        "gridcolor": "white",
                        "gridwidth": 2,
                        "linecolor": "white",
                        "showbackground": true,
                        "ticks": "",
                        "zerolinecolor": "white"
                      },
                      "zaxis": {
                        "backgroundcolor": "#E5ECF6",
                        "gridcolor": "white",
                        "gridwidth": 2,
                        "linecolor": "white",
                        "showbackground": true,
                        "ticks": "",
                        "zerolinecolor": "white"
                      }
                    },
                    "shapedefaults": {
                      "line": {
                        "color": "#2a3f5f"
                      }
                    },
                    "ternary": {
                      "aaxis": {
                        "gridcolor": "white",
                        "linecolor": "white",
                        "ticks": ""
                      },
                      "baxis": {
                        "gridcolor": "white",
                        "linecolor": "white",
                        "ticks": ""
                      },
                      "bgcolor": "#E5ECF6",
                      "caxis": {
                        "gridcolor": "white",
                        "linecolor": "white",
                        "ticks": ""
                      }
                    },
                    "title": {
                      "x": 0.05
                    },
                    "xaxis": {
                      "automargin": true,
                      "gridcolor": "white",
                      "linecolor": "white",
                      "ticks": "",
                      "title": {
                        "standoff": 15
                      },
                      "zerolinecolor": "white",
                      "zerolinewidth": 2
                    },
                    "yaxis": {
                      "automargin": true,
                      "gridcolor": "white",
                      "linecolor": "white",
                      "ticks": "",
                      "title": {
                        "standoff": 15
                      },
                      "zerolinecolor": "white",
                      "zerolinewidth": 2
                    }
                  }
                },
                "title": {
                  "font": {
                    "color": "#4D5663"
                  },
                  "text": "Semiconductor Adjusted Close Prices"
                },
                "xaxis": {
                  "gridcolor": "#E1E5ED",
                  "showgrid": true,
                  "tickfont": {
                    "color": "#4D5663"
                  },
                  "title": {
                    "font": {
                      "color": "#4D5663"
                    },
                    "text": "Dates"
                  },
                  "zerolinecolor": "#E1E5ED"
                },
                "yaxis": {
                  "gridcolor": "#E1E5ED",
                  "showgrid": true,
                  "tickfont": {
                    "color": "#4D5663"
                  },
                  "title": {
                    "font": {
                      "color": "#4D5663"
                    },
                    "text": "Adjusted Close Prices"
                  },
                  "zerolinecolor": "#E1E5ED"
                }
              }
            },
            "text/html": [
              "<div>                            <div id=\"df6a9788-47eb-49c0-a5fa-2aeacd161d0d\" class=\"plotly-graph-div\" style=\"height:525px; width:100%;\"></div>            <script type=\"text/javascript\">                require([\"plotly\"], function(Plotly) {                    window.PLOTLYENV=window.PLOTLYENV || {};\n",
              "                    window.PLOTLYENV.BASE_URL='https://plot.ly';                                    if (document.getElementById(\"df6a9788-47eb-49c0-a5fa-2aeacd161d0d\")) {                    Plotly.newPlot(                        \"df6a9788-47eb-49c0-a5fa-2aeacd161d0d\",                        [{\"line\":{\"color\":\"rgba(255, 153, 51, 1.0)\",\"dash\":\"solid\",\"shape\":\"linear\",\"width\":1.3},\"mode\":\"lines\",\"name\":\"AMD\",\"text\":\"\",\"x\":[\"2024-09-13 00:00:00+00:00\",\"2024-09-16 00:00:00+00:00\",\"2024-09-17 00:00:00+00:00\",\"2024-09-18 00:00:00+00:00\",\"2024-09-19 00:00:00+00:00\",\"2024-09-20 00:00:00+00:00\",\"2024-09-23 00:00:00+00:00\",\"2024-09-24 00:00:00+00:00\",\"2024-09-25 00:00:00+00:00\",\"2024-09-26 00:00:00+00:00\",\"2024-09-27 00:00:00+00:00\",\"2024-09-30 00:00:00+00:00\",\"2024-10-01 00:00:00+00:00\",\"2024-10-02 00:00:00+00:00\",\"2024-10-03 00:00:00+00:00\",\"2024-10-04 00:00:00+00:00\",\"2024-10-07 00:00:00+00:00\",\"2024-10-08 00:00:00+00:00\",\"2024-10-09 00:00:00+00:00\",\"2024-10-10 00:00:00+00:00\",\"2024-10-11 00:00:00+00:00\"],\"y\":[152.30999755859375,152.0800018310547,150.82000732421875,148.2899932861328,156.74000549316406,155.9499969482422,156.75,158.32000732421875,162.02000427246094,167.49000549316406,164.35000610351562,164.0800018310547,159.75,159.77999877929688,162.85000610351562,170.89999389648438,170.97000122070312,172.8000030517578,171.02000427246094,164.17999267578125,167.88999938964844],\"type\":\"scatter\"},{\"line\":{\"color\":\"rgba(55, 128, 191, 1.0)\",\"dash\":\"solid\",\"shape\":\"linear\",\"width\":1.3},\"mode\":\"lines\",\"name\":\"INTC\",\"text\":\"\",\"x\":[\"2024-09-13 00:00:00+00:00\",\"2024-09-16 00:00:00+00:00\",\"2024-09-17 00:00:00+00:00\",\"2024-09-18 00:00:00+00:00\",\"2024-09-19 00:00:00+00:00\",\"2024-09-20 00:00:00+00:00\",\"2024-09-23 00:00:00+00:00\",\"2024-09-24 00:00:00+00:00\",\"2024-09-25 00:00:00+00:00\",\"2024-09-26 00:00:00+00:00\",\"2024-09-27 00:00:00+00:00\",\"2024-09-30 00:00:00+00:00\",\"2024-10-01 00:00:00+00:00\",\"2024-10-02 00:00:00+00:00\",\"2024-10-03 00:00:00+00:00\",\"2024-10-04 00:00:00+00:00\",\"2024-10-07 00:00:00+00:00\",\"2024-10-08 00:00:00+00:00\",\"2024-10-09 00:00:00+00:00\",\"2024-10-10 00:00:00+00:00\",\"2024-10-11 00:00:00+00:00\"],\"y\":[19.65999984741211,20.90999984741211,21.469999313354492,20.770000457763672,21.139999389648438,21.84000015258789,22.559999465942383,22.809999465942383,23.540000915527344,23.920000076293945,23.90999984741211,23.459999084472656,22.690000534057617,22.389999389648438,22.260000228881836,22.59000015258789,22.3799991607666,23.31999969482422,23.459999084472656,23.219999313354492,23.559999465942383],\"type\":\"scatter\"},{\"line\":{\"color\":\"rgba(50, 171, 96, 1.0)\",\"dash\":\"solid\",\"shape\":\"linear\",\"width\":1.3},\"mode\":\"lines\",\"name\":\"MU\",\"text\":\"\",\"x\":[\"2024-09-13 00:00:00+00:00\",\"2024-09-16 00:00:00+00:00\",\"2024-09-17 00:00:00+00:00\",\"2024-09-18 00:00:00+00:00\",\"2024-09-19 00:00:00+00:00\",\"2024-09-20 00:00:00+00:00\",\"2024-09-23 00:00:00+00:00\",\"2024-09-24 00:00:00+00:00\",\"2024-09-25 00:00:00+00:00\",\"2024-09-26 00:00:00+00:00\",\"2024-09-27 00:00:00+00:00\",\"2024-09-30 00:00:00+00:00\",\"2024-10-01 00:00:00+00:00\",\"2024-10-02 00:00:00+00:00\",\"2024-10-03 00:00:00+00:00\",\"2024-10-04 00:00:00+00:00\",\"2024-10-07 00:00:00+00:00\",\"2024-10-08 00:00:00+00:00\",\"2024-10-09 00:00:00+00:00\",\"2024-10-10 00:00:00+00:00\",\"2024-10-11 00:00:00+00:00\"],\"y\":[91.1174087524414,87.08194732666016,88.63021087646484,87.25175476074219,89.14962005615234,90.79776763916016,93.46475982666016,93.89427947998047,95.66228485107422,109.75641632080078,107.37909698486328,103.5933609008789,100.19718170166016,99.73770141601562,101.70548248291016,102.13500213623047,102.91000366210938,102.54000091552734,101.69999694824219,105.69000244140625,106.91999816894531],\"type\":\"scatter\"},{\"line\":{\"color\":\"rgba(128, 0, 128, 1.0)\",\"dash\":\"solid\",\"shape\":\"linear\",\"width\":1.3},\"mode\":\"lines\",\"name\":\"NVDA\",\"text\":\"\",\"x\":[\"2024-09-13 00:00:00+00:00\",\"2024-09-16 00:00:00+00:00\",\"2024-09-17 00:00:00+00:00\",\"2024-09-18 00:00:00+00:00\",\"2024-09-19 00:00:00+00:00\",\"2024-09-20 00:00:00+00:00\",\"2024-09-23 00:00:00+00:00\",\"2024-09-24 00:00:00+00:00\",\"2024-09-25 00:00:00+00:00\",\"2024-09-26 00:00:00+00:00\",\"2024-09-27 00:00:00+00:00\",\"2024-09-30 00:00:00+00:00\",\"2024-10-01 00:00:00+00:00\",\"2024-10-02 00:00:00+00:00\",\"2024-10-03 00:00:00+00:00\",\"2024-10-04 00:00:00+00:00\",\"2024-10-07 00:00:00+00:00\",\"2024-10-08 00:00:00+00:00\",\"2024-10-09 00:00:00+00:00\",\"2024-10-10 00:00:00+00:00\",\"2024-10-11 00:00:00+00:00\"],\"y\":[119.0999984741211,116.77999877929688,115.58999633789062,113.37000274658203,117.87000274658203,116.0,116.26000213623047,120.87000274658203,123.51000213623047,124.04000091552734,121.4000015258789,121.44000244140625,117.0,118.8499984741211,122.8499984741211,124.91999816894531,127.72000122070312,132.88999938964844,132.64999389648438,134.80999755859375,134.8000030517578],\"type\":\"scatter\"},{\"line\":{\"color\":\"rgba(219, 64, 82, 1.0)\",\"dash\":\"solid\",\"shape\":\"linear\",\"width\":1.3},\"mode\":\"lines\",\"name\":\"TSM\",\"text\":\"\",\"x\":[\"2024-09-13 00:00:00+00:00\",\"2024-09-16 00:00:00+00:00\",\"2024-09-17 00:00:00+00:00\",\"2024-09-18 00:00:00+00:00\",\"2024-09-19 00:00:00+00:00\",\"2024-09-20 00:00:00+00:00\",\"2024-09-23 00:00:00+00:00\",\"2024-09-24 00:00:00+00:00\",\"2024-09-25 00:00:00+00:00\",\"2024-09-26 00:00:00+00:00\",\"2024-09-27 00:00:00+00:00\",\"2024-09-30 00:00:00+00:00\",\"2024-10-01 00:00:00+00:00\",\"2024-10-02 00:00:00+00:00\",\"2024-10-03 00:00:00+00:00\",\"2024-10-04 00:00:00+00:00\",\"2024-10-07 00:00:00+00:00\",\"2024-10-08 00:00:00+00:00\",\"2024-10-09 00:00:00+00:00\",\"2024-10-10 00:00:00+00:00\",\"2024-10-11 00:00:00+00:00\"],\"y\":[172.5,169.0800018310547,167.35000610351562,167.27999877929688,176.22000122070312,174.0800018310547,174.75999450683594,181.97000122070312,182.35000610351562,186.8300018310547,177.97000122070312,173.6699981689453,172.07000732421875,175.8000030517578,179.47999572753906,181.16000366210938,184.50999450683594,186.0500030517578,187.13999938964844,185.77999877929688,190.80999755859375],\"type\":\"scatter\"}],                        {\"legend\":{\"bgcolor\":\"#F5F6F9\",\"font\":{\"color\":\"#4D5663\"}},\"paper_bgcolor\":\"#F5F6F9\",\"plot_bgcolor\":\"#F5F6F9\",\"template\":{\"data\":{\"barpolar\":[{\"marker\":{\"line\":{\"color\":\"#E5ECF6\",\"width\":0.5},\"pattern\":{\"fillmode\":\"overlay\",\"size\":10,\"solidity\":0.2}},\"type\":\"barpolar\"}],\"bar\":[{\"error_x\":{\"color\":\"#2a3f5f\"},\"error_y\":{\"color\":\"#2a3f5f\"},\"marker\":{\"line\":{\"color\":\"#E5ECF6\",\"width\":0.5},\"pattern\":{\"fillmode\":\"overlay\",\"size\":10,\"solidity\":0.2}},\"type\":\"bar\"}],\"carpet\":[{\"aaxis\":{\"endlinecolor\":\"#2a3f5f\",\"gridcolor\":\"white\",\"linecolor\":\"white\",\"minorgridcolor\":\"white\",\"startlinecolor\":\"#2a3f5f\"},\"baxis\":{\"endlinecolor\":\"#2a3f5f\",\"gridcolor\":\"white\",\"linecolor\":\"white\",\"minorgridcolor\":\"white\",\"startlinecolor\":\"#2a3f5f\"},\"type\":\"carpet\"}],\"choropleth\":[{\"colorbar\":{\"outlinewidth\":0,\"ticks\":\"\"},\"type\":\"choropleth\"}],\"contourcarpet\":[{\"colorbar\":{\"outlinewidth\":0,\"ticks\":\"\"},\"type\":\"contourcarpet\"}],\"contour\":[{\"colorbar\":{\"outlinewidth\":0,\"ticks\":\"\"},\"colorscale\":[[0.0,\"#0d0887\"],[0.1111111111111111,\"#46039f\"],[0.2222222222222222,\"#7201a8\"],[0.3333333333333333,\"#9c179e\"],[0.4444444444444444,\"#bd3786\"],[0.5555555555555556,\"#d8576b\"],[0.6666666666666666,\"#ed7953\"],[0.7777777777777778,\"#fb9f3a\"],[0.8888888888888888,\"#fdca26\"],[1.0,\"#f0f921\"]],\"type\":\"contour\"}],\"heatmapgl\":[{\"colorbar\":{\"outlinewidth\":0,\"ticks\":\"\"},\"colorscale\":[[0.0,\"#0d0887\"],[0.1111111111111111,\"#46039f\"],[0.2222222222222222,\"#7201a8\"],[0.3333333333333333,\"#9c179e\"],[0.4444444444444444,\"#bd3786\"],[0.5555555555555556,\"#d8576b\"],[0.6666666666666666,\"#ed7953\"],[0.7777777777777778,\"#fb9f3a\"],[0.8888888888888888,\"#fdca26\"],[1.0,\"#f0f921\"]],\"type\":\"heatmapgl\"}],\"heatmap\":[{\"colorbar\":{\"outlinewidth\":0,\"ticks\":\"\"},\"colorscale\":[[0.0,\"#0d0887\"],[0.1111111111111111,\"#46039f\"],[0.2222222222222222,\"#7201a8\"],[0.3333333333333333,\"#9c179e\"],[0.4444444444444444,\"#bd3786\"],[0.5555555555555556,\"#d8576b\"],[0.6666666666666666,\"#ed7953\"],[0.7777777777777778,\"#fb9f3a\"],[0.8888888888888888,\"#fdca26\"],[1.0,\"#f0f921\"]],\"type\":\"heatmap\"}],\"histogram2dcontour\":[{\"colorbar\":{\"outlinewidth\":0,\"ticks\":\"\"},\"colorscale\":[[0.0,\"#0d0887\"],[0.1111111111111111,\"#46039f\"],[0.2222222222222222,\"#7201a8\"],[0.3333333333333333,\"#9c179e\"],[0.4444444444444444,\"#bd3786\"],[0.5555555555555556,\"#d8576b\"],[0.6666666666666666,\"#ed7953\"],[0.7777777777777778,\"#fb9f3a\"],[0.8888888888888888,\"#fdca26\"],[1.0,\"#f0f921\"]],\"type\":\"histogram2dcontour\"}],\"histogram2d\":[{\"colorbar\":{\"outlinewidth\":0,\"ticks\":\"\"},\"colorscale\":[[0.0,\"#0d0887\"],[0.1111111111111111,\"#46039f\"],[0.2222222222222222,\"#7201a8\"],[0.3333333333333333,\"#9c179e\"],[0.4444444444444444,\"#bd3786\"],[0.5555555555555556,\"#d8576b\"],[0.6666666666666666,\"#ed7953\"],[0.7777777777777778,\"#fb9f3a\"],[0.8888888888888888,\"#fdca26\"],[1.0,\"#f0f921\"]],\"type\":\"histogram2d\"}],\"histogram\":[{\"marker\":{\"pattern\":{\"fillmode\":\"overlay\",\"size\":10,\"solidity\":0.2}},\"type\":\"histogram\"}],\"mesh3d\":[{\"colorbar\":{\"outlinewidth\":0,\"ticks\":\"\"},\"type\":\"mesh3d\"}],\"parcoords\":[{\"line\":{\"colorbar\":{\"outlinewidth\":0,\"ticks\":\"\"}},\"type\":\"parcoords\"}],\"pie\":[{\"automargin\":true,\"type\":\"pie\"}],\"scatter3d\":[{\"line\":{\"colorbar\":{\"outlinewidth\":0,\"ticks\":\"\"}},\"marker\":{\"colorbar\":{\"outlinewidth\":0,\"ticks\":\"\"}},\"type\":\"scatter3d\"}],\"scattercarpet\":[{\"marker\":{\"colorbar\":{\"outlinewidth\":0,\"ticks\":\"\"}},\"type\":\"scattercarpet\"}],\"scattergeo\":[{\"marker\":{\"colorbar\":{\"outlinewidth\":0,\"ticks\":\"\"}},\"type\":\"scattergeo\"}],\"scattergl\":[{\"marker\":{\"colorbar\":{\"outlinewidth\":0,\"ticks\":\"\"}},\"type\":\"scattergl\"}],\"scattermapbox\":[{\"marker\":{\"colorbar\":{\"outlinewidth\":0,\"ticks\":\"\"}},\"type\":\"scattermapbox\"}],\"scatterpolargl\":[{\"marker\":{\"colorbar\":{\"outlinewidth\":0,\"ticks\":\"\"}},\"type\":\"scatterpolargl\"}],\"scatterpolar\":[{\"marker\":{\"colorbar\":{\"outlinewidth\":0,\"ticks\":\"\"}},\"type\":\"scatterpolar\"}],\"scatter\":[{\"fillpattern\":{\"fillmode\":\"overlay\",\"size\":10,\"solidity\":0.2},\"type\":\"scatter\"}],\"scatterternary\":[{\"marker\":{\"colorbar\":{\"outlinewidth\":0,\"ticks\":\"\"}},\"type\":\"scatterternary\"}],\"surface\":[{\"colorbar\":{\"outlinewidth\":0,\"ticks\":\"\"},\"colorscale\":[[0.0,\"#0d0887\"],[0.1111111111111111,\"#46039f\"],[0.2222222222222222,\"#7201a8\"],[0.3333333333333333,\"#9c179e\"],[0.4444444444444444,\"#bd3786\"],[0.5555555555555556,\"#d8576b\"],[0.6666666666666666,\"#ed7953\"],[0.7777777777777778,\"#fb9f3a\"],[0.8888888888888888,\"#fdca26\"],[1.0,\"#f0f921\"]],\"type\":\"surface\"}],\"table\":[{\"cells\":{\"fill\":{\"color\":\"#EBF0F8\"},\"line\":{\"color\":\"white\"}},\"header\":{\"fill\":{\"color\":\"#C8D4E3\"},\"line\":{\"color\":\"white\"}},\"type\":\"table\"}]},\"layout\":{\"annotationdefaults\":{\"arrowcolor\":\"#2a3f5f\",\"arrowhead\":0,\"arrowwidth\":1},\"autotypenumbers\":\"strict\",\"coloraxis\":{\"colorbar\":{\"outlinewidth\":0,\"ticks\":\"\"}},\"colorscale\":{\"diverging\":[[0,\"#8e0152\"],[0.1,\"#c51b7d\"],[0.2,\"#de77ae\"],[0.3,\"#f1b6da\"],[0.4,\"#fde0ef\"],[0.5,\"#f7f7f7\"],[0.6,\"#e6f5d0\"],[0.7,\"#b8e186\"],[0.8,\"#7fbc41\"],[0.9,\"#4d9221\"],[1,\"#276419\"]],\"sequential\":[[0.0,\"#0d0887\"],[0.1111111111111111,\"#46039f\"],[0.2222222222222222,\"#7201a8\"],[0.3333333333333333,\"#9c179e\"],[0.4444444444444444,\"#bd3786\"],[0.5555555555555556,\"#d8576b\"],[0.6666666666666666,\"#ed7953\"],[0.7777777777777778,\"#fb9f3a\"],[0.8888888888888888,\"#fdca26\"],[1.0,\"#f0f921\"]],\"sequentialminus\":[[0.0,\"#0d0887\"],[0.1111111111111111,\"#46039f\"],[0.2222222222222222,\"#7201a8\"],[0.3333333333333333,\"#9c179e\"],[0.4444444444444444,\"#bd3786\"],[0.5555555555555556,\"#d8576b\"],[0.6666666666666666,\"#ed7953\"],[0.7777777777777778,\"#fb9f3a\"],[0.8888888888888888,\"#fdca26\"],[1.0,\"#f0f921\"]]},\"colorway\":[\"#636efa\",\"#EF553B\",\"#00cc96\",\"#ab63fa\",\"#FFA15A\",\"#19d3f3\",\"#FF6692\",\"#B6E880\",\"#FF97FF\",\"#FECB52\"],\"font\":{\"color\":\"#2a3f5f\"},\"geo\":{\"bgcolor\":\"white\",\"lakecolor\":\"white\",\"landcolor\":\"#E5ECF6\",\"showlakes\":true,\"showland\":true,\"subunitcolor\":\"white\"},\"hoverlabel\":{\"align\":\"left\"},\"hovermode\":\"closest\",\"mapbox\":{\"style\":\"light\"},\"paper_bgcolor\":\"white\",\"plot_bgcolor\":\"#E5ECF6\",\"polar\":{\"angularaxis\":{\"gridcolor\":\"white\",\"linecolor\":\"white\",\"ticks\":\"\"},\"bgcolor\":\"#E5ECF6\",\"radialaxis\":{\"gridcolor\":\"white\",\"linecolor\":\"white\",\"ticks\":\"\"}},\"scene\":{\"xaxis\":{\"backgroundcolor\":\"#E5ECF6\",\"gridcolor\":\"white\",\"gridwidth\":2,\"linecolor\":\"white\",\"showbackground\":true,\"ticks\":\"\",\"zerolinecolor\":\"white\"},\"yaxis\":{\"backgroundcolor\":\"#E5ECF6\",\"gridcolor\":\"white\",\"gridwidth\":2,\"linecolor\":\"white\",\"showbackground\":true,\"ticks\":\"\",\"zerolinecolor\":\"white\"},\"zaxis\":{\"backgroundcolor\":\"#E5ECF6\",\"gridcolor\":\"white\",\"gridwidth\":2,\"linecolor\":\"white\",\"showbackground\":true,\"ticks\":\"\",\"zerolinecolor\":\"white\"}},\"shapedefaults\":{\"line\":{\"color\":\"#2a3f5f\"}},\"ternary\":{\"aaxis\":{\"gridcolor\":\"white\",\"linecolor\":\"white\",\"ticks\":\"\"},\"baxis\":{\"gridcolor\":\"white\",\"linecolor\":\"white\",\"ticks\":\"\"},\"bgcolor\":\"#E5ECF6\",\"caxis\":{\"gridcolor\":\"white\",\"linecolor\":\"white\",\"ticks\":\"\"}},\"title\":{\"x\":0.05},\"xaxis\":{\"automargin\":true,\"gridcolor\":\"white\",\"linecolor\":\"white\",\"ticks\":\"\",\"title\":{\"standoff\":15},\"zerolinecolor\":\"white\",\"zerolinewidth\":2},\"yaxis\":{\"automargin\":true,\"gridcolor\":\"white\",\"linecolor\":\"white\",\"ticks\":\"\",\"title\":{\"standoff\":15},\"zerolinecolor\":\"white\",\"zerolinewidth\":2}}},\"title\":{\"font\":{\"color\":\"#4D5663\"},\"text\":\"Semiconductor Adjusted Close Prices\"},\"xaxis\":{\"gridcolor\":\"#E1E5ED\",\"showgrid\":true,\"tickfont\":{\"color\":\"#4D5663\"},\"title\":{\"font\":{\"color\":\"#4D5663\"},\"text\":\"Dates\"},\"zerolinecolor\":\"#E1E5ED\"},\"yaxis\":{\"gridcolor\":\"#E1E5ED\",\"showgrid\":true,\"tickfont\":{\"color\":\"#4D5663\"},\"title\":{\"font\":{\"color\":\"#4D5663\"},\"text\":\"Adjusted Close Prices\"},\"zerolinecolor\":\"#E1E5ED\"}},                        {\"showLink\": true, \"linkText\": \"Export to plot.ly\", \"plotlyServerURL\": \"https://plot.ly\", \"responsive\": true}                    ).then(function(){\n",
              "                            \n",
              "var gd = document.getElementById('df6a9788-47eb-49c0-a5fa-2aeacd161d0d');\n",
              "var x = new MutationObserver(function (mutations, observer) {{\n",
              "        var display = window.getComputedStyle(gd).display;\n",
              "        if (!display || display === 'none') {{\n",
              "            console.log([gd, 'removed!']);\n",
              "            Plotly.purge(gd);\n",
              "            observer.disconnect();\n",
              "        }}\n",
              "}});\n",
              "\n",
              "// Listen for the removal of the full notebook cells\n",
              "var notebookContainer = gd.closest('#notebook-container');\n",
              "if (notebookContainer) {{\n",
              "    x.observe(notebookContainer, {childList: true});\n",
              "}}\n",
              "\n",
              "// Listen for the clearing of the current output cell\n",
              "var outputEl = gd.closest('.output');\n",
              "if (outputEl) {{\n",
              "    x.observe(outputEl, {childList: true});\n",
              "}}\n",
              "\n",
              "                        })                };                });            </script>        </div>"
            ]
          },
          "metadata": {},
          "output_type": "display_data"
        }
      ],
      "source": [
        "# Create and display an interactive line plot of Adjusted Close Prices for semiconductor companies\n",
        "semiconductor_data['Adj Close'].iplot(title='Semiconductor Adjusted Close Prices', xTitle='Dates', yTitle='Adjusted Close Prices')"
      ]
    },
    {
      "cell_type": "code",
      "execution_count": 15,
      "id": "f7318365-a782-4a6d-a66d-7a6b9ffdfc27",
      "metadata": {},
      "outputs": [
        {
          "data": {
            "application/vnd.plotly.v1+json": {
              "config": {
                "linkText": "Export to plot.ly",
                "plotlyServerURL": "https://plot.ly",
                "showLink": true
              },
              "data": [
                {
                  "line": {
                    "color": "rgba(255, 153, 51, 1.0)",
                    "dash": "solid",
                    "shape": "linear",
                    "width": 1.3
                  },
                  "mode": "lines",
                  "name": "AMD",
                  "text": "",
                  "type": "scatter",
                  "x": [
                    "2024-09-13 00:00:00+00:00",
                    "2024-09-16 00:00:00+00:00",
                    "2024-09-17 00:00:00+00:00",
                    "2024-09-18 00:00:00+00:00",
                    "2024-09-19 00:00:00+00:00",
                    "2024-09-20 00:00:00+00:00",
                    "2024-09-23 00:00:00+00:00",
                    "2024-09-24 00:00:00+00:00",
                    "2024-09-25 00:00:00+00:00",
                    "2024-09-26 00:00:00+00:00",
                    "2024-09-27 00:00:00+00:00",
                    "2024-09-30 00:00:00+00:00",
                    "2024-10-01 00:00:00+00:00",
                    "2024-10-02 00:00:00+00:00",
                    "2024-10-03 00:00:00+00:00",
                    "2024-10-04 00:00:00+00:00",
                    "2024-10-07 00:00:00+00:00",
                    "2024-10-08 00:00:00+00:00",
                    "2024-10-09 00:00:00+00:00",
                    "2024-10-10 00:00:00+00:00",
                    "2024-10-11 00:00:00+00:00"
                  ],
                  "y": [
                    1,
                    0.9998489949896752,
                    0.9990206124106482,
                    0.9973447497591482,
                    1.0030279217138613,
                    1.0025223707369706,
                    1.003036651578099,
                    1.00404129265589,
                    1.0063877741786758,
                    1.0097854671845348,
                    1.0078923836293106,
                    1.0077268008853772,
                    1.005067452491702,
                    1.0050863262298466,
                    1.0070174955918265,
                    1.0119953759989462,
                    1.0120368312891308,
                    1.0131200793684023,
                    1.0120764726133626,
                    1.0080286333919501,
                    1.0103064949856218
                  ]
                },
                {
                  "line": {
                    "color": "rgba(55, 128, 191, 1.0)",
                    "dash": "solid",
                    "shape": "linear",
                    "width": 1.3
                  },
                  "mode": "lines",
                  "name": "INTC",
                  "text": "",
                  "type": "scatter",
                  "x": [
                    "2024-09-13 00:00:00+00:00",
                    "2024-09-16 00:00:00+00:00",
                    "2024-09-17 00:00:00+00:00",
                    "2024-09-18 00:00:00+00:00",
                    "2024-09-19 00:00:00+00:00",
                    "2024-09-20 00:00:00+00:00",
                    "2024-09-23 00:00:00+00:00",
                    "2024-09-24 00:00:00+00:00",
                    "2024-09-25 00:00:00+00:00",
                    "2024-09-26 00:00:00+00:00",
                    "2024-09-27 00:00:00+00:00",
                    "2024-09-30 00:00:00+00:00",
                    "2024-10-01 00:00:00+00:00",
                    "2024-10-02 00:00:00+00:00",
                    "2024-10-03 00:00:00+00:00",
                    "2024-10-04 00:00:00+00:00",
                    "2024-10-07 00:00:00+00:00",
                    "2024-10-08 00:00:00+00:00",
                    "2024-10-09 00:00:00+00:00",
                    "2024-10-10 00:00:00+00:00",
                    "2024-10-11 00:00:00+00:00"
                  ],
                  "y": [
                    1,
                    1.0127161750732623,
                    1.0181405703035897,
                    1.011501564650713,
                    1.0151053633052347,
                    1.021827922901197,
                    1.0285652433930939,
                    1.0308448649971322,
                    1.0374430084724857,
                    1.040792434617178,
                    1.040705409846848,
                    1.0367880678860366,
                    1.029982225255904,
                    1.0272585951190596,
                    1.0260657165223992,
                    1.0291079591521226,
                    1.0271946019971572,
                    1.0358234090629868,
                    1.0370671024330562,
                    1.0349452279494136,
                    1.0379760767506927
                  ]
                },
                {
                  "line": {
                    "color": "rgba(50, 171, 96, 1.0)",
                    "dash": "solid",
                    "shape": "linear",
                    "width": 1.3
                  },
                  "mode": "lines",
                  "name": "MU",
                  "text": "",
                  "type": "scatter",
                  "x": [
                    "2024-09-13 00:00:00+00:00",
                    "2024-09-16 00:00:00+00:00",
                    "2024-09-17 00:00:00+00:00",
                    "2024-09-18 00:00:00+00:00",
                    "2024-09-19 00:00:00+00:00",
                    "2024-09-20 00:00:00+00:00",
                    "2024-09-23 00:00:00+00:00",
                    "2024-09-24 00:00:00+00:00",
                    "2024-09-25 00:00:00+00:00",
                    "2024-09-26 00:00:00+00:00",
                    "2024-09-27 00:00:00+00:00",
                    "2024-09-30 00:00:00+00:00",
                    "2024-10-01 00:00:00+00:00",
                    "2024-10-02 00:00:00+00:00",
                    "2024-10-03 00:00:00+00:00",
                    "2024-10-04 00:00:00+00:00",
                    "2024-10-07 00:00:00+00:00",
                    "2024-10-08 00:00:00+00:00",
                    "2024-10-09 00:00:00+00:00",
                    "2024-10-10 00:00:00+00:00",
                    "2024-10-11 00:00:00+00:00"
                  ],
                  "y": [
                    1,
                    0.9889278528630427,
                    0.9933234853534112,
                    0.9894612220807195,
                    0.9948418133355617,
                    0.9994398310531115,
                    1.006778938309272,
                    1.0079356077891775,
                    1.0126804004915588,
                    1.0499804992806563,
                    1.0442948659779039,
                    1.0350905029606552,
                    1.0266069650078045,
                    1.0254300215710845,
                    1.0304878426187551,
                    1.0315758242351514,
                    1.0335327264261742,
                    1.032603735235202,
                    1.0304889721513162,
                    1.0405962897100898,
                    1.0436238442584636
                  ]
                },
                {
                  "line": {
                    "color": "rgba(128, 0, 128, 1.0)",
                    "dash": "solid",
                    "shape": "linear",
                    "width": 1.3
                  },
                  "mode": "lines",
                  "name": "NVDA",
                  "text": "",
                  "type": "scatter",
                  "x": [
                    "2024-09-13 00:00:00+00:00",
                    "2024-09-16 00:00:00+00:00",
                    "2024-09-17 00:00:00+00:00",
                    "2024-09-18 00:00:00+00:00",
                    "2024-09-19 00:00:00+00:00",
                    "2024-09-20 00:00:00+00:00",
                    "2024-09-23 00:00:00+00:00",
                    "2024-09-24 00:00:00+00:00",
                    "2024-09-25 00:00:00+00:00",
                    "2024-09-26 00:00:00+00:00",
                    "2024-09-27 00:00:00+00:00",
                    "2024-09-30 00:00:00+00:00",
                    "2024-10-01 00:00:00+00:00",
                    "2024-10-02 00:00:00+00:00",
                    "2024-10-03 00:00:00+00:00",
                    "2024-10-04 00:00:00+00:00",
                    "2024-10-07 00:00:00+00:00",
                    "2024-10-08 00:00:00+00:00",
                    "2024-10-09 00:00:00+00:00",
                    "2024-10-10 00:00:00+00:00",
                    "2024-10-11 00:00:00+00:00"
                  ],
                  "y": [
                    1,
                    0.9951301433153915,
                    0.992595018909584,
                    0.9878291337755827,
                    0.9976316189883745,
                    0.9936747728355915,
                    0.9942315779296768,
                    1.004087521712724,
                    1.0095702518861338,
                    1.0106533038492531,
                    1.0052757561113963,
                    1.0053585649048407,
                    0.9961692648535253,
                    1.0001071101952888,
                    1.008521978710521,
                    1.0127703307945346,
                    1.0184454830089928,
                    1.0287519370334264,
                    1.0282874436232277,
                    1.0324734683991892,
                    1.0324543320900788
                  ]
                },
                {
                  "line": {
                    "color": "rgba(219, 64, 82, 1.0)",
                    "dash": "solid",
                    "shape": "linear",
                    "width": 1.3
                  },
                  "mode": "lines",
                  "name": "TSM",
                  "text": "",
                  "type": "scatter",
                  "x": [
                    "2024-09-13 00:00:00+00:00",
                    "2024-09-16 00:00:00+00:00",
                    "2024-09-17 00:00:00+00:00",
                    "2024-09-18 00:00:00+00:00",
                    "2024-09-19 00:00:00+00:00",
                    "2024-09-20 00:00:00+00:00",
                    "2024-09-23 00:00:00+00:00",
                    "2024-09-24 00:00:00+00:00",
                    "2024-09-25 00:00:00+00:00",
                    "2024-09-26 00:00:00+00:00",
                    "2024-09-27 00:00:00+00:00",
                    "2024-09-30 00:00:00+00:00",
                    "2024-10-01 00:00:00+00:00",
                    "2024-10-02 00:00:00+00:00",
                    "2024-10-03 00:00:00+00:00",
                    "2024-10-04 00:00:00+00:00",
                    "2024-10-07 00:00:00+00:00",
                    "2024-10-08 00:00:00+00:00",
                    "2024-10-09 00:00:00+00:00",
                    "2024-10-10 00:00:00+00:00",
                    "2024-10-11 00:00:00+00:00"
                  ],
                  "y": [
                    1,
                    0.9960347847316576,
                    0.9939965354964964,
                    0.9939133720244978,
                    1.0045369827816555,
                    1.0020971819473115,
                    1.0028800619300524,
                    1.0111551502878018,
                    1.0115774659352303,
                    1.016547976024374,
                    1.0069064670592647,
                    1.0020408145880708,
                    1.000194489780923,
                    1.0045307727062343,
                    1.0087363083398913,
                    1.0106247472102294,
                    1.0143624195243932,
                    1.0160556901766313,
                    1.0172462270895248,
                    1.0157677024617258,
                    1.021268090379697
                  ]
                }
              ],
              "layout": {
                "legend": {
                  "bgcolor": "#F5F6F9",
                  "font": {
                    "color": "#4D5663"
                  }
                },
                "paper_bgcolor": "#F5F6F9",
                "plot_bgcolor": "#F5F6F9",
                "template": {
                  "data": {
                    "bar": [
                      {
                        "error_x": {
                          "color": "#2a3f5f"
                        },
                        "error_y": {
                          "color": "#2a3f5f"
                        },
                        "marker": {
                          "line": {
                            "color": "#E5ECF6",
                            "width": 0.5
                          },
                          "pattern": {
                            "fillmode": "overlay",
                            "size": 10,
                            "solidity": 0.2
                          }
                        },
                        "type": "bar"
                      }
                    ],
                    "barpolar": [
                      {
                        "marker": {
                          "line": {
                            "color": "#E5ECF6",
                            "width": 0.5
                          },
                          "pattern": {
                            "fillmode": "overlay",
                            "size": 10,
                            "solidity": 0.2
                          }
                        },
                        "type": "barpolar"
                      }
                    ],
                    "carpet": [
                      {
                        "aaxis": {
                          "endlinecolor": "#2a3f5f",
                          "gridcolor": "white",
                          "linecolor": "white",
                          "minorgridcolor": "white",
                          "startlinecolor": "#2a3f5f"
                        },
                        "baxis": {
                          "endlinecolor": "#2a3f5f",
                          "gridcolor": "white",
                          "linecolor": "white",
                          "minorgridcolor": "white",
                          "startlinecolor": "#2a3f5f"
                        },
                        "type": "carpet"
                      }
                    ],
                    "choropleth": [
                      {
                        "colorbar": {
                          "outlinewidth": 0,
                          "ticks": ""
                        },
                        "type": "choropleth"
                      }
                    ],
                    "contour": [
                      {
                        "colorbar": {
                          "outlinewidth": 0,
                          "ticks": ""
                        },
                        "colorscale": [
                          [
                            0,
                            "#0d0887"
                          ],
                          [
                            0.1111111111111111,
                            "#46039f"
                          ],
                          [
                            0.2222222222222222,
                            "#7201a8"
                          ],
                          [
                            0.3333333333333333,
                            "#9c179e"
                          ],
                          [
                            0.4444444444444444,
                            "#bd3786"
                          ],
                          [
                            0.5555555555555556,
                            "#d8576b"
                          ],
                          [
                            0.6666666666666666,
                            "#ed7953"
                          ],
                          [
                            0.7777777777777778,
                            "#fb9f3a"
                          ],
                          [
                            0.8888888888888888,
                            "#fdca26"
                          ],
                          [
                            1,
                            "#f0f921"
                          ]
                        ],
                        "type": "contour"
                      }
                    ],
                    "contourcarpet": [
                      {
                        "colorbar": {
                          "outlinewidth": 0,
                          "ticks": ""
                        },
                        "type": "contourcarpet"
                      }
                    ],
                    "heatmap": [
                      {
                        "colorbar": {
                          "outlinewidth": 0,
                          "ticks": ""
                        },
                        "colorscale": [
                          [
                            0,
                            "#0d0887"
                          ],
                          [
                            0.1111111111111111,
                            "#46039f"
                          ],
                          [
                            0.2222222222222222,
                            "#7201a8"
                          ],
                          [
                            0.3333333333333333,
                            "#9c179e"
                          ],
                          [
                            0.4444444444444444,
                            "#bd3786"
                          ],
                          [
                            0.5555555555555556,
                            "#d8576b"
                          ],
                          [
                            0.6666666666666666,
                            "#ed7953"
                          ],
                          [
                            0.7777777777777778,
                            "#fb9f3a"
                          ],
                          [
                            0.8888888888888888,
                            "#fdca26"
                          ],
                          [
                            1,
                            "#f0f921"
                          ]
                        ],
                        "type": "heatmap"
                      }
                    ],
                    "heatmapgl": [
                      {
                        "colorbar": {
                          "outlinewidth": 0,
                          "ticks": ""
                        },
                        "colorscale": [
                          [
                            0,
                            "#0d0887"
                          ],
                          [
                            0.1111111111111111,
                            "#46039f"
                          ],
                          [
                            0.2222222222222222,
                            "#7201a8"
                          ],
                          [
                            0.3333333333333333,
                            "#9c179e"
                          ],
                          [
                            0.4444444444444444,
                            "#bd3786"
                          ],
                          [
                            0.5555555555555556,
                            "#d8576b"
                          ],
                          [
                            0.6666666666666666,
                            "#ed7953"
                          ],
                          [
                            0.7777777777777778,
                            "#fb9f3a"
                          ],
                          [
                            0.8888888888888888,
                            "#fdca26"
                          ],
                          [
                            1,
                            "#f0f921"
                          ]
                        ],
                        "type": "heatmapgl"
                      }
                    ],
                    "histogram": [
                      {
                        "marker": {
                          "pattern": {
                            "fillmode": "overlay",
                            "size": 10,
                            "solidity": 0.2
                          }
                        },
                        "type": "histogram"
                      }
                    ],
                    "histogram2d": [
                      {
                        "colorbar": {
                          "outlinewidth": 0,
                          "ticks": ""
                        },
                        "colorscale": [
                          [
                            0,
                            "#0d0887"
                          ],
                          [
                            0.1111111111111111,
                            "#46039f"
                          ],
                          [
                            0.2222222222222222,
                            "#7201a8"
                          ],
                          [
                            0.3333333333333333,
                            "#9c179e"
                          ],
                          [
                            0.4444444444444444,
                            "#bd3786"
                          ],
                          [
                            0.5555555555555556,
                            "#d8576b"
                          ],
                          [
                            0.6666666666666666,
                            "#ed7953"
                          ],
                          [
                            0.7777777777777778,
                            "#fb9f3a"
                          ],
                          [
                            0.8888888888888888,
                            "#fdca26"
                          ],
                          [
                            1,
                            "#f0f921"
                          ]
                        ],
                        "type": "histogram2d"
                      }
                    ],
                    "histogram2dcontour": [
                      {
                        "colorbar": {
                          "outlinewidth": 0,
                          "ticks": ""
                        },
                        "colorscale": [
                          [
                            0,
                            "#0d0887"
                          ],
                          [
                            0.1111111111111111,
                            "#46039f"
                          ],
                          [
                            0.2222222222222222,
                            "#7201a8"
                          ],
                          [
                            0.3333333333333333,
                            "#9c179e"
                          ],
                          [
                            0.4444444444444444,
                            "#bd3786"
                          ],
                          [
                            0.5555555555555556,
                            "#d8576b"
                          ],
                          [
                            0.6666666666666666,
                            "#ed7953"
                          ],
                          [
                            0.7777777777777778,
                            "#fb9f3a"
                          ],
                          [
                            0.8888888888888888,
                            "#fdca26"
                          ],
                          [
                            1,
                            "#f0f921"
                          ]
                        ],
                        "type": "histogram2dcontour"
                      }
                    ],
                    "mesh3d": [
                      {
                        "colorbar": {
                          "outlinewidth": 0,
                          "ticks": ""
                        },
                        "type": "mesh3d"
                      }
                    ],
                    "parcoords": [
                      {
                        "line": {
                          "colorbar": {
                            "outlinewidth": 0,
                            "ticks": ""
                          }
                        },
                        "type": "parcoords"
                      }
                    ],
                    "pie": [
                      {
                        "automargin": true,
                        "type": "pie"
                      }
                    ],
                    "scatter": [
                      {
                        "fillpattern": {
                          "fillmode": "overlay",
                          "size": 10,
                          "solidity": 0.2
                        },
                        "type": "scatter"
                      }
                    ],
                    "scatter3d": [
                      {
                        "line": {
                          "colorbar": {
                            "outlinewidth": 0,
                            "ticks": ""
                          }
                        },
                        "marker": {
                          "colorbar": {
                            "outlinewidth": 0,
                            "ticks": ""
                          }
                        },
                        "type": "scatter3d"
                      }
                    ],
                    "scattercarpet": [
                      {
                        "marker": {
                          "colorbar": {
                            "outlinewidth": 0,
                            "ticks": ""
                          }
                        },
                        "type": "scattercarpet"
                      }
                    ],
                    "scattergeo": [
                      {
                        "marker": {
                          "colorbar": {
                            "outlinewidth": 0,
                            "ticks": ""
                          }
                        },
                        "type": "scattergeo"
                      }
                    ],
                    "scattergl": [
                      {
                        "marker": {
                          "colorbar": {
                            "outlinewidth": 0,
                            "ticks": ""
                          }
                        },
                        "type": "scattergl"
                      }
                    ],
                    "scattermapbox": [
                      {
                        "marker": {
                          "colorbar": {
                            "outlinewidth": 0,
                            "ticks": ""
                          }
                        },
                        "type": "scattermapbox"
                      }
                    ],
                    "scatterpolar": [
                      {
                        "marker": {
                          "colorbar": {
                            "outlinewidth": 0,
                            "ticks": ""
                          }
                        },
                        "type": "scatterpolar"
                      }
                    ],
                    "scatterpolargl": [
                      {
                        "marker": {
                          "colorbar": {
                            "outlinewidth": 0,
                            "ticks": ""
                          }
                        },
                        "type": "scatterpolargl"
                      }
                    ],
                    "scatterternary": [
                      {
                        "marker": {
                          "colorbar": {
                            "outlinewidth": 0,
                            "ticks": ""
                          }
                        },
                        "type": "scatterternary"
                      }
                    ],
                    "surface": [
                      {
                        "colorbar": {
                          "outlinewidth": 0,
                          "ticks": ""
                        },
                        "colorscale": [
                          [
                            0,
                            "#0d0887"
                          ],
                          [
                            0.1111111111111111,
                            "#46039f"
                          ],
                          [
                            0.2222222222222222,
                            "#7201a8"
                          ],
                          [
                            0.3333333333333333,
                            "#9c179e"
                          ],
                          [
                            0.4444444444444444,
                            "#bd3786"
                          ],
                          [
                            0.5555555555555556,
                            "#d8576b"
                          ],
                          [
                            0.6666666666666666,
                            "#ed7953"
                          ],
                          [
                            0.7777777777777778,
                            "#fb9f3a"
                          ],
                          [
                            0.8888888888888888,
                            "#fdca26"
                          ],
                          [
                            1,
                            "#f0f921"
                          ]
                        ],
                        "type": "surface"
                      }
                    ],
                    "table": [
                      {
                        "cells": {
                          "fill": {
                            "color": "#EBF0F8"
                          },
                          "line": {
                            "color": "white"
                          }
                        },
                        "header": {
                          "fill": {
                            "color": "#C8D4E3"
                          },
                          "line": {
                            "color": "white"
                          }
                        },
                        "type": "table"
                      }
                    ]
                  },
                  "layout": {
                    "annotationdefaults": {
                      "arrowcolor": "#2a3f5f",
                      "arrowhead": 0,
                      "arrowwidth": 1
                    },
                    "autotypenumbers": "strict",
                    "coloraxis": {
                      "colorbar": {
                        "outlinewidth": 0,
                        "ticks": ""
                      }
                    },
                    "colorscale": {
                      "diverging": [
                        [
                          0,
                          "#8e0152"
                        ],
                        [
                          0.1,
                          "#c51b7d"
                        ],
                        [
                          0.2,
                          "#de77ae"
                        ],
                        [
                          0.3,
                          "#f1b6da"
                        ],
                        [
                          0.4,
                          "#fde0ef"
                        ],
                        [
                          0.5,
                          "#f7f7f7"
                        ],
                        [
                          0.6,
                          "#e6f5d0"
                        ],
                        [
                          0.7,
                          "#b8e186"
                        ],
                        [
                          0.8,
                          "#7fbc41"
                        ],
                        [
                          0.9,
                          "#4d9221"
                        ],
                        [
                          1,
                          "#276419"
                        ]
                      ],
                      "sequential": [
                        [
                          0,
                          "#0d0887"
                        ],
                        [
                          0.1111111111111111,
                          "#46039f"
                        ],
                        [
                          0.2222222222222222,
                          "#7201a8"
                        ],
                        [
                          0.3333333333333333,
                          "#9c179e"
                        ],
                        [
                          0.4444444444444444,
                          "#bd3786"
                        ],
                        [
                          0.5555555555555556,
                          "#d8576b"
                        ],
                        [
                          0.6666666666666666,
                          "#ed7953"
                        ],
                        [
                          0.7777777777777778,
                          "#fb9f3a"
                        ],
                        [
                          0.8888888888888888,
                          "#fdca26"
                        ],
                        [
                          1,
                          "#f0f921"
                        ]
                      ],
                      "sequentialminus": [
                        [
                          0,
                          "#0d0887"
                        ],
                        [
                          0.1111111111111111,
                          "#46039f"
                        ],
                        [
                          0.2222222222222222,
                          "#7201a8"
                        ],
                        [
                          0.3333333333333333,
                          "#9c179e"
                        ],
                        [
                          0.4444444444444444,
                          "#bd3786"
                        ],
                        [
                          0.5555555555555556,
                          "#d8576b"
                        ],
                        [
                          0.6666666666666666,
                          "#ed7953"
                        ],
                        [
                          0.7777777777777778,
                          "#fb9f3a"
                        ],
                        [
                          0.8888888888888888,
                          "#fdca26"
                        ],
                        [
                          1,
                          "#f0f921"
                        ]
                      ]
                    },
                    "colorway": [
                      "#636efa",
                      "#EF553B",
                      "#00cc96",
                      "#ab63fa",
                      "#FFA15A",
                      "#19d3f3",
                      "#FF6692",
                      "#B6E880",
                      "#FF97FF",
                      "#FECB52"
                    ],
                    "font": {
                      "color": "#2a3f5f"
                    },
                    "geo": {
                      "bgcolor": "white",
                      "lakecolor": "white",
                      "landcolor": "#E5ECF6",
                      "showlakes": true,
                      "showland": true,
                      "subunitcolor": "white"
                    },
                    "hoverlabel": {
                      "align": "left"
                    },
                    "hovermode": "closest",
                    "mapbox": {
                      "style": "light"
                    },
                    "paper_bgcolor": "white",
                    "plot_bgcolor": "#E5ECF6",
                    "polar": {
                      "angularaxis": {
                        "gridcolor": "white",
                        "linecolor": "white",
                        "ticks": ""
                      },
                      "bgcolor": "#E5ECF6",
                      "radialaxis": {
                        "gridcolor": "white",
                        "linecolor": "white",
                        "ticks": ""
                      }
                    },
                    "scene": {
                      "xaxis": {
                        "backgroundcolor": "#E5ECF6",
                        "gridcolor": "white",
                        "gridwidth": 2,
                        "linecolor": "white",
                        "showbackground": true,
                        "ticks": "",
                        "zerolinecolor": "white"
                      },
                      "yaxis": {
                        "backgroundcolor": "#E5ECF6",
                        "gridcolor": "white",
                        "gridwidth": 2,
                        "linecolor": "white",
                        "showbackground": true,
                        "ticks": "",
                        "zerolinecolor": "white"
                      },
                      "zaxis": {
                        "backgroundcolor": "#E5ECF6",
                        "gridcolor": "white",
                        "gridwidth": 2,
                        "linecolor": "white",
                        "showbackground": true,
                        "ticks": "",
                        "zerolinecolor": "white"
                      }
                    },
                    "shapedefaults": {
                      "line": {
                        "color": "#2a3f5f"
                      }
                    },
                    "ternary": {
                      "aaxis": {
                        "gridcolor": "white",
                        "linecolor": "white",
                        "ticks": ""
                      },
                      "baxis": {
                        "gridcolor": "white",
                        "linecolor": "white",
                        "ticks": ""
                      },
                      "bgcolor": "#E5ECF6",
                      "caxis": {
                        "gridcolor": "white",
                        "linecolor": "white",
                        "ticks": ""
                      }
                    },
                    "title": {
                      "x": 0.05
                    },
                    "xaxis": {
                      "automargin": true,
                      "gridcolor": "white",
                      "linecolor": "white",
                      "ticks": "",
                      "title": {
                        "standoff": 15
                      },
                      "zerolinecolor": "white",
                      "zerolinewidth": 2
                    },
                    "yaxis": {
                      "automargin": true,
                      "gridcolor": "white",
                      "linecolor": "white",
                      "ticks": "",
                      "title": {
                        "standoff": 15
                      },
                      "zerolinecolor": "white",
                      "zerolinewidth": 2
                    }
                  }
                },
                "title": {
                  "font": {
                    "color": "#4D5663"
                  },
                  "text": "Cumulative Semiconductor Returns"
                },
                "xaxis": {
                  "gridcolor": "#E1E5ED",
                  "showgrid": true,
                  "tickfont": {
                    "color": "#4D5663"
                  },
                  "title": {
                    "font": {
                      "color": "#4D5663"
                    },
                    "text": "Dates"
                  },
                  "zerolinecolor": "#E1E5ED"
                },
                "yaxis": {
                  "gridcolor": "#E1E5ED",
                  "showgrid": true,
                  "tickfont": {
                    "color": "#4D5663"
                  },
                  "title": {
                    "font": {
                      "color": "#4D5663"
                    },
                    "text": "Cumulative Returns"
                  },
                  "zerolinecolor": "#E1E5ED"
                }
              }
            },
            "text/html": [
              "<div>                            <div id=\"beaaf54d-4433-4cf3-8b52-979d2b734130\" class=\"plotly-graph-div\" style=\"height:525px; width:100%;\"></div>            <script type=\"text/javascript\">                require([\"plotly\"], function(Plotly) {                    window.PLOTLYENV=window.PLOTLYENV || {};\n",
              "                    window.PLOTLYENV.BASE_URL='https://plot.ly';                                    if (document.getElementById(\"beaaf54d-4433-4cf3-8b52-979d2b734130\")) {                    Plotly.newPlot(                        \"beaaf54d-4433-4cf3-8b52-979d2b734130\",                        [{\"line\":{\"color\":\"rgba(255, 153, 51, 1.0)\",\"dash\":\"solid\",\"shape\":\"linear\",\"width\":1.3},\"mode\":\"lines\",\"name\":\"AMD\",\"text\":\"\",\"x\":[\"2024-09-13 00:00:00+00:00\",\"2024-09-16 00:00:00+00:00\",\"2024-09-17 00:00:00+00:00\",\"2024-09-18 00:00:00+00:00\",\"2024-09-19 00:00:00+00:00\",\"2024-09-20 00:00:00+00:00\",\"2024-09-23 00:00:00+00:00\",\"2024-09-24 00:00:00+00:00\",\"2024-09-25 00:00:00+00:00\",\"2024-09-26 00:00:00+00:00\",\"2024-09-27 00:00:00+00:00\",\"2024-09-30 00:00:00+00:00\",\"2024-10-01 00:00:00+00:00\",\"2024-10-02 00:00:00+00:00\",\"2024-10-03 00:00:00+00:00\",\"2024-10-04 00:00:00+00:00\",\"2024-10-07 00:00:00+00:00\",\"2024-10-08 00:00:00+00:00\",\"2024-10-09 00:00:00+00:00\",\"2024-10-10 00:00:00+00:00\",\"2024-10-11 00:00:00+00:00\"],\"y\":[1.0,0.9998489949896752,0.9990206124106482,0.9973447497591482,1.0030279217138613,1.0025223707369706,1.003036651578099,1.00404129265589,1.0063877741786758,1.0097854671845348,1.0078923836293106,1.0077268008853772,1.005067452491702,1.0050863262298466,1.0070174955918265,1.0119953759989462,1.0120368312891308,1.0131200793684023,1.0120764726133626,1.0080286333919501,1.0103064949856218],\"type\":\"scatter\"},{\"line\":{\"color\":\"rgba(55, 128, 191, 1.0)\",\"dash\":\"solid\",\"shape\":\"linear\",\"width\":1.3},\"mode\":\"lines\",\"name\":\"INTC\",\"text\":\"\",\"x\":[\"2024-09-13 00:00:00+00:00\",\"2024-09-16 00:00:00+00:00\",\"2024-09-17 00:00:00+00:00\",\"2024-09-18 00:00:00+00:00\",\"2024-09-19 00:00:00+00:00\",\"2024-09-20 00:00:00+00:00\",\"2024-09-23 00:00:00+00:00\",\"2024-09-24 00:00:00+00:00\",\"2024-09-25 00:00:00+00:00\",\"2024-09-26 00:00:00+00:00\",\"2024-09-27 00:00:00+00:00\",\"2024-09-30 00:00:00+00:00\",\"2024-10-01 00:00:00+00:00\",\"2024-10-02 00:00:00+00:00\",\"2024-10-03 00:00:00+00:00\",\"2024-10-04 00:00:00+00:00\",\"2024-10-07 00:00:00+00:00\",\"2024-10-08 00:00:00+00:00\",\"2024-10-09 00:00:00+00:00\",\"2024-10-10 00:00:00+00:00\",\"2024-10-11 00:00:00+00:00\"],\"y\":[1.0,1.0127161750732623,1.0181405703035897,1.011501564650713,1.0151053633052347,1.021827922901197,1.0285652433930939,1.0308448649971322,1.0374430084724857,1.040792434617178,1.040705409846848,1.0367880678860366,1.029982225255904,1.0272585951190596,1.0260657165223992,1.0291079591521226,1.0271946019971572,1.0358234090629868,1.0370671024330562,1.0349452279494136,1.0379760767506927],\"type\":\"scatter\"},{\"line\":{\"color\":\"rgba(50, 171, 96, 1.0)\",\"dash\":\"solid\",\"shape\":\"linear\",\"width\":1.3},\"mode\":\"lines\",\"name\":\"MU\",\"text\":\"\",\"x\":[\"2024-09-13 00:00:00+00:00\",\"2024-09-16 00:00:00+00:00\",\"2024-09-17 00:00:00+00:00\",\"2024-09-18 00:00:00+00:00\",\"2024-09-19 00:00:00+00:00\",\"2024-09-20 00:00:00+00:00\",\"2024-09-23 00:00:00+00:00\",\"2024-09-24 00:00:00+00:00\",\"2024-09-25 00:00:00+00:00\",\"2024-09-26 00:00:00+00:00\",\"2024-09-27 00:00:00+00:00\",\"2024-09-30 00:00:00+00:00\",\"2024-10-01 00:00:00+00:00\",\"2024-10-02 00:00:00+00:00\",\"2024-10-03 00:00:00+00:00\",\"2024-10-04 00:00:00+00:00\",\"2024-10-07 00:00:00+00:00\",\"2024-10-08 00:00:00+00:00\",\"2024-10-09 00:00:00+00:00\",\"2024-10-10 00:00:00+00:00\",\"2024-10-11 00:00:00+00:00\"],\"y\":[1.0,0.9889278528630427,0.9933234853534112,0.9894612220807195,0.9948418133355617,0.9994398310531115,1.006778938309272,1.0079356077891775,1.0126804004915588,1.0499804992806563,1.0442948659779039,1.0350905029606552,1.0266069650078045,1.0254300215710845,1.0304878426187551,1.0315758242351514,1.0335327264261742,1.032603735235202,1.0304889721513162,1.0405962897100898,1.0436238442584636],\"type\":\"scatter\"},{\"line\":{\"color\":\"rgba(128, 0, 128, 1.0)\",\"dash\":\"solid\",\"shape\":\"linear\",\"width\":1.3},\"mode\":\"lines\",\"name\":\"NVDA\",\"text\":\"\",\"x\":[\"2024-09-13 00:00:00+00:00\",\"2024-09-16 00:00:00+00:00\",\"2024-09-17 00:00:00+00:00\",\"2024-09-18 00:00:00+00:00\",\"2024-09-19 00:00:00+00:00\",\"2024-09-20 00:00:00+00:00\",\"2024-09-23 00:00:00+00:00\",\"2024-09-24 00:00:00+00:00\",\"2024-09-25 00:00:00+00:00\",\"2024-09-26 00:00:00+00:00\",\"2024-09-27 00:00:00+00:00\",\"2024-09-30 00:00:00+00:00\",\"2024-10-01 00:00:00+00:00\",\"2024-10-02 00:00:00+00:00\",\"2024-10-03 00:00:00+00:00\",\"2024-10-04 00:00:00+00:00\",\"2024-10-07 00:00:00+00:00\",\"2024-10-08 00:00:00+00:00\",\"2024-10-09 00:00:00+00:00\",\"2024-10-10 00:00:00+00:00\",\"2024-10-11 00:00:00+00:00\"],\"y\":[1.0,0.9951301433153915,0.992595018909584,0.9878291337755827,0.9976316189883745,0.9936747728355915,0.9942315779296768,1.004087521712724,1.0095702518861338,1.0106533038492531,1.0052757561113963,1.0053585649048407,0.9961692648535253,1.0001071101952888,1.008521978710521,1.0127703307945346,1.0184454830089928,1.0287519370334264,1.0282874436232277,1.0324734683991892,1.0324543320900788],\"type\":\"scatter\"},{\"line\":{\"color\":\"rgba(219, 64, 82, 1.0)\",\"dash\":\"solid\",\"shape\":\"linear\",\"width\":1.3},\"mode\":\"lines\",\"name\":\"TSM\",\"text\":\"\",\"x\":[\"2024-09-13 00:00:00+00:00\",\"2024-09-16 00:00:00+00:00\",\"2024-09-17 00:00:00+00:00\",\"2024-09-18 00:00:00+00:00\",\"2024-09-19 00:00:00+00:00\",\"2024-09-20 00:00:00+00:00\",\"2024-09-23 00:00:00+00:00\",\"2024-09-24 00:00:00+00:00\",\"2024-09-25 00:00:00+00:00\",\"2024-09-26 00:00:00+00:00\",\"2024-09-27 00:00:00+00:00\",\"2024-09-30 00:00:00+00:00\",\"2024-10-01 00:00:00+00:00\",\"2024-10-02 00:00:00+00:00\",\"2024-10-03 00:00:00+00:00\",\"2024-10-04 00:00:00+00:00\",\"2024-10-07 00:00:00+00:00\",\"2024-10-08 00:00:00+00:00\",\"2024-10-09 00:00:00+00:00\",\"2024-10-10 00:00:00+00:00\",\"2024-10-11 00:00:00+00:00\"],\"y\":[1.0,0.9960347847316576,0.9939965354964964,0.9939133720244978,1.0045369827816555,1.0020971819473115,1.0028800619300524,1.0111551502878018,1.0115774659352303,1.016547976024374,1.0069064670592647,1.0020408145880708,1.000194489780923,1.0045307727062343,1.0087363083398913,1.0106247472102294,1.0143624195243932,1.0160556901766313,1.0172462270895248,1.0157677024617258,1.021268090379697],\"type\":\"scatter\"}],                        {\"legend\":{\"bgcolor\":\"#F5F6F9\",\"font\":{\"color\":\"#4D5663\"}},\"paper_bgcolor\":\"#F5F6F9\",\"plot_bgcolor\":\"#F5F6F9\",\"template\":{\"data\":{\"barpolar\":[{\"marker\":{\"line\":{\"color\":\"#E5ECF6\",\"width\":0.5},\"pattern\":{\"fillmode\":\"overlay\",\"size\":10,\"solidity\":0.2}},\"type\":\"barpolar\"}],\"bar\":[{\"error_x\":{\"color\":\"#2a3f5f\"},\"error_y\":{\"color\":\"#2a3f5f\"},\"marker\":{\"line\":{\"color\":\"#E5ECF6\",\"width\":0.5},\"pattern\":{\"fillmode\":\"overlay\",\"size\":10,\"solidity\":0.2}},\"type\":\"bar\"}],\"carpet\":[{\"aaxis\":{\"endlinecolor\":\"#2a3f5f\",\"gridcolor\":\"white\",\"linecolor\":\"white\",\"minorgridcolor\":\"white\",\"startlinecolor\":\"#2a3f5f\"},\"baxis\":{\"endlinecolor\":\"#2a3f5f\",\"gridcolor\":\"white\",\"linecolor\":\"white\",\"minorgridcolor\":\"white\",\"startlinecolor\":\"#2a3f5f\"},\"type\":\"carpet\"}],\"choropleth\":[{\"colorbar\":{\"outlinewidth\":0,\"ticks\":\"\"},\"type\":\"choropleth\"}],\"contourcarpet\":[{\"colorbar\":{\"outlinewidth\":0,\"ticks\":\"\"},\"type\":\"contourcarpet\"}],\"contour\":[{\"colorbar\":{\"outlinewidth\":0,\"ticks\":\"\"},\"colorscale\":[[0.0,\"#0d0887\"],[0.1111111111111111,\"#46039f\"],[0.2222222222222222,\"#7201a8\"],[0.3333333333333333,\"#9c179e\"],[0.4444444444444444,\"#bd3786\"],[0.5555555555555556,\"#d8576b\"],[0.6666666666666666,\"#ed7953\"],[0.7777777777777778,\"#fb9f3a\"],[0.8888888888888888,\"#fdca26\"],[1.0,\"#f0f921\"]],\"type\":\"contour\"}],\"heatmapgl\":[{\"colorbar\":{\"outlinewidth\":0,\"ticks\":\"\"},\"colorscale\":[[0.0,\"#0d0887\"],[0.1111111111111111,\"#46039f\"],[0.2222222222222222,\"#7201a8\"],[0.3333333333333333,\"#9c179e\"],[0.4444444444444444,\"#bd3786\"],[0.5555555555555556,\"#d8576b\"],[0.6666666666666666,\"#ed7953\"],[0.7777777777777778,\"#fb9f3a\"],[0.8888888888888888,\"#fdca26\"],[1.0,\"#f0f921\"]],\"type\":\"heatmapgl\"}],\"heatmap\":[{\"colorbar\":{\"outlinewidth\":0,\"ticks\":\"\"},\"colorscale\":[[0.0,\"#0d0887\"],[0.1111111111111111,\"#46039f\"],[0.2222222222222222,\"#7201a8\"],[0.3333333333333333,\"#9c179e\"],[0.4444444444444444,\"#bd3786\"],[0.5555555555555556,\"#d8576b\"],[0.6666666666666666,\"#ed7953\"],[0.7777777777777778,\"#fb9f3a\"],[0.8888888888888888,\"#fdca26\"],[1.0,\"#f0f921\"]],\"type\":\"heatmap\"}],\"histogram2dcontour\":[{\"colorbar\":{\"outlinewidth\":0,\"ticks\":\"\"},\"colorscale\":[[0.0,\"#0d0887\"],[0.1111111111111111,\"#46039f\"],[0.2222222222222222,\"#7201a8\"],[0.3333333333333333,\"#9c179e\"],[0.4444444444444444,\"#bd3786\"],[0.5555555555555556,\"#d8576b\"],[0.6666666666666666,\"#ed7953\"],[0.7777777777777778,\"#fb9f3a\"],[0.8888888888888888,\"#fdca26\"],[1.0,\"#f0f921\"]],\"type\":\"histogram2dcontour\"}],\"histogram2d\":[{\"colorbar\":{\"outlinewidth\":0,\"ticks\":\"\"},\"colorscale\":[[0.0,\"#0d0887\"],[0.1111111111111111,\"#46039f\"],[0.2222222222222222,\"#7201a8\"],[0.3333333333333333,\"#9c179e\"],[0.4444444444444444,\"#bd3786\"],[0.5555555555555556,\"#d8576b\"],[0.6666666666666666,\"#ed7953\"],[0.7777777777777778,\"#fb9f3a\"],[0.8888888888888888,\"#fdca26\"],[1.0,\"#f0f921\"]],\"type\":\"histogram2d\"}],\"histogram\":[{\"marker\":{\"pattern\":{\"fillmode\":\"overlay\",\"size\":10,\"solidity\":0.2}},\"type\":\"histogram\"}],\"mesh3d\":[{\"colorbar\":{\"outlinewidth\":0,\"ticks\":\"\"},\"type\":\"mesh3d\"}],\"parcoords\":[{\"line\":{\"colorbar\":{\"outlinewidth\":0,\"ticks\":\"\"}},\"type\":\"parcoords\"}],\"pie\":[{\"automargin\":true,\"type\":\"pie\"}],\"scatter3d\":[{\"line\":{\"colorbar\":{\"outlinewidth\":0,\"ticks\":\"\"}},\"marker\":{\"colorbar\":{\"outlinewidth\":0,\"ticks\":\"\"}},\"type\":\"scatter3d\"}],\"scattercarpet\":[{\"marker\":{\"colorbar\":{\"outlinewidth\":0,\"ticks\":\"\"}},\"type\":\"scattercarpet\"}],\"scattergeo\":[{\"marker\":{\"colorbar\":{\"outlinewidth\":0,\"ticks\":\"\"}},\"type\":\"scattergeo\"}],\"scattergl\":[{\"marker\":{\"colorbar\":{\"outlinewidth\":0,\"ticks\":\"\"}},\"type\":\"scattergl\"}],\"scattermapbox\":[{\"marker\":{\"colorbar\":{\"outlinewidth\":0,\"ticks\":\"\"}},\"type\":\"scattermapbox\"}],\"scatterpolargl\":[{\"marker\":{\"colorbar\":{\"outlinewidth\":0,\"ticks\":\"\"}},\"type\":\"scatterpolargl\"}],\"scatterpolar\":[{\"marker\":{\"colorbar\":{\"outlinewidth\":0,\"ticks\":\"\"}},\"type\":\"scatterpolar\"}],\"scatter\":[{\"fillpattern\":{\"fillmode\":\"overlay\",\"size\":10,\"solidity\":0.2},\"type\":\"scatter\"}],\"scatterternary\":[{\"marker\":{\"colorbar\":{\"outlinewidth\":0,\"ticks\":\"\"}},\"type\":\"scatterternary\"}],\"surface\":[{\"colorbar\":{\"outlinewidth\":0,\"ticks\":\"\"},\"colorscale\":[[0.0,\"#0d0887\"],[0.1111111111111111,\"#46039f\"],[0.2222222222222222,\"#7201a8\"],[0.3333333333333333,\"#9c179e\"],[0.4444444444444444,\"#bd3786\"],[0.5555555555555556,\"#d8576b\"],[0.6666666666666666,\"#ed7953\"],[0.7777777777777778,\"#fb9f3a\"],[0.8888888888888888,\"#fdca26\"],[1.0,\"#f0f921\"]],\"type\":\"surface\"}],\"table\":[{\"cells\":{\"fill\":{\"color\":\"#EBF0F8\"},\"line\":{\"color\":\"white\"}},\"header\":{\"fill\":{\"color\":\"#C8D4E3\"},\"line\":{\"color\":\"white\"}},\"type\":\"table\"}]},\"layout\":{\"annotationdefaults\":{\"arrowcolor\":\"#2a3f5f\",\"arrowhead\":0,\"arrowwidth\":1},\"autotypenumbers\":\"strict\",\"coloraxis\":{\"colorbar\":{\"outlinewidth\":0,\"ticks\":\"\"}},\"colorscale\":{\"diverging\":[[0,\"#8e0152\"],[0.1,\"#c51b7d\"],[0.2,\"#de77ae\"],[0.3,\"#f1b6da\"],[0.4,\"#fde0ef\"],[0.5,\"#f7f7f7\"],[0.6,\"#e6f5d0\"],[0.7,\"#b8e186\"],[0.8,\"#7fbc41\"],[0.9,\"#4d9221\"],[1,\"#276419\"]],\"sequential\":[[0.0,\"#0d0887\"],[0.1111111111111111,\"#46039f\"],[0.2222222222222222,\"#7201a8\"],[0.3333333333333333,\"#9c179e\"],[0.4444444444444444,\"#bd3786\"],[0.5555555555555556,\"#d8576b\"],[0.6666666666666666,\"#ed7953\"],[0.7777777777777778,\"#fb9f3a\"],[0.8888888888888888,\"#fdca26\"],[1.0,\"#f0f921\"]],\"sequentialminus\":[[0.0,\"#0d0887\"],[0.1111111111111111,\"#46039f\"],[0.2222222222222222,\"#7201a8\"],[0.3333333333333333,\"#9c179e\"],[0.4444444444444444,\"#bd3786\"],[0.5555555555555556,\"#d8576b\"],[0.6666666666666666,\"#ed7953\"],[0.7777777777777778,\"#fb9f3a\"],[0.8888888888888888,\"#fdca26\"],[1.0,\"#f0f921\"]]},\"colorway\":[\"#636efa\",\"#EF553B\",\"#00cc96\",\"#ab63fa\",\"#FFA15A\",\"#19d3f3\",\"#FF6692\",\"#B6E880\",\"#FF97FF\",\"#FECB52\"],\"font\":{\"color\":\"#2a3f5f\"},\"geo\":{\"bgcolor\":\"white\",\"lakecolor\":\"white\",\"landcolor\":\"#E5ECF6\",\"showlakes\":true,\"showland\":true,\"subunitcolor\":\"white\"},\"hoverlabel\":{\"align\":\"left\"},\"hovermode\":\"closest\",\"mapbox\":{\"style\":\"light\"},\"paper_bgcolor\":\"white\",\"plot_bgcolor\":\"#E5ECF6\",\"polar\":{\"angularaxis\":{\"gridcolor\":\"white\",\"linecolor\":\"white\",\"ticks\":\"\"},\"bgcolor\":\"#E5ECF6\",\"radialaxis\":{\"gridcolor\":\"white\",\"linecolor\":\"white\",\"ticks\":\"\"}},\"scene\":{\"xaxis\":{\"backgroundcolor\":\"#E5ECF6\",\"gridcolor\":\"white\",\"gridwidth\":2,\"linecolor\":\"white\",\"showbackground\":true,\"ticks\":\"\",\"zerolinecolor\":\"white\"},\"yaxis\":{\"backgroundcolor\":\"#E5ECF6\",\"gridcolor\":\"white\",\"gridwidth\":2,\"linecolor\":\"white\",\"showbackground\":true,\"ticks\":\"\",\"zerolinecolor\":\"white\"},\"zaxis\":{\"backgroundcolor\":\"#E5ECF6\",\"gridcolor\":\"white\",\"gridwidth\":2,\"linecolor\":\"white\",\"showbackground\":true,\"ticks\":\"\",\"zerolinecolor\":\"white\"}},\"shapedefaults\":{\"line\":{\"color\":\"#2a3f5f\"}},\"ternary\":{\"aaxis\":{\"gridcolor\":\"white\",\"linecolor\":\"white\",\"ticks\":\"\"},\"baxis\":{\"gridcolor\":\"white\",\"linecolor\":\"white\",\"ticks\":\"\"},\"bgcolor\":\"#E5ECF6\",\"caxis\":{\"gridcolor\":\"white\",\"linecolor\":\"white\",\"ticks\":\"\"}},\"title\":{\"x\":0.05},\"xaxis\":{\"automargin\":true,\"gridcolor\":\"white\",\"linecolor\":\"white\",\"ticks\":\"\",\"title\":{\"standoff\":15},\"zerolinecolor\":\"white\",\"zerolinewidth\":2},\"yaxis\":{\"automargin\":true,\"gridcolor\":\"white\",\"linecolor\":\"white\",\"ticks\":\"\",\"title\":{\"standoff\":15},\"zerolinecolor\":\"white\",\"zerolinewidth\":2}}},\"title\":{\"font\":{\"color\":\"#4D5663\"},\"text\":\"Cumulative Semiconductor Returns\"},\"xaxis\":{\"gridcolor\":\"#E1E5ED\",\"showgrid\":true,\"tickfont\":{\"color\":\"#4D5663\"},\"title\":{\"font\":{\"color\":\"#4D5663\"},\"text\":\"Dates\"},\"zerolinecolor\":\"#E1E5ED\"},\"yaxis\":{\"gridcolor\":\"#E1E5ED\",\"showgrid\":true,\"tickfont\":{\"color\":\"#4D5663\"},\"title\":{\"font\":{\"color\":\"#4D5663\"},\"text\":\"Cumulative Returns\"},\"zerolinecolor\":\"#E1E5ED\"}},                        {\"showLink\": true, \"linkText\": \"Export to plot.ly\", \"plotlyServerURL\": \"https://plot.ly\", \"responsive\": true}                    ).then(function(){\n",
              "                            \n",
              "var gd = document.getElementById('beaaf54d-4433-4cf3-8b52-979d2b734130');\n",
              "var x = new MutationObserver(function (mutations, observer) {{\n",
              "        var display = window.getComputedStyle(gd).display;\n",
              "        if (!display || display === 'none') {{\n",
              "            console.log([gd, 'removed!']);\n",
              "            Plotly.purge(gd);\n",
              "            observer.disconnect();\n",
              "        }}\n",
              "}});\n",
              "\n",
              "// Listen for the removal of the full notebook cells\n",
              "var notebookContainer = gd.closest('#notebook-container');\n",
              "if (notebookContainer) {{\n",
              "    x.observe(notebookContainer, {childList: true});\n",
              "}}\n",
              "\n",
              "// Listen for the clearing of the current output cell\n",
              "var outputEl = gd.closest('.output');\n",
              "if (outputEl) {{\n",
              "    x.observe(outputEl, {childList: true});\n",
              "}}\n",
              "\n",
              "                        })                };                });            </script>        </div>"
            ]
          },
          "metadata": {},
          "output_type": "display_data"
        }
      ],
      "source": [
        "# Calculate and display cumulative returns for a weighted portfolio of semiconductor companies\n",
        "semiconductor_returns = semiconductor_data['Adj Close'].pct_change()\n",
        "semiconductor_returns.iloc[0, :] = 0\n",
        "weights = np.array([0.1, 0.2, 0.25, 0.25, 0.2])\n",
        "weighted_returns = weights * semiconductor_returns\n",
        "cumulative_returns = (weighted_returns + 1).cumprod()\n",
        "cumulative_returns.iplot(title='Cumulative Semiconductor Returns', xTitle='Dates', yTitle='Cumulative Returns')"
      ]
    }
  ],
  "metadata": {
    "kernelspec": {
      "display_name": "base",
      "language": "python",
      "name": "python3"
    },
    "language_info": {
      "codemirror_mode": {
        "name": "ipython",
        "version": 3
      },
      "file_extension": ".py",
      "mimetype": "text/x-python",
      "name": "python",
      "nbconvert_exporter": "python",
      "pygments_lexer": "ipython3",
      "version": "3.11.5"
    }
  },
  "nbformat": 4,
  "nbformat_minor": 4
}
